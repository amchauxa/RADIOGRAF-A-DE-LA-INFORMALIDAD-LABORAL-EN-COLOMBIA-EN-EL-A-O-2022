{
 "cells": [
  {
   "cell_type": "markdown",
   "id": "990a25f7",
   "metadata": {},
   "source": [
    "# exploración de datos, creación de variables y procesamiento base OCDE2021"
   ]
  },
  {
   "cell_type": "code",
   "execution_count": 1,
   "id": "d5e530a5",
   "metadata": {},
   "outputs": [],
   "source": [
    "import pandas as pd\n",
    "import matplotlib.pyplot as plt\n",
    "import seaborn as sns\n",
    "import numpy as np"
   ]
  },
  {
   "cell_type": "code",
   "execution_count": 2,
   "id": "351ba657",
   "metadata": {
    "scrolled": false
   },
   "outputs": [
    {
     "data": {
      "text/html": [
       "<div>\n",
       "<style scoped>\n",
       "    .dataframe tbody tr th:only-of-type {\n",
       "        vertical-align: middle;\n",
       "    }\n",
       "\n",
       "    .dataframe tbody tr th {\n",
       "        vertical-align: top;\n",
       "    }\n",
       "\n",
       "    .dataframe thead th {\n",
       "        text-align: right;\n",
       "    }\n",
       "</style>\n",
       "<table border=\"1\" class=\"dataframe\">\n",
       "  <thead>\n",
       "    <tr style=\"text-align: right;\">\n",
       "      <th></th>\n",
       "      <th>Unnamed: 0_x</th>\n",
       "      <th>DIRECTORIO</th>\n",
       "      <th>SECUENCIA_P</th>\n",
       "      <th>ORDEN</th>\n",
       "      <th>Sexo</th>\n",
       "      <th>JefeHogar</th>\n",
       "      <th>Etnia</th>\n",
       "      <th>CotizaEPS</th>\n",
       "      <th>PagoEPS</th>\n",
       "      <th>NivelEducativo</th>\n",
       "      <th>...</th>\n",
       "      <th>Pension</th>\n",
       "      <th>TipoEmpleo</th>\n",
       "      <th>Departamento</th>\n",
       "      <th>Ocupacion_informal</th>\n",
       "      <th>Ponderacion</th>\n",
       "      <th>Unnamed: 0_y</th>\n",
       "      <th>DPTO</th>\n",
       "      <th>P6500</th>\n",
       "      <th>P3051</th>\n",
       "      <th>Salario</th>\n",
       "    </tr>\n",
       "  </thead>\n",
       "  <tbody>\n",
       "    <tr>\n",
       "      <th>0</th>\n",
       "      <td>0</td>\n",
       "      <td>5000000</td>\n",
       "      <td>1</td>\n",
       "      <td>1</td>\n",
       "      <td>Hombre</td>\n",
       "      <td>JEFEHO</td>\n",
       "      <td>Ninguno</td>\n",
       "      <td>2</td>\n",
       "      <td>NaN</td>\n",
       "      <td>Bachillerato</td>\n",
       "      <td>...</td>\n",
       "      <td>2</td>\n",
       "      <td>1</td>\n",
       "      <td>Atlantico</td>\n",
       "      <td>1</td>\n",
       "      <td>1432.463323</td>\n",
       "      <td>0</td>\n",
       "      <td>8</td>\n",
       "      <td>768000.0</td>\n",
       "      <td>0.0</td>\n",
       "      <td>768000.0</td>\n",
       "    </tr>\n",
       "    <tr>\n",
       "      <th>1</th>\n",
       "      <td>1</td>\n",
       "      <td>5000001</td>\n",
       "      <td>1</td>\n",
       "      <td>1</td>\n",
       "      <td>Hombre</td>\n",
       "      <td>JEFEHO</td>\n",
       "      <td>Ninguno</td>\n",
       "      <td>1</td>\n",
       "      <td>NaN</td>\n",
       "      <td>Primaria</td>\n",
       "      <td>...</td>\n",
       "      <td>2</td>\n",
       "      <td>4</td>\n",
       "      <td>Atlantico</td>\n",
       "      <td>1</td>\n",
       "      <td>1088.796266</td>\n",
       "      <td>1</td>\n",
       "      <td>8</td>\n",
       "      <td>0.0</td>\n",
       "      <td>0.0</td>\n",
       "      <td>0.0</td>\n",
       "    </tr>\n",
       "    <tr>\n",
       "      <th>2</th>\n",
       "      <td>2</td>\n",
       "      <td>5000001</td>\n",
       "      <td>1</td>\n",
       "      <td>2</td>\n",
       "      <td>Mujer</td>\n",
       "      <td>2</td>\n",
       "      <td>Ninguno</td>\n",
       "      <td>1</td>\n",
       "      <td>NaN</td>\n",
       "      <td>Primaria</td>\n",
       "      <td>...</td>\n",
       "      <td>2</td>\n",
       "      <td>4</td>\n",
       "      <td>Atlantico</td>\n",
       "      <td>1</td>\n",
       "      <td>1088.796266</td>\n",
       "      <td>2</td>\n",
       "      <td>8</td>\n",
       "      <td>0.0</td>\n",
       "      <td>0.0</td>\n",
       "      <td>0.0</td>\n",
       "    </tr>\n",
       "    <tr>\n",
       "      <th>3</th>\n",
       "      <td>3</td>\n",
       "      <td>5000001</td>\n",
       "      <td>1</td>\n",
       "      <td>3</td>\n",
       "      <td>Hombre</td>\n",
       "      <td>3</td>\n",
       "      <td>Ninguno</td>\n",
       "      <td>1</td>\n",
       "      <td>NaN</td>\n",
       "      <td>Primaria</td>\n",
       "      <td>...</td>\n",
       "      <td>2</td>\n",
       "      <td>4</td>\n",
       "      <td>Atlantico</td>\n",
       "      <td>1</td>\n",
       "      <td>1088.796266</td>\n",
       "      <td>3</td>\n",
       "      <td>8</td>\n",
       "      <td>0.0</td>\n",
       "      <td>0.0</td>\n",
       "      <td>0.0</td>\n",
       "    </tr>\n",
       "    <tr>\n",
       "      <th>4</th>\n",
       "      <td>4</td>\n",
       "      <td>5000002</td>\n",
       "      <td>1</td>\n",
       "      <td>1</td>\n",
       "      <td>Mujer</td>\n",
       "      <td>JEFEHO</td>\n",
       "      <td>Ninguno</td>\n",
       "      <td>2</td>\n",
       "      <td>NaN</td>\n",
       "      <td>Bachillerato</td>\n",
       "      <td>...</td>\n",
       "      <td>2</td>\n",
       "      <td>1</td>\n",
       "      <td>Atlantico</td>\n",
       "      <td>1</td>\n",
       "      <td>2066.712422</td>\n",
       "      <td>4</td>\n",
       "      <td>8</td>\n",
       "      <td>360000.0</td>\n",
       "      <td>0.0</td>\n",
       "      <td>360000.0</td>\n",
       "    </tr>\n",
       "    <tr>\n",
       "      <th>...</th>\n",
       "      <td>...</td>\n",
       "      <td>...</td>\n",
       "      <td>...</td>\n",
       "      <td>...</td>\n",
       "      <td>...</td>\n",
       "      <td>...</td>\n",
       "      <td>...</td>\n",
       "      <td>...</td>\n",
       "      <td>...</td>\n",
       "      <td>...</td>\n",
       "      <td>...</td>\n",
       "      <td>...</td>\n",
       "      <td>...</td>\n",
       "      <td>...</td>\n",
       "      <td>...</td>\n",
       "      <td>...</td>\n",
       "      <td>...</td>\n",
       "      <td>...</td>\n",
       "      <td>...</td>\n",
       "      <td>...</td>\n",
       "      <td>...</td>\n",
       "    </tr>\n",
       "    <tr>\n",
       "      <th>382456</th>\n",
       "      <td>30500</td>\n",
       "      <td>7309048</td>\n",
       "      <td>1</td>\n",
       "      <td>2</td>\n",
       "      <td>Hombre</td>\n",
       "      <td>2</td>\n",
       "      <td>Ninguno</td>\n",
       "      <td>1</td>\n",
       "      <td>3.0</td>\n",
       "      <td>Bachillerato</td>\n",
       "      <td>...</td>\n",
       "      <td>1</td>\n",
       "      <td>4</td>\n",
       "      <td>Risaralda</td>\n",
       "      <td>0</td>\n",
       "      <td>0.000000</td>\n",
       "      <td>30500</td>\n",
       "      <td>66</td>\n",
       "      <td>0.0</td>\n",
       "      <td>3000000.0</td>\n",
       "      <td>3000000.0</td>\n",
       "    </tr>\n",
       "    <tr>\n",
       "      <th>382457</th>\n",
       "      <td>30501</td>\n",
       "      <td>7309048</td>\n",
       "      <td>1</td>\n",
       "      <td>3</td>\n",
       "      <td>Hombre</td>\n",
       "      <td>3</td>\n",
       "      <td>Ninguno</td>\n",
       "      <td>1</td>\n",
       "      <td>3.0</td>\n",
       "      <td>Universitaria</td>\n",
       "      <td>...</td>\n",
       "      <td>1</td>\n",
       "      <td>4</td>\n",
       "      <td>Risaralda</td>\n",
       "      <td>0</td>\n",
       "      <td>0.000000</td>\n",
       "      <td>30501</td>\n",
       "      <td>66</td>\n",
       "      <td>0.0</td>\n",
       "      <td>2000000.0</td>\n",
       "      <td>2000000.0</td>\n",
       "    </tr>\n",
       "    <tr>\n",
       "      <th>382458</th>\n",
       "      <td>30502</td>\n",
       "      <td>7309049</td>\n",
       "      <td>1</td>\n",
       "      <td>1</td>\n",
       "      <td>Mujer</td>\n",
       "      <td>JEFEHO</td>\n",
       "      <td>Ninguno</td>\n",
       "      <td>1</td>\n",
       "      <td>1.0</td>\n",
       "      <td>Tecnologica</td>\n",
       "      <td>...</td>\n",
       "      <td>1</td>\n",
       "      <td>1</td>\n",
       "      <td>Vichada</td>\n",
       "      <td>1</td>\n",
       "      <td>25.636473</td>\n",
       "      <td>30502</td>\n",
       "      <td>99</td>\n",
       "      <td>1037000.0</td>\n",
       "      <td>0.0</td>\n",
       "      <td>1037000.0</td>\n",
       "    </tr>\n",
       "    <tr>\n",
       "      <th>382459</th>\n",
       "      <td>30503</td>\n",
       "      <td>7309050</td>\n",
       "      <td>1</td>\n",
       "      <td>1</td>\n",
       "      <td>Hombre</td>\n",
       "      <td>JEFEHO</td>\n",
       "      <td>Ninguno</td>\n",
       "      <td>1</td>\n",
       "      <td>NaN</td>\n",
       "      <td>Primaria</td>\n",
       "      <td>...</td>\n",
       "      <td>2</td>\n",
       "      <td>4</td>\n",
       "      <td>Vichada</td>\n",
       "      <td>1</td>\n",
       "      <td>25.167948</td>\n",
       "      <td>30503</td>\n",
       "      <td>99</td>\n",
       "      <td>0.0</td>\n",
       "      <td>0.0</td>\n",
       "      <td>0.0</td>\n",
       "    </tr>\n",
       "    <tr>\n",
       "      <th>382460</th>\n",
       "      <td>30504</td>\n",
       "      <td>7309050</td>\n",
       "      <td>1</td>\n",
       "      <td>2</td>\n",
       "      <td>Mujer</td>\n",
       "      <td>2</td>\n",
       "      <td>Ninguno</td>\n",
       "      <td>2</td>\n",
       "      <td>NaN</td>\n",
       "      <td>Bachillerato</td>\n",
       "      <td>...</td>\n",
       "      <td>2</td>\n",
       "      <td>4</td>\n",
       "      <td>Vichada</td>\n",
       "      <td>1</td>\n",
       "      <td>25.167948</td>\n",
       "      <td>30504</td>\n",
       "      <td>99</td>\n",
       "      <td>0.0</td>\n",
       "      <td>0.0</td>\n",
       "      <td>0.0</td>\n",
       "    </tr>\n",
       "  </tbody>\n",
       "</table>\n",
       "<p>382461 rows × 26 columns</p>\n",
       "</div>"
      ],
      "text/plain": [
       "        Unnamed: 0_x  DIRECTORIO  SECUENCIA_P  ORDEN    Sexo JefeHogar  \\\n",
       "0                  0     5000000            1      1  Hombre    JEFEHO   \n",
       "1                  1     5000001            1      1  Hombre    JEFEHO   \n",
       "2                  2     5000001            1      2   Mujer         2   \n",
       "3                  3     5000001            1      3  Hombre         3   \n",
       "4                  4     5000002            1      1   Mujer    JEFEHO   \n",
       "...              ...         ...          ...    ...     ...       ...   \n",
       "382456         30500     7309048            1      2  Hombre         2   \n",
       "382457         30501     7309048            1      3  Hombre         3   \n",
       "382458         30502     7309049            1      1   Mujer    JEFEHO   \n",
       "382459         30503     7309050            1      1  Hombre    JEFEHO   \n",
       "382460         30504     7309050            1      2   Mujer         2   \n",
       "\n",
       "          Etnia  CotizaEPS  PagoEPS NivelEducativo  ...  Pension  TipoEmpleo  \\\n",
       "0       Ninguno          2      NaN   Bachillerato  ...        2           1   \n",
       "1       Ninguno          1      NaN       Primaria  ...        2           4   \n",
       "2       Ninguno          1      NaN       Primaria  ...        2           4   \n",
       "3       Ninguno          1      NaN       Primaria  ...        2           4   \n",
       "4       Ninguno          2      NaN   Bachillerato  ...        2           1   \n",
       "...         ...        ...      ...            ...  ...      ...         ...   \n",
       "382456  Ninguno          1      3.0   Bachillerato  ...        1           4   \n",
       "382457  Ninguno          1      3.0  Universitaria  ...        1           4   \n",
       "382458  Ninguno          1      1.0    Tecnologica  ...        1           1   \n",
       "382459  Ninguno          1      NaN       Primaria  ...        2           4   \n",
       "382460  Ninguno          2      NaN   Bachillerato  ...        2           4   \n",
       "\n",
       "        Departamento  Ocupacion_informal  Ponderacion  Unnamed: 0_y  DPTO  \\\n",
       "0          Atlantico                   1  1432.463323             0     8   \n",
       "1          Atlantico                   1  1088.796266             1     8   \n",
       "2          Atlantico                   1  1088.796266             2     8   \n",
       "3          Atlantico                   1  1088.796266             3     8   \n",
       "4          Atlantico                   1  2066.712422             4     8   \n",
       "...              ...                 ...          ...           ...   ...   \n",
       "382456     Risaralda                   0     0.000000         30500    66   \n",
       "382457     Risaralda                   0     0.000000         30501    66   \n",
       "382458       Vichada                   1    25.636473         30502    99   \n",
       "382459       Vichada                   1    25.167948         30503    99   \n",
       "382460       Vichada                   1    25.167948         30504    99   \n",
       "\n",
       "            P6500      P3051    Salario  \n",
       "0        768000.0        0.0   768000.0  \n",
       "1             0.0        0.0        0.0  \n",
       "2             0.0        0.0        0.0  \n",
       "3             0.0        0.0        0.0  \n",
       "4        360000.0        0.0   360000.0  \n",
       "...           ...        ...        ...  \n",
       "382456        0.0  3000000.0  3000000.0  \n",
       "382457        0.0  2000000.0  2000000.0  \n",
       "382458  1037000.0        0.0  1037000.0  \n",
       "382459        0.0        0.0        0.0  \n",
       "382460        0.0        0.0        0.0  \n",
       "\n",
       "[382461 rows x 26 columns]"
      ]
     },
     "execution_count": 2,
     "metadata": {},
     "output_type": "execute_result"
    }
   ],
   "source": [
    "GEIH_2022 = pd.read_csv(\"GEIH_2022.csv\")\n",
    "SalarioMedio = pd.read_csv(\"baseingreso.csv\")\n",
    "GEIH_2022 = pd.merge(GEIH_2022, SalarioMedio, on=[\"DIRECTORIO\",'SECUENCIA_P', 'ORDEN'], how=\"inner\")\n",
    "GEIH_2022\n"
   ]
  },
  {
   "cell_type": "markdown",
   "id": "357f84c3",
   "metadata": {},
   "source": [
    "En las siguientes celdas voy a calcular la informalidad por departamento, creando nuevos dataframes por departamento através de filtraciones y asignando a una variable, los cuales también me servirán más adelante."
   ]
  },
  {
   "cell_type": "code",
   "execution_count": 3,
   "id": "48440186",
   "metadata": {},
   "outputs": [],
   "source": [
    "Total_Expansion = GEIH_2022[\"FactorExpansion\"].sum()"
   ]
  },
  {
   "cell_type": "code",
   "execution_count": 4,
   "id": "0af4f4a8",
   "metadata": {},
   "outputs": [],
   "source": [
    "Antioquia = GEIH_2022[\"Departamento\"] == \"Antioquia\"\n",
    "Antioquia = GEIH_2022[Antioquia]\n"
   ]
  },
  {
   "cell_type": "code",
   "execution_count": 5,
   "id": "5f9966cb",
   "metadata": {
    "scrolled": false
   },
   "outputs": [
    {
     "data": {
      "text/plain": [
       "46.38657345146848"
      ]
     },
     "execution_count": 5,
     "metadata": {},
     "output_type": "execute_result"
    }
   ],
   "source": [
    "Ponderacion_Antioquia = Antioquia[\"Ponderacion\"].sum()\n",
    "Expansion_Antioquia = Antioquia[\"FactorExpansion\"].sum()\n",
    "AntioquiaOI = (Ponderacion_Antioquia / Expansion_Antioquia ) * 100\n",
    "AntioquiaOI"
   ]
  },
  {
   "cell_type": "code",
   "execution_count": 6,
   "id": "5cca500d",
   "metadata": {
    "scrolled": false
   },
   "outputs": [
    {
     "data": {
      "text/plain": [
       "6.498087656965194"
      ]
     },
     "execution_count": 6,
     "metadata": {},
     "output_type": "execute_result"
    }
   ],
   "source": [
    "Antioquia_proporcion = (Ponderacion_Antioquia / Total_Expansion ) * 100\n",
    "Antioquia_proporcion"
   ]
  },
  {
   "cell_type": "code",
   "execution_count": 7,
   "id": "a4aae847",
   "metadata": {},
   "outputs": [
    {
     "name": "stdout",
     "output_type": "stream",
     "text": [
      "{'AntioquiaOI': 46.386} {'Antioquia_proporcion': 6.49}\n"
     ]
    }
   ],
   "source": [
    "Antioquia_Dict1 = {\"AntioquiaOI\": 46.386}\n",
    "Antioquia_Dict2 = {\"Antioquia_proporcion\": 6.49}\n",
    "print(Antioquia_Dict1, Antioquia_Dict2)"
   ]
  },
  {
   "cell_type": "code",
   "execution_count": 8,
   "id": "9f135ec7",
   "metadata": {},
   "outputs": [],
   "source": [
    "Amazonas = GEIH_2022[\"Departamento\"] == \"Amazonas\"\n",
    "Amazonas = GEIH_2022[Amazonas]\n"
   ]
  },
  {
   "cell_type": "code",
   "execution_count": 9,
   "id": "4ccf460e",
   "metadata": {
    "scrolled": false
   },
   "outputs": [
    {
     "data": {
      "text/plain": [
       "56.530141951917344"
      ]
     },
     "execution_count": 9,
     "metadata": {},
     "output_type": "execute_result"
    }
   ],
   "source": [
    "Ponderacion_Amazonas = Amazonas[\"Ponderacion\"].sum()\n",
    "Expansion_Amazonas = Amazonas[\"FactorExpansion\"].sum()\n",
    "AmazonasOI = (Ponderacion_Amazonas / Expansion_Amazonas ) * 100\n",
    "AmazonasOI"
   ]
  },
  {
   "cell_type": "code",
   "execution_count": 10,
   "id": "1b115507",
   "metadata": {
    "scrolled": false
   },
   "outputs": [
    {
     "data": {
      "text/plain": [
       "0.03564094090630834"
      ]
     },
     "execution_count": 10,
     "metadata": {},
     "output_type": "execute_result"
    }
   ],
   "source": [
    "Amazonas_proporcion = (Ponderacion_Amazonas / Total_Expansion ) * 100\n",
    "Amazonas_proporcion"
   ]
  },
  {
   "cell_type": "code",
   "execution_count": 11,
   "id": "315fa4b1",
   "metadata": {},
   "outputs": [
    {
     "name": "stdout",
     "output_type": "stream",
     "text": [
      "{'AmazonasOI': 56.53} {'Amazonas_proporcion': 0.035}\n"
     ]
    }
   ],
   "source": [
    "Amazonas_Dict1 = {\"AmazonasOI\": 56.53}\n",
    "Amazonas_Dict2 = {\"Amazonas_proporcion\": 0.035}\n",
    "print(Amazonas_Dict1, Amazonas_Dict2)"
   ]
  },
  {
   "cell_type": "code",
   "execution_count": 12,
   "id": "ce56d3e8",
   "metadata": {},
   "outputs": [],
   "source": [
    "Arauca = GEIH_2022[\"Departamento\"] == \"Arauca\"\n",
    "Arauca = GEIH_2022[Arauca]"
   ]
  },
  {
   "cell_type": "code",
   "execution_count": 13,
   "id": "18309afa",
   "metadata": {
    "scrolled": false
   },
   "outputs": [
    {
     "data": {
      "text/plain": [
       "55.438692242022"
      ]
     },
     "execution_count": 13,
     "metadata": {},
     "output_type": "execute_result"
    }
   ],
   "source": [
    "Ponderacion_Arauca = Arauca[\"Ponderacion\"].sum()\n",
    "Expansion_Arauca = Arauca[\"FactorExpansion\"].sum()\n",
    "AraucaOI = (Ponderacion_Arauca / Expansion_Arauca ) * 100\n",
    "AraucaOI"
   ]
  },
  {
   "cell_type": "code",
   "execution_count": 14,
   "id": "13295e9c",
   "metadata": {
    "scrolled": false
   },
   "outputs": [
    {
     "data": {
      "text/plain": [
       "0.0733639703812805"
      ]
     },
     "execution_count": 14,
     "metadata": {},
     "output_type": "execute_result"
    }
   ],
   "source": [
    "Arauca_proporcion = (Ponderacion_Arauca / Total_Expansion ) * 100\n",
    "Arauca_proporcion"
   ]
  },
  {
   "cell_type": "code",
   "execution_count": 15,
   "id": "6a58afb2",
   "metadata": {},
   "outputs": [
    {
     "name": "stdout",
     "output_type": "stream",
     "text": [
      "{'AraucaOI': 55.43} {'Arauca_proporcion': 0.07}\n"
     ]
    }
   ],
   "source": [
    "Arauca_Dict1 = {\"AraucaOI\": 55.43}\n",
    "Arauca_Dict2 = {\"Arauca_proporcion\": 0.07}\n",
    "print(Arauca_Dict1, Arauca_Dict2)"
   ]
  },
  {
   "cell_type": "code",
   "execution_count": 16,
   "id": "8f5b4e37",
   "metadata": {},
   "outputs": [],
   "source": [
    "Atlantico = GEIH_2022[\"Departamento\"] == \"Atlantico\"\n",
    "Atlantico = GEIH_2022[Atlantico]"
   ]
  },
  {
   "cell_type": "code",
   "execution_count": 17,
   "id": "66b3c543",
   "metadata": {
    "scrolled": true
   },
   "outputs": [
    {
     "data": {
      "text/plain": [
       "56.29104154232372"
      ]
     },
     "execution_count": 17,
     "metadata": {},
     "output_type": "execute_result"
    }
   ],
   "source": [
    "Ponderacion_Atlantico = Atlantico[\"Ponderacion\"].sum()\n",
    "Expansion_Atlantico = Atlantico[\"FactorExpansion\"].sum()\n",
    "AtlanticoOI = (Ponderacion_Atlantico / Expansion_Atlantico ) * 100\n",
    "AtlanticoOI"
   ]
  },
  {
   "cell_type": "code",
   "execution_count": 18,
   "id": "a32240a9",
   "metadata": {
    "scrolled": true
   },
   "outputs": [
    {
     "data": {
      "text/plain": [
       "3.163019294081505"
      ]
     },
     "execution_count": 18,
     "metadata": {},
     "output_type": "execute_result"
    }
   ],
   "source": [
    "Atlantico_proporcion = (Ponderacion_Atlantico / Total_Expansion ) * 100\n",
    "Atlantico_proporcion"
   ]
  },
  {
   "cell_type": "code",
   "execution_count": 19,
   "id": "956966d4",
   "metadata": {},
   "outputs": [
    {
     "name": "stdout",
     "output_type": "stream",
     "text": [
      "{'AtlanticoOI': 56.29} {'Atlantico_proporcion': 3.16}\n"
     ]
    }
   ],
   "source": [
    "Atlantico_Dict1 = {\"AtlanticoOI\": 56.29}\n",
    "Atlantico_Dict2 = {\"Atlantico_proporcion\": 3.16}\n",
    "print(Atlantico_Dict1, Atlantico_Dict2)"
   ]
  },
  {
   "cell_type": "code",
   "execution_count": 20,
   "id": "968b9873",
   "metadata": {},
   "outputs": [],
   "source": [
    "Bogota = GEIH_2022[\"Departamento\"] == \"Bogota\"\n",
    "Bogota = GEIH_2022[Bogota]"
   ]
  },
  {
   "cell_type": "code",
   "execution_count": 21,
   "id": "95972e00",
   "metadata": {
    "scrolled": true
   },
   "outputs": [
    {
     "data": {
      "text/plain": [
       "34.043009971725205"
      ]
     },
     "execution_count": 21,
     "metadata": {},
     "output_type": "execute_result"
    }
   ],
   "source": [
    "Ponderacion_Bogota = Bogota[\"Ponderacion\"].sum()\n",
    "Expansion_Bogota = Bogota[\"FactorExpansion\"].sum()\n",
    "BogotaOI = (Ponderacion_Bogota / Expansion_Bogota ) * 100\n",
    "BogotaOI"
   ]
  },
  {
   "cell_type": "code",
   "execution_count": 22,
   "id": "48fc1c89",
   "metadata": {
    "scrolled": true
   },
   "outputs": [
    {
     "data": {
      "text/plain": [
       "5.9081138387870675"
      ]
     },
     "execution_count": 22,
     "metadata": {},
     "output_type": "execute_result"
    }
   ],
   "source": [
    "Bogota_proporcion = (Ponderacion_Bogota / Total_Expansion ) * 100\n",
    "Bogota_proporcion"
   ]
  },
  {
   "cell_type": "code",
   "execution_count": 23,
   "id": "0d8ae482",
   "metadata": {},
   "outputs": [
    {
     "name": "stdout",
     "output_type": "stream",
     "text": [
      "{'BogotaOI': 34.04} {'Bogota_proporcion': 5.9}\n"
     ]
    }
   ],
   "source": [
    "Bogota_Dict1 = {\"BogotaOI\": 34.04}\n",
    "Bogota_Dict2 = {\"Bogota_proporcion\": 5.9}\n",
    "print(Bogota_Dict1, Bogota_Dict2)"
   ]
  },
  {
   "cell_type": "code",
   "execution_count": 24,
   "id": "b4537764",
   "metadata": {},
   "outputs": [],
   "source": [
    "Bolivar = GEIH_2022[\"Departamento\"] == \"Bolivar\"\n",
    "Bolivar = GEIH_2022[Bolivar]"
   ]
  },
  {
   "cell_type": "code",
   "execution_count": 25,
   "id": "74ad2d69",
   "metadata": {
    "scrolled": true
   },
   "outputs": [
    {
     "data": {
      "text/plain": [
       "66.46884998271464"
      ]
     },
     "execution_count": 25,
     "metadata": {},
     "output_type": "execute_result"
    }
   ],
   "source": [
    "Ponderacion_Bolivar = Bolivar[\"Ponderacion\"].sum()\n",
    "Expansion_Bolivar = Bolivar[\"FactorExpansion\"].sum()\n",
    "BolivarOI = (Ponderacion_Bolivar / Expansion_Bolivar ) * 100\n",
    "BolivarOI"
   ]
  },
  {
   "cell_type": "code",
   "execution_count": 26,
   "id": "7e7254da",
   "metadata": {
    "scrolled": true
   },
   "outputs": [
    {
     "data": {
      "text/plain": [
       "2.8037539161212655"
      ]
     },
     "execution_count": 26,
     "metadata": {},
     "output_type": "execute_result"
    }
   ],
   "source": [
    "Bolivar_proporcion = (Ponderacion_Bolivar / Total_Expansion ) * 100\n",
    "Bolivar_proporcion"
   ]
  },
  {
   "cell_type": "code",
   "execution_count": 27,
   "id": "c95a94ca",
   "metadata": {},
   "outputs": [
    {
     "name": "stdout",
     "output_type": "stream",
     "text": [
      "{'BolivarOI': 66.46} {'Bolivar_proporcion': 2.8}\n"
     ]
    }
   ],
   "source": [
    "Bolivar_Dict1 = {\"BolivarOI\": 66.46}\n",
    "Bolivar_Dict2 = {\"Bolivar_proporcion\": 2.80}\n",
    "print(Bolivar_Dict1, Bolivar_Dict2)"
   ]
  },
  {
   "cell_type": "code",
   "execution_count": 28,
   "id": "e940857a",
   "metadata": {},
   "outputs": [],
   "source": [
    "Boyaca = GEIH_2022[\"Departamento\"] == \"Boyaca\"\n",
    "Boyaca = GEIH_2022[Boyaca]"
   ]
  },
  {
   "cell_type": "code",
   "execution_count": 29,
   "id": "9383fa90",
   "metadata": {
    "scrolled": true
   },
   "outputs": [
    {
     "data": {
      "text/plain": [
       "61.63283850996487"
      ]
     },
     "execution_count": 29,
     "metadata": {},
     "output_type": "execute_result"
    }
   ],
   "source": [
    "Ponderacion_Boyaca = Boyaca[\"Ponderacion\"].sum()\n",
    "Expansion_Boyaca = Boyaca[\"FactorExpansion\"].sum()\n",
    "BoyacaOI = (Ponderacion_Boyaca / Expansion_Boyaca ) * 100\n",
    "BoyacaOI"
   ]
  },
  {
   "cell_type": "code",
   "execution_count": 30,
   "id": "96c33856",
   "metadata": {
    "scrolled": true
   },
   "outputs": [
    {
     "data": {
      "text/plain": [
       "1.5383176184199274"
      ]
     },
     "execution_count": 30,
     "metadata": {},
     "output_type": "execute_result"
    }
   ],
   "source": [
    "Boyaca_proporcion = (Ponderacion_Boyaca / Total_Expansion ) * 100\n",
    "Boyaca_proporcion"
   ]
  },
  {
   "cell_type": "code",
   "execution_count": 31,
   "id": "d0ea7076",
   "metadata": {},
   "outputs": [
    {
     "name": "stdout",
     "output_type": "stream",
     "text": [
      "{'BoyacaOI': 61.63} {'Boyaca_proporcion': 1.53}\n"
     ]
    }
   ],
   "source": [
    "Boyaca_Dict1 = {\"BoyacaOI\": 61.63}\n",
    "Boyaca_Dict2 = {\"Boyaca_proporcion\": 1.53}\n",
    "print(Boyaca_Dict1, Boyaca_Dict2)"
   ]
  },
  {
   "cell_type": "code",
   "execution_count": 32,
   "id": "15be082e",
   "metadata": {},
   "outputs": [],
   "source": [
    "Caldas = GEIH_2022[\"Departamento\"] == \"Caldas\"\n",
    "Caldas = GEIH_2022[Caldas]"
   ]
  },
  {
   "cell_type": "code",
   "execution_count": 33,
   "id": "9c6c8416",
   "metadata": {
    "scrolled": true
   },
   "outputs": [
    {
     "data": {
      "text/plain": [
       "45.801086670470696"
      ]
     },
     "execution_count": 33,
     "metadata": {},
     "output_type": "execute_result"
    }
   ],
   "source": [
    "Ponderacion_Caldas= Caldas[\"Ponderacion\"].sum()\n",
    "Expansion_Caldas = Caldas[\"FactorExpansion\"].sum()\n",
    "CaldasOI = (Ponderacion_Caldas / Expansion_Caldas ) * 100\n",
    "CaldasOI"
   ]
  },
  {
   "cell_type": "code",
   "execution_count": 34,
   "id": "c0900687",
   "metadata": {
    "scrolled": true
   },
   "outputs": [
    {
     "data": {
      "text/plain": [
       "0.9073280655993209"
      ]
     },
     "execution_count": 34,
     "metadata": {},
     "output_type": "execute_result"
    }
   ],
   "source": [
    "Caldas_proporcion = (Ponderacion_Caldas / Total_Expansion ) * 100\n",
    "Caldas_proporcion"
   ]
  },
  {
   "cell_type": "code",
   "execution_count": 35,
   "id": "a393f3d0",
   "metadata": {},
   "outputs": [
    {
     "name": "stdout",
     "output_type": "stream",
     "text": [
      "{'CaldasOI': 45.8} {'Caldas_proporcion': 0.9}\n"
     ]
    }
   ],
   "source": [
    "Caldas_Dict1 = {\"CaldasOI\": 45.80}\n",
    "Caldas_Dict2 = {\"Caldas_proporcion\": 0.90}\n",
    "print(Caldas_Dict1, Caldas_Dict2)"
   ]
  },
  {
   "cell_type": "code",
   "execution_count": 36,
   "id": "f41c918e",
   "metadata": {},
   "outputs": [],
   "source": [
    "Caqueta = GEIH_2022[\"Departamento\"] == \"Caqueta\"\n",
    "Caqueta = GEIH_2022[Caqueta]"
   ]
  },
  {
   "cell_type": "code",
   "execution_count": 37,
   "id": "45f5c4ee",
   "metadata": {
    "scrolled": true
   },
   "outputs": [
    {
     "data": {
      "text/plain": [
       "67.76199436457188"
      ]
     },
     "execution_count": 37,
     "metadata": {},
     "output_type": "execute_result"
    }
   ],
   "source": [
    "Ponderacion_Caqueta= Caqueta[\"Ponderacion\"].sum()\n",
    "Expansion_Caqueta = Caqueta[\"FactorExpansion\"].sum()\n",
    "CaquetaOI = (Ponderacion_Caqueta / Expansion_Caqueta) * 100\n",
    "CaquetaOI"
   ]
  },
  {
   "cell_type": "code",
   "execution_count": 38,
   "id": "7e7ac0d4",
   "metadata": {
    "scrolled": false
   },
   "outputs": [
    {
     "data": {
      "text/plain": [
       "0.4978812507998306"
      ]
     },
     "execution_count": 38,
     "metadata": {},
     "output_type": "execute_result"
    }
   ],
   "source": [
    "Caqueta_proporcion = (Ponderacion_Caqueta / Total_Expansion ) * 100\n",
    "Caqueta_proporcion"
   ]
  },
  {
   "cell_type": "code",
   "execution_count": 39,
   "id": "f9976a4e",
   "metadata": {},
   "outputs": [
    {
     "name": "stdout",
     "output_type": "stream",
     "text": [
      "{'CaquetaOI': 67.76} {'Caqueta_proporcion': 0.49}\n"
     ]
    }
   ],
   "source": [
    "Caqueta_Dict1 = {\"CaquetaOI\": 67.76}\n",
    "Caqueta_Dict2 = {\"Caqueta_proporcion\": 0.49}\n",
    "print(Caqueta_Dict1, Caqueta_Dict2)"
   ]
  },
  {
   "cell_type": "code",
   "execution_count": 40,
   "id": "485f1890",
   "metadata": {},
   "outputs": [],
   "source": [
    "Casanare = GEIH_2022[\"Departamento\"] == \"Casanare\"\n",
    "Casanare = GEIH_2022[Casanare]"
   ]
  },
  {
   "cell_type": "code",
   "execution_count": 41,
   "id": "1ca37532",
   "metadata": {
    "scrolled": true
   },
   "outputs": [
    {
     "data": {
      "text/plain": [
       "54.79327782256384"
      ]
     },
     "execution_count": 41,
     "metadata": {},
     "output_type": "execute_result"
    }
   ],
   "source": [
    "Ponderacion_Casanare = Casanare[\"Ponderacion\"].sum()\n",
    "Expansion_Casanare = Casanare[\"FactorExpansion\"].sum()\n",
    "CasanareOI = (Ponderacion_Casanare / Expansion_Casanare) * 100\n",
    "CasanareOI"
   ]
  },
  {
   "cell_type": "code",
   "execution_count": 42,
   "id": "22a4ff4e",
   "metadata": {
    "scrolled": false
   },
   "outputs": [
    {
     "data": {
      "text/plain": [
       "0.19371167347193727"
      ]
     },
     "execution_count": 42,
     "metadata": {},
     "output_type": "execute_result"
    }
   ],
   "source": [
    "Casanare_proporcion = (Ponderacion_Casanare / Total_Expansion ) * 100\n",
    "Casanare_proporcion"
   ]
  },
  {
   "cell_type": "code",
   "execution_count": 43,
   "id": "d0622523",
   "metadata": {},
   "outputs": [
    {
     "name": "stdout",
     "output_type": "stream",
     "text": [
      "{'CasanareOI': 54.79} {'Casanare_proporcion': 0.19}\n"
     ]
    }
   ],
   "source": [
    "Casanare_Dict1 = {\"CasanareOI\": 54.79}\n",
    "Casanare_Dict2 = {\"Casanare_proporcion\": 0.19}\n",
    "print(Casanare_Dict1, Casanare_Dict2)"
   ]
  },
  {
   "cell_type": "code",
   "execution_count": 44,
   "id": "251a338f",
   "metadata": {},
   "outputs": [],
   "source": [
    "Cauca = GEIH_2022[\"Departamento\"] == \"Cauca\"\n",
    "Cauca = GEIH_2022[Cauca]"
   ]
  },
  {
   "cell_type": "code",
   "execution_count": 45,
   "id": "462087f1",
   "metadata": {
    "scrolled": true
   },
   "outputs": [
    {
     "data": {
      "text/plain": [
       "68.5320051962991"
      ]
     },
     "execution_count": 45,
     "metadata": {},
     "output_type": "execute_result"
    }
   ],
   "source": [
    "Ponderacion_Cauca = Cauca[\"Ponderacion\"].sum()\n",
    "Expansion_Cauca = Cauca[\"FactorExpansion\"].sum()\n",
    "CaucaOI = (Ponderacion_Cauca / Expansion_Cauca) * 100\n",
    "CaucaOI"
   ]
  },
  {
   "cell_type": "code",
   "execution_count": 46,
   "id": "993ccd30",
   "metadata": {
    "scrolled": false
   },
   "outputs": [
    {
     "data": {
      "text/plain": [
       "2.003128938731382"
      ]
     },
     "execution_count": 46,
     "metadata": {},
     "output_type": "execute_result"
    }
   ],
   "source": [
    "Cauca_proporcion = (Ponderacion_Cauca / Total_Expansion ) * 100\n",
    "Cauca_proporcion"
   ]
  },
  {
   "cell_type": "code",
   "execution_count": 47,
   "id": "1a59e241",
   "metadata": {},
   "outputs": [
    {
     "name": "stdout",
     "output_type": "stream",
     "text": [
      "{'CaucaOI': 68.53} {'Cauca_proporcion': 2.0}\n"
     ]
    }
   ],
   "source": [
    "Cauca_Dict1 = {\"CaucaOI\": 68.53}\n",
    "Cauca_Dict2 = {\"Cauca_proporcion\": 2.0}\n",
    "print(Cauca_Dict1, Cauca_Dict2)"
   ]
  },
  {
   "cell_type": "code",
   "execution_count": 48,
   "id": "816408f8",
   "metadata": {},
   "outputs": [],
   "source": [
    "Cesar = GEIH_2022[\"Departamento\"] == \"Cesar\"\n",
    "Cesar = GEIH_2022[Cesar]"
   ]
  },
  {
   "cell_type": "code",
   "execution_count": 49,
   "id": "05c6108d",
   "metadata": {
    "scrolled": true
   },
   "outputs": [
    {
     "data": {
      "text/plain": [
       "63.64707488063358"
      ]
     },
     "execution_count": 49,
     "metadata": {},
     "output_type": "execute_result"
    }
   ],
   "source": [
    "Ponderacion_Cesar = Cesar[\"Ponderacion\"].sum()\n",
    "Expansion_Cesar = Cesar[\"FactorExpansion\"].sum()\n",
    "CesarOI = (Ponderacion_Cesar / Expansion_Cesar) * 100\n",
    "CesarOI"
   ]
  },
  {
   "cell_type": "code",
   "execution_count": 50,
   "id": "1129b9a6",
   "metadata": {
    "scrolled": false
   },
   "outputs": [
    {
     "data": {
      "text/plain": [
       "1.3904930133130755"
      ]
     },
     "execution_count": 50,
     "metadata": {},
     "output_type": "execute_result"
    }
   ],
   "source": [
    "Cesar_proporcion = (Ponderacion_Cesar / Total_Expansion ) * 100\n",
    "Cesar_proporcion"
   ]
  },
  {
   "cell_type": "code",
   "execution_count": 51,
   "id": "41e09e0e",
   "metadata": {},
   "outputs": [
    {
     "name": "stdout",
     "output_type": "stream",
     "text": [
      "{'CesarOI': 63.64} {'Cesar_proporcion': 1.39}\n"
     ]
    }
   ],
   "source": [
    "Cesar_Dict1 = {\"CesarOI\": 63.64}\n",
    "Cesar_Dict2 = {\"Cesar_proporcion\": 1.39}\n",
    "print(Cesar_Dict1, Cesar_Dict2)"
   ]
  },
  {
   "cell_type": "code",
   "execution_count": 52,
   "id": "fd99f6b2",
   "metadata": {},
   "outputs": [],
   "source": [
    "Choco = GEIH_2022[\"Departamento\"] == \"Choco\"\n",
    "Choco = GEIH_2022[Choco]"
   ]
  },
  {
   "cell_type": "code",
   "execution_count": 53,
   "id": "8feccb03",
   "metadata": {
    "scrolled": true
   },
   "outputs": [
    {
     "data": {
      "text/plain": [
       "67.90588155052221"
      ]
     },
     "execution_count": 53,
     "metadata": {},
     "output_type": "execute_result"
    }
   ],
   "source": [
    "Ponderacion_Choco = Choco[\"Ponderacion\"].sum()\n",
    "Expansion_Choco = Choco[\"FactorExpansion\"].sum()\n",
    "ChocoOI = (Ponderacion_Choco/ Expansion_Choco) * 100\n",
    "ChocoOI"
   ]
  },
  {
   "cell_type": "code",
   "execution_count": 54,
   "id": "1ae13b77",
   "metadata": {
    "scrolled": false
   },
   "outputs": [
    {
     "data": {
      "text/plain": [
       "0.45284206799815857"
      ]
     },
     "execution_count": 54,
     "metadata": {},
     "output_type": "execute_result"
    }
   ],
   "source": [
    "Choco_proporcion = (Ponderacion_Choco / Total_Expansion ) * 100\n",
    "Choco_proporcion"
   ]
  },
  {
   "cell_type": "code",
   "execution_count": 55,
   "id": "6bccc8ca",
   "metadata": {},
   "outputs": [
    {
     "name": "stdout",
     "output_type": "stream",
     "text": [
      "{'ChocoOI': 67.9} {'Choco_proporcion': 0.45}\n"
     ]
    }
   ],
   "source": [
    "Choco_Dict1 = {\"ChocoOI\": 67.9}\n",
    "Choco_Dict2 = {\"Choco_proporcion\": 0.45}\n",
    "print(Choco_Dict1, Choco_Dict2)"
   ]
  },
  {
   "cell_type": "code",
   "execution_count": 56,
   "id": "77ce473d",
   "metadata": {},
   "outputs": [],
   "source": [
    "Cordoba = GEIH_2022[\"Departamento\"] == \"Cordoba\"\n",
    "Cordoba = GEIH_2022[Cordoba]"
   ]
  },
  {
   "cell_type": "code",
   "execution_count": 57,
   "id": "64acd25b",
   "metadata": {
    "scrolled": true
   },
   "outputs": [
    {
     "data": {
      "text/plain": [
       "68.90075980556057"
      ]
     },
     "execution_count": 57,
     "metadata": {},
     "output_type": "execute_result"
    }
   ],
   "source": [
    "Ponderacion_Cordoba = Cordoba[\"Ponderacion\"].sum()\n",
    "Expansion_Cordoba = Cordoba[\"FactorExpansion\"].sum()\n",
    "CordobaOI = (Ponderacion_Cordoba/ Expansion_Cordoba) * 100\n",
    "CordobaOI"
   ]
  },
  {
   "cell_type": "code",
   "execution_count": 58,
   "id": "2722f73b",
   "metadata": {
    "scrolled": false
   },
   "outputs": [
    {
     "data": {
      "text/plain": [
       "2.381319335244939"
      ]
     },
     "execution_count": 58,
     "metadata": {},
     "output_type": "execute_result"
    }
   ],
   "source": [
    "Cordoba_proporcion = (Ponderacion_Cordoba / Total_Expansion ) * 100\n",
    "Cordoba_proporcion"
   ]
  },
  {
   "cell_type": "code",
   "execution_count": 59,
   "id": "c42c2856",
   "metadata": {},
   "outputs": [
    {
     "name": "stdout",
     "output_type": "stream",
     "text": [
      "{'CordobaOI': 68.9} {'Cordoba_proporcion': 2.38}\n"
     ]
    }
   ],
   "source": [
    "Cordoba_Dict1 = {\"CordobaOI\": 68.9}\n",
    "Cordoba_Dict2 = {\"Cordoba_proporcion\": 2.38}\n",
    "print(Cordoba_Dict1, Cordoba_Dict2)"
   ]
  },
  {
   "cell_type": "code",
   "execution_count": 60,
   "id": "b8e9ad8c",
   "metadata": {},
   "outputs": [],
   "source": [
    "Cundinamarca = GEIH_2022[\"Departamento\"] == \"Cundinamarca\"\n",
    "Cundinamarca = GEIH_2022[Cundinamarca]"
   ]
  },
  {
   "cell_type": "code",
   "execution_count": 61,
   "id": "b0789964",
   "metadata": {
    "scrolled": true
   },
   "outputs": [
    {
     "data": {
      "text/plain": [
       "45.405352417363694"
      ]
     },
     "execution_count": 61,
     "metadata": {},
     "output_type": "execute_result"
    }
   ],
   "source": [
    "Ponderacion_Cundinamarca = Cundinamarca[\"Ponderacion\"].sum()\n",
    "Expansion_Cundinamarca = Cundinamarca[\"FactorExpansion\"].sum()\n",
    "CundinamarcaOI = (Ponderacion_Cundinamarca / Expansion_Cundinamarca) * 100\n",
    "CundinamarcaOI"
   ]
  },
  {
   "cell_type": "code",
   "execution_count": 62,
   "id": "84233909",
   "metadata": {
    "scrolled": false
   },
   "outputs": [
    {
     "data": {
      "text/plain": [
       "3.0819419658527965"
      ]
     },
     "execution_count": 62,
     "metadata": {},
     "output_type": "execute_result"
    }
   ],
   "source": [
    "Cundinamarca_proporcion = (Ponderacion_Cundinamarca / Total_Expansion ) * 100\n",
    "Cundinamarca_proporcion"
   ]
  },
  {
   "cell_type": "code",
   "execution_count": 63,
   "id": "88f81807",
   "metadata": {},
   "outputs": [
    {
     "name": "stdout",
     "output_type": "stream",
     "text": [
      "{'CundinamarcaOI': 45.4} {'Cundinamarca_proporcion': 3.08}\n"
     ]
    }
   ],
   "source": [
    "Cundinamarca_Dict1 = {\"CundinamarcaOI\": 45.4}\n",
    "Cundinamarca_Dict2 = {\"Cundinamarca_proporcion\": 3.08}\n",
    "print(Cundinamarca_Dict1, Cundinamarca_Dict2)"
   ]
  },
  {
   "cell_type": "code",
   "execution_count": 64,
   "id": "a54e4e23",
   "metadata": {},
   "outputs": [],
   "source": [
    "Guainia = GEIH_2022[\"Departamento\"] == \"Guainia\"\n",
    "Guainia = GEIH_2022[Guainia]"
   ]
  },
  {
   "cell_type": "code",
   "execution_count": 65,
   "id": "a9374cf9",
   "metadata": {
    "scrolled": true
   },
   "outputs": [
    {
     "data": {
      "text/plain": [
       "67.31040237579128"
      ]
     },
     "execution_count": 65,
     "metadata": {},
     "output_type": "execute_result"
    }
   ],
   "source": [
    "Ponderacion_Guainia = Guainia[\"Ponderacion\"].sum()\n",
    "Expansion_Guainia = Guainia[\"FactorExpansion\"].sum()\n",
    "GuainiaOI = (Ponderacion_Guainia/ Expansion_Guainia) * 100\n",
    "GuainiaOI"
   ]
  },
  {
   "cell_type": "code",
   "execution_count": 66,
   "id": "79b1fad5",
   "metadata": {
    "scrolled": false
   },
   "outputs": [
    {
     "data": {
      "text/plain": [
       "0.027203078415667978"
      ]
     },
     "execution_count": 66,
     "metadata": {},
     "output_type": "execute_result"
    }
   ],
   "source": [
    "Guainia_proporcion = (Ponderacion_Guainia / Total_Expansion ) * 100\n",
    "Guainia_proporcion"
   ]
  },
  {
   "cell_type": "code",
   "execution_count": 67,
   "id": "b2d4276b",
   "metadata": {},
   "outputs": [
    {
     "name": "stdout",
     "output_type": "stream",
     "text": [
      "{'GuainiaOI': 67.31} {'Guainia_proporcion': 0.02}\n"
     ]
    }
   ],
   "source": [
    "Guainia_Dict1 = {\"GuainiaOI\": 67.31}\n",
    "Guainia_Dict2 = {\"Guainia_proporcion\": 0.02}\n",
    "print(Guainia_Dict1, Guainia_Dict2)"
   ]
  },
  {
   "cell_type": "code",
   "execution_count": 68,
   "id": "cd6d3a93",
   "metadata": {},
   "outputs": [],
   "source": [
    "Guaviare= GEIH_2022[\"Departamento\"] == \"Guaviare\"\n",
    "Guaviare = GEIH_2022[Guaviare]"
   ]
  },
  {
   "cell_type": "code",
   "execution_count": 69,
   "id": "719429ec",
   "metadata": {
    "scrolled": true
   },
   "outputs": [
    {
     "data": {
      "text/plain": [
       "57.96794038386547"
      ]
     },
     "execution_count": 69,
     "metadata": {},
     "output_type": "execute_result"
    }
   ],
   "source": [
    "Ponderacion_Guaviare = Guaviare[\"Ponderacion\"].sum()\n",
    "Expansion_Guaviare = Guaviare[\"FactorExpansion\"].sum()\n",
    "GuaviareOI = (Ponderacion_Guaviare/ Expansion_Guaviare) * 100\n",
    "GuaviareOI"
   ]
  },
  {
   "cell_type": "code",
   "execution_count": 70,
   "id": "171d6996",
   "metadata": {
    "scrolled": false
   },
   "outputs": [
    {
     "data": {
      "text/plain": [
       "0.05920769228388875"
      ]
     },
     "execution_count": 70,
     "metadata": {},
     "output_type": "execute_result"
    }
   ],
   "source": [
    "Guaviare_proporcion = (Ponderacion_Guaviare / Total_Expansion ) * 100\n",
    "Guaviare_proporcion"
   ]
  },
  {
   "cell_type": "code",
   "execution_count": 71,
   "id": "5fe3c66f",
   "metadata": {},
   "outputs": [
    {
     "name": "stdout",
     "output_type": "stream",
     "text": [
      "{'GuaviareOI': 57.96} {'Guaviare_proporcion': 0.05}\n"
     ]
    }
   ],
   "source": [
    "Guaviare_Dict1 = {\"GuaviareOI\": 57.96}\n",
    "Guaviare_Dict2 = {\"Guaviare_proporcion\": 0.05}\n",
    "print(Guaviare_Dict1, Guaviare_Dict2)"
   ]
  },
  {
   "cell_type": "code",
   "execution_count": 72,
   "id": "5a53ba8b",
   "metadata": {},
   "outputs": [],
   "source": [
    "Huila = GEIH_2022[\"Departamento\"] == \"Huila\"\n",
    "Huila = GEIH_2022[Huila]"
   ]
  },
  {
   "cell_type": "code",
   "execution_count": 73,
   "id": "c7c69fb1",
   "metadata": {
    "scrolled": true
   },
   "outputs": [
    {
     "data": {
      "text/plain": [
       "68.72306053091008"
      ]
     },
     "execution_count": 73,
     "metadata": {},
     "output_type": "execute_result"
    }
   ],
   "source": [
    "Ponderacion_Huila = Huila[\"Ponderacion\"].sum()\n",
    "Expansion_Huila = Huila[\"FactorExpansion\"].sum()\n",
    "HuilaOI = (Ponderacion_Huila/ Expansion_Huila) * 100\n",
    "HuilaOI"
   ]
  },
  {
   "cell_type": "code",
   "execution_count": 74,
   "id": "77869e12",
   "metadata": {
    "scrolled": true
   },
   "outputs": [
    {
     "data": {
      "text/plain": [
       "1.409507951100284"
      ]
     },
     "execution_count": 74,
     "metadata": {},
     "output_type": "execute_result"
    }
   ],
   "source": [
    "Huila_proporcion = (Ponderacion_Huila / Total_Expansion ) * 100\n",
    "Huila_proporcion"
   ]
  },
  {
   "cell_type": "code",
   "execution_count": 75,
   "id": "d1971911",
   "metadata": {},
   "outputs": [
    {
     "name": "stdout",
     "output_type": "stream",
     "text": [
      "{'HuilaOI': 68.72} {'Huila_proporcion': 1.4}\n"
     ]
    }
   ],
   "source": [
    "Huila_Dict1 = {\"HuilaOI\": 68.72}\n",
    "Huila_Dict2 = {\"Huila_proporcion\": 1.4}\n",
    "print(Huila_Dict1, Huila_Dict2)"
   ]
  },
  {
   "cell_type": "code",
   "execution_count": 76,
   "id": "b340c9a7",
   "metadata": {},
   "outputs": [],
   "source": [
    "Guajira = GEIH_2022[\"Departamento\"] == \"Guajira\"\n",
    "Guajira = GEIH_2022[Guajira]"
   ]
  },
  {
   "cell_type": "code",
   "execution_count": 77,
   "id": "f05c18ad",
   "metadata": {
    "scrolled": false
   },
   "outputs": [
    {
     "data": {
      "text/plain": [
       "76.74526964252016"
      ]
     },
     "execution_count": 77,
     "metadata": {},
     "output_type": "execute_result"
    }
   ],
   "source": [
    "Ponderacion_Guajira = Guajira[\"Ponderacion\"].sum()\n",
    "Expansion_Guajira = Guajira[\"FactorExpansion\"].sum()\n",
    "GuajiraOI = (Ponderacion_Guajira/ Expansion_Guajira) * 100\n",
    "GuajiraOI"
   ]
  },
  {
   "cell_type": "code",
   "execution_count": 78,
   "id": "46754c40",
   "metadata": {
    "scrolled": true
   },
   "outputs": [
    {
     "data": {
      "text/plain": [
       "1.3394426608401617"
      ]
     },
     "execution_count": 78,
     "metadata": {},
     "output_type": "execute_result"
    }
   ],
   "source": [
    "Guajira_proporcion = (Ponderacion_Guajira/ Total_Expansion ) * 100\n",
    "Guajira_proporcion"
   ]
  },
  {
   "cell_type": "code",
   "execution_count": 79,
   "id": "8533975c",
   "metadata": {},
   "outputs": [
    {
     "name": "stdout",
     "output_type": "stream",
     "text": [
      "{'GuajiraOI': 76.74} {'Guajira_proporcion': 1.3}\n"
     ]
    }
   ],
   "source": [
    "Guajira_Dict1 = {\"GuajiraOI\": 76.74}\n",
    "Guajira_Dict2 = {\"Guajira_proporcion\": 1.3}\n",
    "print(Guajira_Dict1, Guajira_Dict2)"
   ]
  },
  {
   "cell_type": "code",
   "execution_count": 80,
   "id": "096d3f99",
   "metadata": {},
   "outputs": [],
   "source": [
    "Magdalena = GEIH_2022[\"Departamento\"] == \"Magdalena\"\n",
    "Magdalena = GEIH_2022[Magdalena]\n"
   ]
  },
  {
   "cell_type": "code",
   "execution_count": 81,
   "id": "62e2b4bf",
   "metadata": {
    "scrolled": false
   },
   "outputs": [
    {
     "data": {
      "text/plain": [
       "70.89073108924782"
      ]
     },
     "execution_count": 81,
     "metadata": {},
     "output_type": "execute_result"
    }
   ],
   "source": [
    "Ponderacion_Magdalena = Magdalena[\"Ponderacion\"].sum()\n",
    "Expansion_Magdalena = Magdalena[\"FactorExpansion\"].sum()\n",
    "MagdalenaOI = (Ponderacion_Magdalena/ Expansion_Magdalena) * 100\n",
    "MagdalenaOI"
   ]
  },
  {
   "cell_type": "code",
   "execution_count": 82,
   "id": "b1bd38f3",
   "metadata": {
    "scrolled": true
   },
   "outputs": [
    {
     "data": {
      "text/plain": [
       "1.9070754326610948"
      ]
     },
     "execution_count": 82,
     "metadata": {},
     "output_type": "execute_result"
    }
   ],
   "source": [
    "Magdalena_proporcion = (Ponderacion_Magdalena/ Total_Expansion ) * 100\n",
    "Magdalena_proporcion"
   ]
  },
  {
   "cell_type": "code",
   "execution_count": 83,
   "id": "8f3da6f3",
   "metadata": {},
   "outputs": [
    {
     "name": "stdout",
     "output_type": "stream",
     "text": [
      "{'MagdalenaOI': 70.89} {'Magdalena_proporcion': 1.9}\n"
     ]
    }
   ],
   "source": [
    "Magdalena_Dict1 = {\"MagdalenaOI\": 70.89}\n",
    "Magdalena_Dict2 = {\"Magdalena_proporcion\": 1.9}\n",
    "print(Magdalena_Dict1, Magdalena_Dict2)"
   ]
  },
  {
   "cell_type": "code",
   "execution_count": 84,
   "id": "3dd54ff3",
   "metadata": {},
   "outputs": [],
   "source": [
    "Meta = GEIH_2022[\"Departamento\"] == \"Meta\"\n",
    "Meta = GEIH_2022[Meta]"
   ]
  },
  {
   "cell_type": "code",
   "execution_count": 85,
   "id": "b5a17200",
   "metadata": {
    "scrolled": false
   },
   "outputs": [
    {
     "data": {
      "text/plain": [
       "55.631705735447824"
      ]
     },
     "execution_count": 85,
     "metadata": {},
     "output_type": "execute_result"
    }
   ],
   "source": [
    "Ponderacion_Meta = Meta[\"Ponderacion\"].sum()\n",
    "Expansion_Meta= Meta[\"FactorExpansion\"].sum()\n",
    "MetaOI = (Ponderacion_Meta/ Expansion_Meta) * 100\n",
    "MetaOI"
   ]
  },
  {
   "cell_type": "code",
   "execution_count": 86,
   "id": "1329d893",
   "metadata": {
    "scrolled": true
   },
   "outputs": [
    {
     "data": {
      "text/plain": [
       "1.2279833131506666"
      ]
     },
     "execution_count": 86,
     "metadata": {},
     "output_type": "execute_result"
    }
   ],
   "source": [
    "Meta_proporcion = (Ponderacion_Meta/ Total_Expansion ) * 100\n",
    "Meta_proporcion"
   ]
  },
  {
   "cell_type": "code",
   "execution_count": 87,
   "id": "9137de54",
   "metadata": {},
   "outputs": [
    {
     "name": "stdout",
     "output_type": "stream",
     "text": [
      "{'MetaOI': 55.63} {'Meta_proporcion': 1.22}\n"
     ]
    }
   ],
   "source": [
    "Meta_Dict1 = {\"MetaOI\": 55.63}\n",
    "Meta_Dict2 = {\"Meta_proporcion\": 1.22}\n",
    "print(Meta_Dict1, Meta_Dict2)"
   ]
  },
  {
   "cell_type": "code",
   "execution_count": 88,
   "id": "66160d39",
   "metadata": {},
   "outputs": [],
   "source": [
    "Narino = GEIH_2022[\"Departamento\"] == \"Narino\"\n",
    "Narino = GEIH_2022[Narino]"
   ]
  },
  {
   "cell_type": "code",
   "execution_count": 89,
   "id": "89b5ed31",
   "metadata": {
    "scrolled": false
   },
   "outputs": [
    {
     "data": {
      "text/plain": [
       "79.11475242701762"
      ]
     },
     "execution_count": 89,
     "metadata": {},
     "output_type": "execute_result"
    }
   ],
   "source": [
    "Ponderacion_Narino = Narino[\"Ponderacion\"].sum()\n",
    "Expansion_Narino = Narino[\"FactorExpansion\"].sum()\n",
    "NarinoOI = (Ponderacion_Narino/ Expansion_Narino) * 100\n",
    "NarinoOI"
   ]
  },
  {
   "cell_type": "code",
   "execution_count": 90,
   "id": "1d710bab",
   "metadata": {
    "scrolled": true
   },
   "outputs": [
    {
     "data": {
      "text/plain": [
       "3.2266659601665713"
      ]
     },
     "execution_count": 90,
     "metadata": {},
     "output_type": "execute_result"
    }
   ],
   "source": [
    "Narino_proporcion = (Ponderacion_Narino/ Total_Expansion ) * 100\n",
    "Narino_proporcion"
   ]
  },
  {
   "cell_type": "code",
   "execution_count": 91,
   "id": "73d58441",
   "metadata": {},
   "outputs": [
    {
     "name": "stdout",
     "output_type": "stream",
     "text": [
      "{'NarinoOI': 79.11} {'Narino_proporcion': 3.22}\n"
     ]
    }
   ],
   "source": [
    "Narino_Dict1 = {\"NarinoOI\": 79.11}\n",
    "Narino_Dict2 = {\"Narino_proporcion\": 3.22}\n",
    "print(Narino_Dict1, Narino_Dict2)"
   ]
  },
  {
   "cell_type": "code",
   "execution_count": 92,
   "id": "e8767e3b",
   "metadata": {},
   "outputs": [],
   "source": [
    "NorteSantander= GEIH_2022[\"Departamento\"] == \"NorteSantander\"\n",
    "NorteSantander = GEIH_2022[NorteSantander]"
   ]
  },
  {
   "cell_type": "code",
   "execution_count": 93,
   "id": "260246c9",
   "metadata": {
    "scrolled": false
   },
   "outputs": [
    {
     "data": {
      "text/plain": [
       "70.90460743652932"
      ]
     },
     "execution_count": 93,
     "metadata": {},
     "output_type": "execute_result"
    }
   ],
   "source": [
    "Ponderacion_NorteSantander = NorteSantander[\"Ponderacion\"].sum()\n",
    "Expansion_NorteSantander = NorteSantander[\"FactorExpansion\"].sum()\n",
    "NorteSantanderOI = (Ponderacion_NorteSantander/ Expansion_NorteSantander) * 100\n",
    "NorteSantanderOI"
   ]
  },
  {
   "cell_type": "code",
   "execution_count": 94,
   "id": "351cef40",
   "metadata": {
    "scrolled": true
   },
   "outputs": [
    {
     "data": {
      "text/plain": [
       "2.1724216490707415"
      ]
     },
     "execution_count": 94,
     "metadata": {},
     "output_type": "execute_result"
    }
   ],
   "source": [
    "NorteSantander_proporcion = (Ponderacion_NorteSantander/ Total_Expansion ) * 100\n",
    "NorteSantander_proporcion"
   ]
  },
  {
   "cell_type": "code",
   "execution_count": 95,
   "id": "2e1a4a8d",
   "metadata": {},
   "outputs": [
    {
     "name": "stdout",
     "output_type": "stream",
     "text": [
      "{'NorteSantanderOI': 70.9} {'NorteSanntander_proporcion': 2.17}\n"
     ]
    }
   ],
   "source": [
    "NorteSantander_Dict1 = {\"NorteSantanderOI\": 70.90}\n",
    "NorteSantander_Dict2 = {\"NorteSanntander_proporcion\": 2.17}\n",
    "print(NorteSantander_Dict1, NorteSantander_Dict2)"
   ]
  },
  {
   "cell_type": "code",
   "execution_count": 96,
   "id": "ab122f5c",
   "metadata": {},
   "outputs": [],
   "source": [
    "Putumayo = GEIH_2022[\"Departamento\"] == \"Putumayo\"\n",
    "Putumayo = GEIH_2022[Putumayo]"
   ]
  },
  {
   "cell_type": "code",
   "execution_count": 97,
   "id": "796edbd4",
   "metadata": {
    "scrolled": false
   },
   "outputs": [
    {
     "data": {
      "text/plain": [
       "44.86040590956706"
      ]
     },
     "execution_count": 97,
     "metadata": {},
     "output_type": "execute_result"
    }
   ],
   "source": [
    "Ponderacion_Putumayo = Putumayo[\"Ponderacion\"].sum()\n",
    "Expansion_Putumayo = Putumayo[\"FactorExpansion\"].sum()\n",
    "PutumayoOI = (Ponderacion_Putumayo/ Expansion_Putumayo) * 100\n",
    "PutumayoOI"
   ]
  },
  {
   "cell_type": "code",
   "execution_count": 98,
   "id": "b00157c8",
   "metadata": {
    "scrolled": true
   },
   "outputs": [
    {
     "data": {
      "text/plain": [
       "0.030551788668497008"
      ]
     },
     "execution_count": 98,
     "metadata": {},
     "output_type": "execute_result"
    }
   ],
   "source": [
    "Putumayo_proporcion = (Ponderacion_Putumayo/ Total_Expansion ) * 100\n",
    "Putumayo_proporcion"
   ]
  },
  {
   "cell_type": "code",
   "execution_count": 99,
   "id": "8cce7860",
   "metadata": {},
   "outputs": [
    {
     "name": "stdout",
     "output_type": "stream",
     "text": [
      "{'PutumayoOI': 44.86} {'Putumayo_proporcion': 0.03}\n"
     ]
    }
   ],
   "source": [
    "Putumayo_Dict1 = {\"PutumayoOI\": 44.86}\n",
    "Putumayo_Dict2 = {\"Putumayo_proporcion\": 0.03}\n",
    "print(Putumayo_Dict1, Putumayo_Dict2)"
   ]
  },
  {
   "cell_type": "code",
   "execution_count": 100,
   "id": "67a53919",
   "metadata": {},
   "outputs": [],
   "source": [
    "Quindio= GEIH_2022[\"Departamento\"] == \"Quindio\"\n",
    "Quindio = GEIH_2022[Quindio]"
   ]
  },
  {
   "cell_type": "code",
   "execution_count": 101,
   "id": "729bc72e",
   "metadata": {
    "scrolled": false
   },
   "outputs": [
    {
     "data": {
      "text/plain": [
       "50.14380893227116"
      ]
     },
     "execution_count": 101,
     "metadata": {},
     "output_type": "execute_result"
    }
   ],
   "source": [
    "Ponderacion_Quindio = Quindio[\"Ponderacion\"].sum()\n",
    "Expansion_Quindio = Quindio[\"FactorExpansion\"].sum()\n",
    "QuindioOI = (Ponderacion_Quindio/ Expansion_Quindio) * 100\n",
    "QuindioOI"
   ]
  },
  {
   "cell_type": "code",
   "execution_count": 102,
   "id": "786aa7fa",
   "metadata": {
    "scrolled": true
   },
   "outputs": [
    {
     "data": {
      "text/plain": [
       "0.5295470704575407"
      ]
     },
     "execution_count": 102,
     "metadata": {},
     "output_type": "execute_result"
    }
   ],
   "source": [
    "Quindio_proporcion = (Ponderacion_Quindio/ Total_Expansion ) * 100\n",
    "Quindio_proporcion"
   ]
  },
  {
   "cell_type": "code",
   "execution_count": 103,
   "id": "cbbc68d4",
   "metadata": {},
   "outputs": [
    {
     "name": "stdout",
     "output_type": "stream",
     "text": [
      "{'QuindioOI': 50.14} {'Quindio_proporcion': 0.52}\n"
     ]
    }
   ],
   "source": [
    "Quindio_Dict1 = {\"QuindioOI\": 50.14}\n",
    "Quindio_Dict2 = {\"Quindio_proporcion\": 0.52}\n",
    "print(Quindio_Dict1, Quindio_Dict2)"
   ]
  },
  {
   "cell_type": "code",
   "execution_count": 104,
   "id": "5d33a25b",
   "metadata": {},
   "outputs": [],
   "source": [
    "Risaralda = GEIH_2022[\"Departamento\"] == \"Risaralda\"\n",
    "Risaralda = GEIH_2022[Risaralda]"
   ]
  },
  {
   "cell_type": "code",
   "execution_count": 105,
   "id": "e4a9d840",
   "metadata": {
    "scrolled": false
   },
   "outputs": [
    {
     "data": {
      "text/plain": [
       "80.49049770386942"
      ]
     },
     "execution_count": 105,
     "metadata": {},
     "output_type": "execute_result"
    }
   ],
   "source": [
    "Ponderacion_Risaralda = Risaralda[\"Ponderacion\"].sum()\n",
    "Expansion_Risaralda = Risaralda[\"FactorExpansion\"].sum()\n",
    "RisaraldaOI = (Ponderacion_Risaralda/ Expansion_Quindio) * 100\n",
    "RisaraldaOI"
   ]
  },
  {
   "cell_type": "code",
   "execution_count": 106,
   "id": "47eb6f7e",
   "metadata": {
    "scrolled": true
   },
   "outputs": [
    {
     "data": {
      "text/plain": [
       "0.8500253205001775"
      ]
     },
     "execution_count": 106,
     "metadata": {},
     "output_type": "execute_result"
    }
   ],
   "source": [
    "Risaralda_proporcion = (Ponderacion_Risaralda/ Total_Expansion ) * 100\n",
    "Risaralda_proporcion"
   ]
  },
  {
   "cell_type": "code",
   "execution_count": 107,
   "id": "cb6b3a62",
   "metadata": {},
   "outputs": [
    {
     "name": "stdout",
     "output_type": "stream",
     "text": [
      "{'RisaraldaOI': 80.49} {'Risaralda_proporcion': 0.85}\n"
     ]
    }
   ],
   "source": [
    "Risaralda_Dict1 = {\"RisaraldaOI\": 80.49}\n",
    "Risaralda_Dict2 = {\"Risaralda_proporcion\": 0.85}\n",
    "print(Risaralda_Dict1, Risaralda_Dict2)"
   ]
  },
  {
   "cell_type": "code",
   "execution_count": 108,
   "id": "9e3eede5",
   "metadata": {},
   "outputs": [],
   "source": [
    "SanAndres = GEIH_2022[\"Departamento\"] == \"SAI\"\n",
    "SanAndres = GEIH_2022[SanAndres]"
   ]
  },
  {
   "cell_type": "code",
   "execution_count": 109,
   "id": "93daa7c9",
   "metadata": {
    "scrolled": false
   },
   "outputs": [
    {
     "data": {
      "text/plain": [
       "40.99390678052223"
      ]
     },
     "execution_count": 109,
     "metadata": {},
     "output_type": "execute_result"
    }
   ],
   "source": [
    "Ponderacion_SanAndres = SanAndres[\"Ponderacion\"].sum()\n",
    "Expansion_SanAndres = SanAndres[\"FactorExpansion\"].sum()\n",
    "SanAndresOI = (Ponderacion_SanAndres/ Expansion_SanAndres) * 100\n",
    "SanAndresOI"
   ]
  },
  {
   "cell_type": "code",
   "execution_count": 110,
   "id": "5738fcf3",
   "metadata": {
    "scrolled": true
   },
   "outputs": [
    {
     "data": {
      "text/plain": [
       "0.039638156251945424"
      ]
     },
     "execution_count": 110,
     "metadata": {},
     "output_type": "execute_result"
    }
   ],
   "source": [
    "SanAndres_proporcion = (Ponderacion_SanAndres/ Total_Expansion ) * 100\n",
    "SanAndres_proporcion"
   ]
  },
  {
   "cell_type": "code",
   "execution_count": 111,
   "id": "a835699b",
   "metadata": {},
   "outputs": [
    {
     "name": "stdout",
     "output_type": "stream",
     "text": [
      "{'SanAndresOI': 40.99} {'SanAndres_proporcion': 0.03}\n"
     ]
    }
   ],
   "source": [
    "SanAndres_Dict1 = {\"SanAndresOI\": 40.99}\n",
    "SanAndres_Dict2 = {\"SanAndres_proporcion\": 0.03}\n",
    "print(SanAndres_Dict1, SanAndres_Dict2)"
   ]
  },
  {
   "cell_type": "code",
   "execution_count": 112,
   "id": "5507d1a6",
   "metadata": {},
   "outputs": [],
   "source": [
    "Santander = GEIH_2022[\"Departamento\"] == \"Santander\"\n",
    "Santander = GEIH_2022[Santander]"
   ]
  },
  {
   "cell_type": "code",
   "execution_count": 113,
   "id": "741b2533",
   "metadata": {
    "scrolled": false
   },
   "outputs": [
    {
     "data": {
      "text/plain": [
       "54.0418020630734"
      ]
     },
     "execution_count": 113,
     "metadata": {},
     "output_type": "execute_result"
    }
   ],
   "source": [
    "Ponderacion_Santander = Santander[\"Ponderacion\"].sum()\n",
    "Expansion_Santander = Santander[\"FactorExpansion\"].sum()\n",
    "SantanderOI = (Ponderacion_Santander/ Expansion_Santander) * 100\n",
    "SantanderOI"
   ]
  },
  {
   "cell_type": "code",
   "execution_count": 114,
   "id": "a3569513",
   "metadata": {
    "scrolled": false
   },
   "outputs": [
    {
     "data": {
      "text/plain": [
       "2.485914792217203"
      ]
     },
     "execution_count": 114,
     "metadata": {},
     "output_type": "execute_result"
    }
   ],
   "source": [
    "Santander_proporcion = (Ponderacion_Santander/ Total_Expansion ) * 100\n",
    "Santander_proporcion"
   ]
  },
  {
   "cell_type": "code",
   "execution_count": 115,
   "id": "547e5307",
   "metadata": {},
   "outputs": [
    {
     "name": "stdout",
     "output_type": "stream",
     "text": [
      "{'SantanderOI': 54.04} {'Santander_proporcion': 2.48}\n"
     ]
    }
   ],
   "source": [
    "Santander_Dict1 = {\"SantanderOI\": 54.04}\n",
    "Santander_Dict2 = {\"Santander_proporcion\": 2.48}\n",
    "print(Santander_Dict1, Santander_Dict2)"
   ]
  },
  {
   "cell_type": "code",
   "execution_count": 116,
   "id": "48292355",
   "metadata": {},
   "outputs": [],
   "source": [
    "Sucre = GEIH_2022[\"Departamento\"] == \"Sucre\"\n",
    "Sucre = GEIH_2022[Sucre]"
   ]
  },
  {
   "cell_type": "code",
   "execution_count": 117,
   "id": "41a5548a",
   "metadata": {
    "scrolled": false
   },
   "outputs": [
    {
     "data": {
      "text/plain": [
       "74.52802288324078"
      ]
     },
     "execution_count": 117,
     "metadata": {},
     "output_type": "execute_result"
    }
   ],
   "source": [
    "Ponderacion_Sucre = Sucre[\"Ponderacion\"].sum()\n",
    "Expansion_Sucre = Sucre[\"FactorExpansion\"].sum()\n",
    "SucreOI = (Ponderacion_Sucre/ Expansion_Sucre) * 100\n",
    "SucreOI"
   ]
  },
  {
   "cell_type": "code",
   "execution_count": 118,
   "id": "a05e7f0f",
   "metadata": {
    "scrolled": false
   },
   "outputs": [
    {
     "data": {
      "text/plain": [
       "1.3208177701843011"
      ]
     },
     "execution_count": 118,
     "metadata": {},
     "output_type": "execute_result"
    }
   ],
   "source": [
    "Sucre_proporcion = (Ponderacion_Sucre/ Total_Expansion ) * 100\n",
    "Sucre_proporcion"
   ]
  },
  {
   "cell_type": "code",
   "execution_count": 119,
   "id": "15265349",
   "metadata": {},
   "outputs": [
    {
     "name": "stdout",
     "output_type": "stream",
     "text": [
      "{'SucreOI': 74.52} {'Sucre_proporcion': 1.32}\n"
     ]
    }
   ],
   "source": [
    "Sucre_Dict1 = {\"SucreOI\": 74.52}\n",
    "Sucre_Dict2 = {\"Sucre_proporcion\": 1.32}\n",
    "print(Sucre_Dict1, Sucre_Dict2)"
   ]
  },
  {
   "cell_type": "code",
   "execution_count": 120,
   "id": "0880633b",
   "metadata": {},
   "outputs": [],
   "source": [
    "Tolima = GEIH_2022[\"Departamento\"] == \"Tolima\"\n",
    "Tolima = GEIH_2022[Tolima]"
   ]
  },
  {
   "cell_type": "code",
   "execution_count": 121,
   "id": "12e51aaf",
   "metadata": {
    "scrolled": false
   },
   "outputs": [
    {
     "data": {
      "text/plain": [
       "60.240769038624606"
      ]
     },
     "execution_count": 121,
     "metadata": {},
     "output_type": "execute_result"
    }
   ],
   "source": [
    "Ponderacion_Tolima = Tolima[\"Ponderacion\"].sum()\n",
    "Expansion_Tolima= Tolima[\"FactorExpansion\"].sum()\n",
    "TolimaOI = (Ponderacion_Tolima/ Expansion_Tolima) * 100\n",
    "TolimaOI"
   ]
  },
  {
   "cell_type": "code",
   "execution_count": 122,
   "id": "8e60342e",
   "metadata": {
    "scrolled": false
   },
   "outputs": [
    {
     "data": {
      "text/plain": [
       "1.4359200050681658"
      ]
     },
     "execution_count": 122,
     "metadata": {},
     "output_type": "execute_result"
    }
   ],
   "source": [
    "Tolima_proporcion = (Ponderacion_Tolima/ Total_Expansion ) * 100\n",
    "Tolima_proporcion"
   ]
  },
  {
   "cell_type": "code",
   "execution_count": 123,
   "id": "dc685228",
   "metadata": {},
   "outputs": [
    {
     "name": "stdout",
     "output_type": "stream",
     "text": [
      "{'TolimaOI': 60.24} {'Tolima_proporcion': 1.43}\n"
     ]
    }
   ],
   "source": [
    "Tolima_Dict1 = {\"TolimaOI\": 60.24}\n",
    "Tolima_Dict2 = {\"Tolima_proporcion\": 1.43}\n",
    "print(Tolima_Dict1, Tolima_Dict2)"
   ]
  },
  {
   "cell_type": "code",
   "execution_count": 124,
   "id": "46df658b",
   "metadata": {},
   "outputs": [],
   "source": [
    "Valle = GEIH_2022[\"Departamento\"] == \"Valle\"\n",
    "Valle = GEIH_2022[Valle]"
   ]
  },
  {
   "cell_type": "code",
   "execution_count": 125,
   "id": "f5d13689",
   "metadata": {
    "scrolled": false
   },
   "outputs": [
    {
     "data": {
      "text/plain": [
       "48.90236195779351"
      ]
     },
     "execution_count": 125,
     "metadata": {},
     "output_type": "execute_result"
    }
   ],
   "source": [
    "Ponderacion_Valle = Valle[\"Ponderacion\"].sum()\n",
    "Expansion_Valle= Valle[\"FactorExpansion\"].sum()\n",
    "ValleOI = (Ponderacion_Valle/ Expansion_Valle) * 100\n",
    "ValleOI"
   ]
  },
  {
   "cell_type": "code",
   "execution_count": 126,
   "id": "3986d22a",
   "metadata": {
    "scrolled": false
   },
   "outputs": [
    {
     "data": {
      "text/plain": [
       "4.461335908725409"
      ]
     },
     "execution_count": 126,
     "metadata": {},
     "output_type": "execute_result"
    }
   ],
   "source": [
    "Valle_proporcion = (Ponderacion_Valle/ Total_Expansion ) * 100\n",
    "Valle_proporcion"
   ]
  },
  {
   "cell_type": "code",
   "execution_count": 127,
   "id": "e14286a8",
   "metadata": {},
   "outputs": [
    {
     "name": "stdout",
     "output_type": "stream",
     "text": [
      "{'ValleOI': 48.9} {'Valle_proporcion': 4.46}\n"
     ]
    }
   ],
   "source": [
    "Valle_Dict1 = {\"ValleOI\": 48.90}\n",
    "Valle_Dict2 = {\"Valle_proporcion\": 4.46}\n",
    "print(Valle_Dict1, Valle_Dict2)"
   ]
  },
  {
   "cell_type": "code",
   "execution_count": 128,
   "id": "aef3e158",
   "metadata": {},
   "outputs": [],
   "source": [
    "Vaupes = GEIH_2022[\"Departamento\"] == \"Vaupes\"\n",
    "Vaupes = GEIH_2022[Vaupes]"
   ]
  },
  {
   "cell_type": "code",
   "execution_count": 129,
   "id": "6bfcd097",
   "metadata": {
    "scrolled": false
   },
   "outputs": [
    {
     "data": {
      "text/plain": [
       "37.06786867701845"
      ]
     },
     "execution_count": 129,
     "metadata": {},
     "output_type": "execute_result"
    }
   ],
   "source": [
    "Ponderacion_Vaupes = Vaupes[\"Ponderacion\"].sum()\n",
    "Expansion_Vaupes= Vaupes[\"FactorExpansion\"].sum()\n",
    "VaupesOI = (Ponderacion_Vaupes/ Expansion_Vaupes) * 100\n",
    "VaupesOI"
   ]
  },
  {
   "cell_type": "code",
   "execution_count": 130,
   "id": "029324f0",
   "metadata": {
    "scrolled": false
   },
   "outputs": [
    {
     "data": {
      "text/plain": [
       "0.007501439105261037"
      ]
     },
     "execution_count": 130,
     "metadata": {},
     "output_type": "execute_result"
    }
   ],
   "source": [
    "Vaupes_proporcion = (Ponderacion_Vaupes/ Total_Expansion ) * 100\n",
    "Vaupes_proporcion"
   ]
  },
  {
   "cell_type": "code",
   "execution_count": 131,
   "id": "5dba83bd",
   "metadata": {},
   "outputs": [
    {
     "name": "stdout",
     "output_type": "stream",
     "text": [
      "{'VaupesOI': 37.06} {'Vaupes_proporcion': 0.007}\n"
     ]
    }
   ],
   "source": [
    "Vaupes_Dict1 = {\"VaupesOI\": 37.06}\n",
    "Vaupes_Dict2 = {\"Vaupes_proporcion\": 0.007}\n",
    "print(Vaupes_Dict1, Vaupes_Dict2)"
   ]
  },
  {
   "cell_type": "code",
   "execution_count": 132,
   "id": "2a6fb0cd",
   "metadata": {},
   "outputs": [],
   "source": [
    "Vichada = GEIH_2022[\"Departamento\"] == \"Vichada\"\n",
    "Vichada = GEIH_2022[Vichada]"
   ]
  },
  {
   "cell_type": "code",
   "execution_count": 133,
   "id": "f2926e0c",
   "metadata": {
    "scrolled": false
   },
   "outputs": [
    {
     "data": {
      "text/plain": [
       "53.92285329402272"
      ]
     },
     "execution_count": 133,
     "metadata": {},
     "output_type": "execute_result"
    }
   ],
   "source": [
    "Ponderacion_Vichada = Vichada[\"Ponderacion\"].sum()\n",
    "Expansion_Vichada= Vichada[\"FactorExpansion\"].sum()\n",
    "VichadaOI = (Ponderacion_Vichada/ Expansion_Vichada) * 100\n",
    "VichadaOI"
   ]
  },
  {
   "cell_type": "code",
   "execution_count": 134,
   "id": "ff39dee1",
   "metadata": {
    "scrolled": false
   },
   "outputs": [
    {
     "data": {
      "text/plain": [
       "0.01718799498399812"
      ]
     },
     "execution_count": 134,
     "metadata": {},
     "output_type": "execute_result"
    }
   ],
   "source": [
    "Vichada_proporcion = (Ponderacion_Vichada/ Total_Expansion ) * 100\n",
    "Vichada_proporcion"
   ]
  },
  {
   "cell_type": "code",
   "execution_count": 135,
   "id": "bfe6d704",
   "metadata": {},
   "outputs": [
    {
     "name": "stdout",
     "output_type": "stream",
     "text": [
      "{'VichadaOI': 53.92} {'Vichada_proporcion': 0.01}\n"
     ]
    }
   ],
   "source": [
    "Vichada_Dict1 = {\"VichadaOI\": 53.92}\n",
    "Vichada_Dict2 = {\"Vichada_proporcion\": 0.01}\n",
    "print(Vichada_Dict1, Vichada_Dict2)"
   ]
  },
  {
   "cell_type": "code",
   "execution_count": 136,
   "id": "5b065217",
   "metadata": {},
   "outputs": [],
   "source": [
    "Mujer = GEIH_2022[\"Sexo\"] == \"Mujer\"\n",
    "Mujer = GEIH_2022[Mujer]"
   ]
  },
  {
   "cell_type": "code",
   "execution_count": 137,
   "id": "782410a6",
   "metadata": {
    "scrolled": false
   },
   "outputs": [
    {
     "data": {
      "text/plain": [
       "48.98320558150915"
      ]
     },
     "execution_count": 137,
     "metadata": {},
     "output_type": "execute_result"
    }
   ],
   "source": [
    "Ponderacion_Mujer = Mujer[\"Ponderacion\"].sum()\n",
    "Expansion_Mujer= Mujer[\"FactorExpansion\"].sum()\n",
    "MujerOI = (Ponderacion_Mujer/ Expansion_Mujer) * 100\n",
    "MujerOI"
   ]
  },
  {
   "cell_type": "code",
   "execution_count": 138,
   "id": "6e7f8bed",
   "metadata": {
    "scrolled": false
   },
   "outputs": [
    {
     "data": {
      "text/plain": [
       "19.992332191872684"
      ]
     },
     "execution_count": 138,
     "metadata": {},
     "output_type": "execute_result"
    }
   ],
   "source": [
    "Mujer_proporcion = (Ponderacion_Mujer/ Total_Expansion ) * 100\n",
    "Mujer_proporcion"
   ]
  },
  {
   "cell_type": "code",
   "execution_count": 139,
   "id": "ceedde61",
   "metadata": {},
   "outputs": [
    {
     "name": "stdout",
     "output_type": "stream",
     "text": [
      "{'MujerOI': 48.98} {'Mujer_proporcion': 19.99}\n"
     ]
    }
   ],
   "source": [
    "Mujer_Dict1 = {\"MujerOI\": 48.98}\n",
    "Mujer_Dict2 = {\"Mujer_proporcion\": 19.99}\n",
    "print(Mujer_Dict1, Mujer_Dict2)"
   ]
  },
  {
   "cell_type": "code",
   "execution_count": 140,
   "id": "8ef18f70",
   "metadata": {},
   "outputs": [],
   "source": [
    "Hombre= GEIH_2022[\"Sexo\"] == \"Hombre\"\n",
    "Hombre = GEIH_2022[Hombre]"
   ]
  },
  {
   "cell_type": "code",
   "execution_count": 141,
   "id": "82a20040",
   "metadata": {
    "scrolled": false
   },
   "outputs": [
    {
     "data": {
      "text/plain": [
       "56.5757723766198"
      ]
     },
     "execution_count": 141,
     "metadata": {},
     "output_type": "execute_result"
    }
   ],
   "source": [
    "Ponderacion_Hombre = Hombre[\"Ponderacion\"].sum()\n",
    "Expansion_Hombre= Hombre[\"FactorExpansion\"].sum()\n",
    "HombreOI = (Ponderacion_Hombre/ Expansion_Hombre) * 100\n",
    "HombreOI"
   ]
  },
  {
   "cell_type": "code",
   "execution_count": 142,
   "id": "4ab26d9d",
   "metadata": {
    "scrolled": false
   },
   "outputs": [
    {
     "data": {
      "text/plain": [
       "33.48455933865288"
      ]
     },
     "execution_count": 142,
     "metadata": {},
     "output_type": "execute_result"
    }
   ],
   "source": [
    "Hombre_proporcion = (Ponderacion_Hombre/ Total_Expansion ) * 100\n",
    "Hombre_proporcion"
   ]
  },
  {
   "cell_type": "code",
   "execution_count": 143,
   "id": "f9178873",
   "metadata": {},
   "outputs": [
    {
     "name": "stdout",
     "output_type": "stream",
     "text": [
      "{'HombreOI': 56.57} {'Hombre_proporcion': 33.4}\n"
     ]
    }
   ],
   "source": [
    "Hombre_Dict1 = {\"HombreOI\": 56.57}\n",
    "Hombre_Dict2 = {\"Hombre_proporcion\": 33.4}\n",
    "print(Hombre_Dict1, Hombre_Dict2)"
   ]
  },
  {
   "cell_type": "code",
   "execution_count": 144,
   "id": "7f249819",
   "metadata": {},
   "outputs": [],
   "source": [
    "Ninguno = GEIH_2022[\"Etnia\"] == \"Ninguno\"\n",
    "Ninguno = GEIH_2022[Ninguno]"
   ]
  },
  {
   "cell_type": "code",
   "execution_count": 145,
   "id": "fddb8e26",
   "metadata": {
    "scrolled": false
   },
   "outputs": [
    {
     "data": {
      "text/plain": [
       "46.35430557659932"
      ]
     },
     "execution_count": 145,
     "metadata": {},
     "output_type": "execute_result"
    }
   ],
   "source": [
    "Ponderacion_Ninguno = Ninguno[\"Ponderacion\"].sum()\n",
    "Ninguno_proporcion = (Ponderacion_Ninguno/ Total_Expansion ) * 100\n",
    "Ninguno_proporcion"
   ]
  },
  {
   "cell_type": "code",
   "execution_count": 146,
   "id": "c3d23403",
   "metadata": {},
   "outputs": [
    {
     "data": {
      "text/plain": [
       "51.95624255732781"
      ]
     },
     "execution_count": 146,
     "metadata": {},
     "output_type": "execute_result"
    }
   ],
   "source": [
    "Expansion_Ninguno= Ninguno[\"FactorExpansion\"].sum()\n",
    "NingunoOI = (Ponderacion_Ninguno/ Expansion_Ninguno) * 100\n",
    "NingunoOI"
   ]
  },
  {
   "cell_type": "code",
   "execution_count": 147,
   "id": "3fa4e3e9",
   "metadata": {},
   "outputs": [
    {
     "name": "stdout",
     "output_type": "stream",
     "text": [
      "{'Ninguno_proporcion': 46.35} {'NingunoOI': 51.95}\n"
     ]
    }
   ],
   "source": [
    "Ninguno_Dict = {\"Ninguno_proporcion\": 46.35}\n",
    "Ninguno_Dict2 = {\"NingunoOI\": 51.95}\n",
    "print(Ninguno_Dict,Ninguno_Dict2)"
   ]
  },
  {
   "cell_type": "code",
   "execution_count": 148,
   "id": "ec4e0069",
   "metadata": {},
   "outputs": [],
   "source": [
    "Indigena = GEIH_2022[\"Etnia\"] == \"Indígena\"\n",
    "Indigena = GEIH_2022[Indigena]"
   ]
  },
  {
   "cell_type": "code",
   "execution_count": 149,
   "id": "138187e4",
   "metadata": {},
   "outputs": [
    {
     "data": {
      "text/plain": [
       "2.7589362535725663"
      ]
     },
     "execution_count": 149,
     "metadata": {},
     "output_type": "execute_result"
    }
   ],
   "source": [
    "Ponderacion_Indigena = Indigena[\"Ponderacion\"].sum()\n",
    "Indigena_proporcion = (Ponderacion_Indigena/ Total_Expansion ) * 100\n",
    "Indigena_proporcion"
   ]
  },
  {
   "cell_type": "code",
   "execution_count": 150,
   "id": "d15634d2",
   "metadata": {},
   "outputs": [
    {
     "data": {
      "text/plain": [
       "73.87891580185237"
      ]
     },
     "execution_count": 150,
     "metadata": {},
     "output_type": "execute_result"
    }
   ],
   "source": [
    "Expansion_Indigena= Indigena[\"FactorExpansion\"].sum()\n",
    "IndigenaOI = (Ponderacion_Indigena/ Expansion_Indigena) * 100\n",
    "IndigenaOI"
   ]
  },
  {
   "cell_type": "code",
   "execution_count": 151,
   "id": "03fe88be",
   "metadata": {
    "scrolled": true
   },
   "outputs": [
    {
     "name": "stdout",
     "output_type": "stream",
     "text": [
      "{'Indigena_proporcion': 2.75} {'IndigenaOI': 73.87}\n"
     ]
    }
   ],
   "source": [
    "Indigena_Dict = {\"Indigena_proporcion\": 2.75}\n",
    "Indigena_Dict2 = {\"IndigenaOI\": 73.87}\n",
    "print(Indigena_Dict,Indigena_Dict2)\n"
   ]
  },
  {
   "cell_type": "code",
   "execution_count": 152,
   "id": "e67b20ae",
   "metadata": {},
   "outputs": [],
   "source": [
    "Afros_Mulatos = GEIH_2022[\"Etnia\"] == \"Negro_mulato_afrod_afroc\"\n",
    "Afros_Mulatos = GEIH_2022[Afros_Mulatos]"
   ]
  },
  {
   "cell_type": "code",
   "execution_count": 153,
   "id": "83dc2dee",
   "metadata": {},
   "outputs": [
    {
     "data": {
      "text/plain": [
       "4.3178153437973785"
      ]
     },
     "execution_count": 153,
     "metadata": {},
     "output_type": "execute_result"
    }
   ],
   "source": [
    "Ponderacion_Afros_Mulatos = Afros_Mulatos[\"Ponderacion\"].sum()\n",
    "Afros_Mulatos_proporcion = (Ponderacion_Afros_Mulatos / Total_Expansion ) * 100\n",
    "Afros_Mulatos_proporcion"
   ]
  },
  {
   "cell_type": "code",
   "execution_count": 154,
   "id": "d67981bc",
   "metadata": {},
   "outputs": [
    {
     "data": {
      "text/plain": [
       "61.973973184321395"
      ]
     },
     "execution_count": 154,
     "metadata": {},
     "output_type": "execute_result"
    }
   ],
   "source": [
    "Expansion_Afros_Mulatos= Afros_Mulatos[\"FactorExpansion\"].sum()\n",
    "Afros_MulatosOI = (Ponderacion_Afros_Mulatos/ Expansion_Afros_Mulatos) * 100\n",
    "Afros_MulatosOI"
   ]
  },
  {
   "cell_type": "code",
   "execution_count": 155,
   "id": "628f3209",
   "metadata": {},
   "outputs": [
    {
     "name": "stdout",
     "output_type": "stream",
     "text": [
      "{'Afros_Mulatos_proporcion': 4.31} {'Afros_MulatosOI': 61.97}\n"
     ]
    }
   ],
   "source": [
    "Afros_Mulatos_Dict = {\"Afros_Mulatos_proporcion\": 4.31}\n",
    "Afros_Mulatos_Dict2 = {\"Afros_MulatosOI\": 61.97}\n",
    "print(Afros_Mulatos_Dict,Afros_Mulatos_Dict2)"
   ]
  },
  {
   "cell_type": "code",
   "execution_count": 156,
   "id": "62d4139a",
   "metadata": {},
   "outputs": [],
   "source": [
    "Gitano =  GEIH_2022[\"Etnia\"] == \"Gitano\"\n",
    "Gitano = GEIH_2022[Gitano]"
   ]
  },
  {
   "cell_type": "code",
   "execution_count": 157,
   "id": "a360599f",
   "metadata": {},
   "outputs": [
    {
     "data": {
      "text/plain": [
       "0.007186057774803632"
      ]
     },
     "execution_count": 157,
     "metadata": {},
     "output_type": "execute_result"
    }
   ],
   "source": [
    "Ponderacion_Gitano = Gitano[\"Ponderacion\"].sum()\n",
    "Gitano_proporcion = (Ponderacion_Gitano/ Total_Expansion ) * 100\n",
    "Gitano_proporcion"
   ]
  },
  {
   "cell_type": "code",
   "execution_count": 158,
   "id": "22de1312",
   "metadata": {
    "scrolled": true
   },
   "outputs": [
    {
     "data": {
      "text/plain": [
       "{'Gitano_proporcion': 0.007}"
      ]
     },
     "execution_count": 158,
     "metadata": {},
     "output_type": "execute_result"
    }
   ],
   "source": [
    "Gitano_Dict = {\"Gitano_proporcion\": 0.007}\n",
    "Gitano_Dict"
   ]
  },
  {
   "cell_type": "code",
   "execution_count": 159,
   "id": "6a823353",
   "metadata": {},
   "outputs": [],
   "source": [
    "Palenquero =  GEIH_2022[\"Etnia\"] == \"Palenquero\"\n",
    "Palenquero = GEIH_2022[Palenquero]"
   ]
  },
  {
   "cell_type": "code",
   "execution_count": 160,
   "id": "e05b9c5a",
   "metadata": {},
   "outputs": [
    {
     "data": {
      "text/plain": [
       "0.01946446505261181"
      ]
     },
     "execution_count": 160,
     "metadata": {},
     "output_type": "execute_result"
    }
   ],
   "source": [
    "Ponderacion_Palenquero = Palenquero[\"Ponderacion\"].sum()\n",
    "Palenquero_proporcion = (Ponderacion_Palenquero/ Total_Expansion ) * 100\n",
    "Palenquero_proporcion"
   ]
  },
  {
   "cell_type": "code",
   "execution_count": 161,
   "id": "6a159ca0",
   "metadata": {},
   "outputs": [
    {
     "data": {
      "text/plain": [
       "{'Palenquero_proporcion': 0.01}"
      ]
     },
     "execution_count": 161,
     "metadata": {},
     "output_type": "execute_result"
    }
   ],
   "source": [
    "Palenquero_Dict = {\"Palenquero_proporcion\": 0.01}\n",
    "Palenquero_Dict"
   ]
  },
  {
   "cell_type": "code",
   "execution_count": 162,
   "id": "6a5a85cb",
   "metadata": {},
   "outputs": [],
   "source": [
    "Raizal_SAI=  GEIH_2022[\"Etnia\"] == \"Raizal_SAI\"\n",
    "Raizal_SAI = GEIH_2022[Raizal_SAI]"
   ]
  },
  {
   "cell_type": "code",
   "execution_count": 163,
   "id": "f8af7ab1",
   "metadata": {},
   "outputs": [
    {
     "data": {
      "text/plain": [
       "0.01918383372887771"
      ]
     },
     "execution_count": 163,
     "metadata": {},
     "output_type": "execute_result"
    }
   ],
   "source": [
    "Ponderacion_Raizal_SAI = Raizal_SAI[\"Ponderacion\"].sum()\n",
    "Raizal_SAI_proporcion = (Ponderacion_Raizal_SAI/ Total_Expansion ) * 100\n",
    "Raizal_SAI_proporcion"
   ]
  },
  {
   "cell_type": "code",
   "execution_count": 164,
   "id": "2bf8cd73",
   "metadata": {},
   "outputs": [
    {
     "data": {
      "text/plain": [
       "{'Raizal_SAI_proporcion': 0.01}"
      ]
     },
     "execution_count": 164,
     "metadata": {},
     "output_type": "execute_result"
    }
   ],
   "source": [
    "Raizal_SAI_Dict = {\"Raizal_SAI_proporcion\": 0.01}\n",
    "Raizal_SAI_Dict"
   ]
  },
  {
   "cell_type": "code",
   "execution_count": 165,
   "id": "abde0bf4",
   "metadata": {},
   "outputs": [
    {
     "name": "stdout",
     "output_type": "stream",
     "text": [
      "[{'AntioquiaOI': 46.386}, {'AmazonasOI': 56.53}, {'AraucaOI': 55.43}, {'AtlanticoOI': 56.29}, {'BogotaOI': 34.04}, {'BolivarOI': 66.46}, {'BoyacaOI': 61.63}, {'CaldasOI': 45.8}, {'CaquetaOI': 67.76}, {'CasanareOI': 54.79}, {'CaucaOI': 68.53}, {'CesarOI': 63.64}, {'CundinamarcaOI': 45.4}, {'ChocoOI': 67.9}, {'CordobaOI': 68.9}, {'GuainiaOI': 67.31}, {'GuaviareOI': 57.96}, {'HuilaOI': 68.72}, {'GuajiraOI': 76.74}, {'MagdalenaOI': 70.89}, {'MetaOI': 55.63}, {'NarinoOI': 79.11}, {'NorteSantanderOI': 70.9}, {'PutumayoOI': 44.86}, {'QuindioOI': 50.14}, {'RisaraldaOI': 80.49}, {'SanAndresOI': 40.99}, {'SantanderOI': 54.04}, {'SucreOI': 74.52}, {'TolimaOI': 60.24}, {'ValleOI': 48.9}, {'VaupesOI': 37.06}, {'VichadaOI': 53.92}]\n"
     ]
    }
   ],
   "source": [
    "print([Antioquia_Dict1, Amazonas_Dict1, Arauca_Dict1, Atlantico_Dict1, Bogota_Dict1, Bolivar_Dict1, Boyaca_Dict1,\n",
    "                                          Caldas_Dict1, Caqueta_Dict1, Casanare_Dict1, Cauca_Dict1, Cesar_Dict1, Cundinamarca_Dict1,\n",
    "                                          Choco_Dict1, Cordoba_Dict1, Guainia_Dict1, Guaviare_Dict1, Huila_Dict1, Guajira_Dict1, Magdalena_Dict1,\n",
    "                                          Meta_Dict1, Narino_Dict1, NorteSantander_Dict1, Putumayo_Dict1, Quindio_Dict1, Risaralda_Dict1, SanAndres_Dict1,\n",
    "                                          Santander_Dict1, Sucre_Dict1, Tolima_Dict1, Valle_Dict1, Vaupes_Dict1, Vichada_Dict1])"
   ]
  },
  {
   "cell_type": "code",
   "execution_count": 166,
   "id": "08df1081",
   "metadata": {},
   "outputs": [
    {
     "name": "stdout",
     "output_type": "stream",
     "text": [
      "[{'Antioquia_proporcion': 6.49}, {'Amazonas_proporcion': 0.035}, {'Arauca_proporcion': 0.07}, {'Atlantico_proporcion': 3.16}, {'Bogota_proporcion': 5.9}, {'Bolivar_proporcion': 2.8}, {'Boyaca_proporcion': 1.53}, {'Caldas_proporcion': 0.9}, {'Caqueta_proporcion': 0.49}, {'Casanare_proporcion': 0.19}, {'Cauca_proporcion': 2.0}, {'Cesar_proporcion': 1.39}, {'Cundinamarca_proporcion': 3.08}, {'Choco_proporcion': 0.45}, {'Cordoba_proporcion': 2.38}, {'Guainia_proporcion': 0.02}, {'Guaviare_proporcion': 0.05}, {'Huila_proporcion': 1.4}, {'Guajira_proporcion': 1.3}, {'Magdalena_proporcion': 1.9}, {'Meta_proporcion': 1.22}, {'Narino_proporcion': 3.22}, {'NorteSanntander_proporcion': 2.17}, {'Putumayo_proporcion': 0.03}, {'Quindio_proporcion': 0.52}, {'Risaralda_proporcion': 0.85}, {'SanAndres_proporcion': 0.03}, {'Santander_proporcion': 2.48}, {'Sucre_proporcion': 1.32}, {'Tolima_proporcion': 1.43}, {'Valle_proporcion': 4.46}, {'Vaupes_proporcion': 0.007}, {'Vichada_proporcion': 0.01}]\n"
     ]
    }
   ],
   "source": [
    "print([Antioquia_Dict2, Amazonas_Dict2, Arauca_Dict2, Atlantico_Dict2, Bogota_Dict2, Bolivar_Dict2, Boyaca_Dict2,\n",
    "                                          Caldas_Dict2, Caqueta_Dict2, Casanare_Dict2, Cauca_Dict2, Cesar_Dict2, Cundinamarca_Dict2,\n",
    "                                          Choco_Dict2, Cordoba_Dict2, Guainia_Dict2, Guaviare_Dict2, Huila_Dict2, Guajira_Dict2, Magdalena_Dict2,\n",
    "                                          Meta_Dict2, Narino_Dict2, NorteSantander_Dict2, Putumayo_Dict2, Quindio_Dict2, Risaralda_Dict2, SanAndres_Dict2,\n",
    "                                          Santander_Dict2, Sucre_Dict2, Tolima_Dict2, Valle_Dict2, Vaupes_Dict2, Vichada_Dict2])"
   ]
  },
  {
   "cell_type": "code",
   "execution_count": 167,
   "id": "b7a62dc0",
   "metadata": {},
   "outputs": [],
   "source": [
    "Dptos_informalidad = {'Antioquia': 46.386, 'Amazonas': 56.53, 'Arauca': 55.43, 'Atlantico': 56.29, 'Bogota': 34.04, 'Bolivar': 66.46, 'Boyaca': 61.63, 'Caldas': 45.8, 'Caqueta': 67.76, 'Casanare': 54.79, 'Cauca': 68.53, 'Cesar': 63.64, 'Cundinamarca': 45.4, 'Choco': 67.9, 'Cordoba': 68.9, 'Guainia': 67.31, 'Guaviare': 57.96, 'Huila': 68.72, 'Guajira': 76.74, 'Magdalena': 70.89, 'Meta': 55.63, 'Narino': 79.11, 'NorteSantander': 70.9, 'Putumayo': 44.86, 'Quindio': 50.14, 'Risaralda': 80.49, 'SanAndres': 40.99, 'Santander': 54.04, 'Sucre': 74.52, 'Tolima': 60.24, \"Valle\": 48.9, 'Vaupes': 37.06, 'Vichada': 53.92}"
   ]
  },
  {
   "cell_type": "code",
   "execution_count": 168,
   "id": "f249a2ee",
   "metadata": {},
   "outputs": [
    {
     "data": {
      "text/html": [
       "<div>\n",
       "<style scoped>\n",
       "    .dataframe tbody tr th:only-of-type {\n",
       "        vertical-align: middle;\n",
       "    }\n",
       "\n",
       "    .dataframe tbody tr th {\n",
       "        vertical-align: top;\n",
       "    }\n",
       "\n",
       "    .dataframe thead th {\n",
       "        text-align: right;\n",
       "    }\n",
       "</style>\n",
       "<table border=\"1\" class=\"dataframe\">\n",
       "  <thead>\n",
       "    <tr style=\"text-align: right;\">\n",
       "      <th></th>\n",
       "      <th>Departamento</th>\n",
       "      <th>%informalidad</th>\n",
       "    </tr>\n",
       "  </thead>\n",
       "  <tbody>\n",
       "    <tr>\n",
       "      <th>0</th>\n",
       "      <td>Antioquia</td>\n",
       "      <td>46.386</td>\n",
       "    </tr>\n",
       "    <tr>\n",
       "      <th>1</th>\n",
       "      <td>Amazonas</td>\n",
       "      <td>56.530</td>\n",
       "    </tr>\n",
       "    <tr>\n",
       "      <th>2</th>\n",
       "      <td>Arauca</td>\n",
       "      <td>55.430</td>\n",
       "    </tr>\n",
       "    <tr>\n",
       "      <th>3</th>\n",
       "      <td>Atlantico</td>\n",
       "      <td>56.290</td>\n",
       "    </tr>\n",
       "    <tr>\n",
       "      <th>4</th>\n",
       "      <td>Bogota</td>\n",
       "      <td>34.040</td>\n",
       "    </tr>\n",
       "    <tr>\n",
       "      <th>5</th>\n",
       "      <td>Bolivar</td>\n",
       "      <td>66.460</td>\n",
       "    </tr>\n",
       "    <tr>\n",
       "      <th>6</th>\n",
       "      <td>Boyaca</td>\n",
       "      <td>61.630</td>\n",
       "    </tr>\n",
       "    <tr>\n",
       "      <th>7</th>\n",
       "      <td>Caldas</td>\n",
       "      <td>45.800</td>\n",
       "    </tr>\n",
       "    <tr>\n",
       "      <th>8</th>\n",
       "      <td>Caqueta</td>\n",
       "      <td>67.760</td>\n",
       "    </tr>\n",
       "    <tr>\n",
       "      <th>9</th>\n",
       "      <td>Casanare</td>\n",
       "      <td>54.790</td>\n",
       "    </tr>\n",
       "    <tr>\n",
       "      <th>10</th>\n",
       "      <td>Cauca</td>\n",
       "      <td>68.530</td>\n",
       "    </tr>\n",
       "    <tr>\n",
       "      <th>11</th>\n",
       "      <td>Cesar</td>\n",
       "      <td>63.640</td>\n",
       "    </tr>\n",
       "    <tr>\n",
       "      <th>12</th>\n",
       "      <td>Cundinamarca</td>\n",
       "      <td>45.400</td>\n",
       "    </tr>\n",
       "    <tr>\n",
       "      <th>13</th>\n",
       "      <td>Choco</td>\n",
       "      <td>67.900</td>\n",
       "    </tr>\n",
       "    <tr>\n",
       "      <th>14</th>\n",
       "      <td>Cordoba</td>\n",
       "      <td>68.900</td>\n",
       "    </tr>\n",
       "    <tr>\n",
       "      <th>15</th>\n",
       "      <td>Guainia</td>\n",
       "      <td>67.310</td>\n",
       "    </tr>\n",
       "    <tr>\n",
       "      <th>16</th>\n",
       "      <td>Guaviare</td>\n",
       "      <td>57.960</td>\n",
       "    </tr>\n",
       "    <tr>\n",
       "      <th>17</th>\n",
       "      <td>Huila</td>\n",
       "      <td>68.720</td>\n",
       "    </tr>\n",
       "    <tr>\n",
       "      <th>18</th>\n",
       "      <td>Guajira</td>\n",
       "      <td>76.740</td>\n",
       "    </tr>\n",
       "    <tr>\n",
       "      <th>19</th>\n",
       "      <td>Magdalena</td>\n",
       "      <td>70.890</td>\n",
       "    </tr>\n",
       "    <tr>\n",
       "      <th>20</th>\n",
       "      <td>Meta</td>\n",
       "      <td>55.630</td>\n",
       "    </tr>\n",
       "    <tr>\n",
       "      <th>21</th>\n",
       "      <td>Narino</td>\n",
       "      <td>79.110</td>\n",
       "    </tr>\n",
       "    <tr>\n",
       "      <th>22</th>\n",
       "      <td>NorteSantander</td>\n",
       "      <td>70.900</td>\n",
       "    </tr>\n",
       "    <tr>\n",
       "      <th>23</th>\n",
       "      <td>Putumayo</td>\n",
       "      <td>44.860</td>\n",
       "    </tr>\n",
       "    <tr>\n",
       "      <th>24</th>\n",
       "      <td>Quindio</td>\n",
       "      <td>50.140</td>\n",
       "    </tr>\n",
       "    <tr>\n",
       "      <th>25</th>\n",
       "      <td>Risaralda</td>\n",
       "      <td>80.490</td>\n",
       "    </tr>\n",
       "    <tr>\n",
       "      <th>26</th>\n",
       "      <td>SanAndres</td>\n",
       "      <td>40.990</td>\n",
       "    </tr>\n",
       "    <tr>\n",
       "      <th>27</th>\n",
       "      <td>Santander</td>\n",
       "      <td>54.040</td>\n",
       "    </tr>\n",
       "    <tr>\n",
       "      <th>28</th>\n",
       "      <td>Sucre</td>\n",
       "      <td>74.520</td>\n",
       "    </tr>\n",
       "    <tr>\n",
       "      <th>29</th>\n",
       "      <td>Tolima</td>\n",
       "      <td>60.240</td>\n",
       "    </tr>\n",
       "    <tr>\n",
       "      <th>30</th>\n",
       "      <td>Valle</td>\n",
       "      <td>48.900</td>\n",
       "    </tr>\n",
       "    <tr>\n",
       "      <th>31</th>\n",
       "      <td>Vaupes</td>\n",
       "      <td>37.060</td>\n",
       "    </tr>\n",
       "    <tr>\n",
       "      <th>32</th>\n",
       "      <td>Vichada</td>\n",
       "      <td>53.920</td>\n",
       "    </tr>\n",
       "  </tbody>\n",
       "</table>\n",
       "</div>"
      ],
      "text/plain": [
       "      Departamento  %informalidad\n",
       "0        Antioquia         46.386\n",
       "1         Amazonas         56.530\n",
       "2           Arauca         55.430\n",
       "3        Atlantico         56.290\n",
       "4           Bogota         34.040\n",
       "5          Bolivar         66.460\n",
       "6           Boyaca         61.630\n",
       "7           Caldas         45.800\n",
       "8          Caqueta         67.760\n",
       "9         Casanare         54.790\n",
       "10           Cauca         68.530\n",
       "11           Cesar         63.640\n",
       "12    Cundinamarca         45.400\n",
       "13           Choco         67.900\n",
       "14         Cordoba         68.900\n",
       "15         Guainia         67.310\n",
       "16        Guaviare         57.960\n",
       "17           Huila         68.720\n",
       "18         Guajira         76.740\n",
       "19       Magdalena         70.890\n",
       "20            Meta         55.630\n",
       "21          Narino         79.110\n",
       "22  NorteSantander         70.900\n",
       "23        Putumayo         44.860\n",
       "24         Quindio         50.140\n",
       "25       Risaralda         80.490\n",
       "26       SanAndres         40.990\n",
       "27       Santander         54.040\n",
       "28           Sucre         74.520\n",
       "29          Tolima         60.240\n",
       "30           Valle         48.900\n",
       "31          Vaupes         37.060\n",
       "32         Vichada         53.920"
      ]
     },
     "execution_count": 168,
     "metadata": {},
     "output_type": "execute_result"
    }
   ],
   "source": [
    "Informalidad_Departamentos = pd.DataFrame(list(Dptos_informalidad.items()), columns=[\"Departamento\", \"%informalidad\"])\n",
    "Informalidad_Departamentos"
   ]
  },
  {
   "cell_type": "code",
   "execution_count": 169,
   "id": "8ebbc998",
   "metadata": {},
   "outputs": [],
   "source": [
    "Dptos_proporciones = {'Antioquia': 6.49, 'Amazonas': 0.035, 'Arauca': 0.07, 'Atlantico': 3.16, 'Bogota': 5.9, 'Bolivar': 2.8, 'Boyaca': 1.53, 'Caldas': 0.9, 'Caqueta': 0.49, 'Casanare': 0.19, 'Cauca': 2.0, 'Cesar': 1.39, 'Cundinamarca': 3.08, 'Choco': 0.45, 'Cordoba': 2.38, 'Guainia': 0.02, 'Guaviare': 0.05, 'Huila': 1.4, 'Guajira': 1.3, 'Magdalena': 1.9, 'Meta': 1.22, 'Narino': 3.22, 'NorteSantander': 2.17, 'Putumayo': 0.03, 'Quindio': 0.52, 'Risaralda': 0.85, 'SanAndres': 0.03, 'Santander': 2.48, 'Sucre': 1.32, 'Tolima': 1.43, 'Valle': 4.46, 'Vaupes': 0.007, 'Vichada': 0.01}"
   ]
  },
  {
   "cell_type": "code",
   "execution_count": 170,
   "id": "6569f321",
   "metadata": {},
   "outputs": [
    {
     "data": {
      "text/html": [
       "<div>\n",
       "<style scoped>\n",
       "    .dataframe tbody tr th:only-of-type {\n",
       "        vertical-align: middle;\n",
       "    }\n",
       "\n",
       "    .dataframe tbody tr th {\n",
       "        vertical-align: top;\n",
       "    }\n",
       "\n",
       "    .dataframe thead th {\n",
       "        text-align: right;\n",
       "    }\n",
       "</style>\n",
       "<table border=\"1\" class=\"dataframe\">\n",
       "  <thead>\n",
       "    <tr style=\"text-align: right;\">\n",
       "      <th></th>\n",
       "      <th>Departamento</th>\n",
       "      <th>proporcion_informalidad_nacional</th>\n",
       "    </tr>\n",
       "  </thead>\n",
       "  <tbody>\n",
       "    <tr>\n",
       "      <th>0</th>\n",
       "      <td>Antioquia</td>\n",
       "      <td>6.490</td>\n",
       "    </tr>\n",
       "    <tr>\n",
       "      <th>1</th>\n",
       "      <td>Amazonas</td>\n",
       "      <td>0.035</td>\n",
       "    </tr>\n",
       "    <tr>\n",
       "      <th>2</th>\n",
       "      <td>Arauca</td>\n",
       "      <td>0.070</td>\n",
       "    </tr>\n",
       "    <tr>\n",
       "      <th>3</th>\n",
       "      <td>Atlantico</td>\n",
       "      <td>3.160</td>\n",
       "    </tr>\n",
       "    <tr>\n",
       "      <th>4</th>\n",
       "      <td>Bogota</td>\n",
       "      <td>5.900</td>\n",
       "    </tr>\n",
       "    <tr>\n",
       "      <th>5</th>\n",
       "      <td>Bolivar</td>\n",
       "      <td>2.800</td>\n",
       "    </tr>\n",
       "    <tr>\n",
       "      <th>6</th>\n",
       "      <td>Boyaca</td>\n",
       "      <td>1.530</td>\n",
       "    </tr>\n",
       "    <tr>\n",
       "      <th>7</th>\n",
       "      <td>Caldas</td>\n",
       "      <td>0.900</td>\n",
       "    </tr>\n",
       "    <tr>\n",
       "      <th>8</th>\n",
       "      <td>Caqueta</td>\n",
       "      <td>0.490</td>\n",
       "    </tr>\n",
       "    <tr>\n",
       "      <th>9</th>\n",
       "      <td>Casanare</td>\n",
       "      <td>0.190</td>\n",
       "    </tr>\n",
       "    <tr>\n",
       "      <th>10</th>\n",
       "      <td>Cauca</td>\n",
       "      <td>2.000</td>\n",
       "    </tr>\n",
       "    <tr>\n",
       "      <th>11</th>\n",
       "      <td>Cesar</td>\n",
       "      <td>1.390</td>\n",
       "    </tr>\n",
       "    <tr>\n",
       "      <th>12</th>\n",
       "      <td>Cundinamarca</td>\n",
       "      <td>3.080</td>\n",
       "    </tr>\n",
       "    <tr>\n",
       "      <th>13</th>\n",
       "      <td>Choco</td>\n",
       "      <td>0.450</td>\n",
       "    </tr>\n",
       "    <tr>\n",
       "      <th>14</th>\n",
       "      <td>Cordoba</td>\n",
       "      <td>2.380</td>\n",
       "    </tr>\n",
       "    <tr>\n",
       "      <th>15</th>\n",
       "      <td>Guainia</td>\n",
       "      <td>0.020</td>\n",
       "    </tr>\n",
       "    <tr>\n",
       "      <th>16</th>\n",
       "      <td>Guaviare</td>\n",
       "      <td>0.050</td>\n",
       "    </tr>\n",
       "    <tr>\n",
       "      <th>17</th>\n",
       "      <td>Huila</td>\n",
       "      <td>1.400</td>\n",
       "    </tr>\n",
       "    <tr>\n",
       "      <th>18</th>\n",
       "      <td>Guajira</td>\n",
       "      <td>1.300</td>\n",
       "    </tr>\n",
       "    <tr>\n",
       "      <th>19</th>\n",
       "      <td>Magdalena</td>\n",
       "      <td>1.900</td>\n",
       "    </tr>\n",
       "    <tr>\n",
       "      <th>20</th>\n",
       "      <td>Meta</td>\n",
       "      <td>1.220</td>\n",
       "    </tr>\n",
       "    <tr>\n",
       "      <th>21</th>\n",
       "      <td>Narino</td>\n",
       "      <td>3.220</td>\n",
       "    </tr>\n",
       "    <tr>\n",
       "      <th>22</th>\n",
       "      <td>NorteSantander</td>\n",
       "      <td>2.170</td>\n",
       "    </tr>\n",
       "    <tr>\n",
       "      <th>23</th>\n",
       "      <td>Putumayo</td>\n",
       "      <td>0.030</td>\n",
       "    </tr>\n",
       "    <tr>\n",
       "      <th>24</th>\n",
       "      <td>Quindio</td>\n",
       "      <td>0.520</td>\n",
       "    </tr>\n",
       "    <tr>\n",
       "      <th>25</th>\n",
       "      <td>Risaralda</td>\n",
       "      <td>0.850</td>\n",
       "    </tr>\n",
       "    <tr>\n",
       "      <th>26</th>\n",
       "      <td>SanAndres</td>\n",
       "      <td>0.030</td>\n",
       "    </tr>\n",
       "    <tr>\n",
       "      <th>27</th>\n",
       "      <td>Santander</td>\n",
       "      <td>2.480</td>\n",
       "    </tr>\n",
       "    <tr>\n",
       "      <th>28</th>\n",
       "      <td>Sucre</td>\n",
       "      <td>1.320</td>\n",
       "    </tr>\n",
       "    <tr>\n",
       "      <th>29</th>\n",
       "      <td>Tolima</td>\n",
       "      <td>1.430</td>\n",
       "    </tr>\n",
       "    <tr>\n",
       "      <th>30</th>\n",
       "      <td>Valle</td>\n",
       "      <td>4.460</td>\n",
       "    </tr>\n",
       "    <tr>\n",
       "      <th>31</th>\n",
       "      <td>Vaupes</td>\n",
       "      <td>0.007</td>\n",
       "    </tr>\n",
       "    <tr>\n",
       "      <th>32</th>\n",
       "      <td>Vichada</td>\n",
       "      <td>0.010</td>\n",
       "    </tr>\n",
       "  </tbody>\n",
       "</table>\n",
       "</div>"
      ],
      "text/plain": [
       "      Departamento  proporcion_informalidad_nacional\n",
       "0        Antioquia                             6.490\n",
       "1         Amazonas                             0.035\n",
       "2           Arauca                             0.070\n",
       "3        Atlantico                             3.160\n",
       "4           Bogota                             5.900\n",
       "5          Bolivar                             2.800\n",
       "6           Boyaca                             1.530\n",
       "7           Caldas                             0.900\n",
       "8          Caqueta                             0.490\n",
       "9         Casanare                             0.190\n",
       "10           Cauca                             2.000\n",
       "11           Cesar                             1.390\n",
       "12    Cundinamarca                             3.080\n",
       "13           Choco                             0.450\n",
       "14         Cordoba                             2.380\n",
       "15         Guainia                             0.020\n",
       "16        Guaviare                             0.050\n",
       "17           Huila                             1.400\n",
       "18         Guajira                             1.300\n",
       "19       Magdalena                             1.900\n",
       "20            Meta                             1.220\n",
       "21          Narino                             3.220\n",
       "22  NorteSantander                             2.170\n",
       "23        Putumayo                             0.030\n",
       "24         Quindio                             0.520\n",
       "25       Risaralda                             0.850\n",
       "26       SanAndres                             0.030\n",
       "27       Santander                             2.480\n",
       "28           Sucre                             1.320\n",
       "29          Tolima                             1.430\n",
       "30           Valle                             4.460\n",
       "31          Vaupes                             0.007\n",
       "32         Vichada                             0.010"
      ]
     },
     "execution_count": 170,
     "metadata": {},
     "output_type": "execute_result"
    }
   ],
   "source": [
    "Proporciones_Departamentos = pd.DataFrame(list(Dptos_proporciones.items()), columns=[\"Departamento\", \"proporcion_informalidad_nacional\"])\n",
    "Proporciones_Departamentos"
   ]
  },
  {
   "cell_type": "code",
   "execution_count": 171,
   "id": "0a635097",
   "metadata": {},
   "outputs": [
    {
     "data": {
      "text/html": [
       "<div>\n",
       "<style scoped>\n",
       "    .dataframe tbody tr th:only-of-type {\n",
       "        vertical-align: middle;\n",
       "    }\n",
       "\n",
       "    .dataframe tbody tr th {\n",
       "        vertical-align: top;\n",
       "    }\n",
       "\n",
       "    .dataframe thead th {\n",
       "        text-align: right;\n",
       "    }\n",
       "</style>\n",
       "<table border=\"1\" class=\"dataframe\">\n",
       "  <thead>\n",
       "    <tr style=\"text-align: right;\">\n",
       "      <th></th>\n",
       "      <th>Departamento</th>\n",
       "      <th>%informalidad</th>\n",
       "      <th>proporcion_informalidad_nacional</th>\n",
       "    </tr>\n",
       "  </thead>\n",
       "  <tbody>\n",
       "    <tr>\n",
       "      <th>0</th>\n",
       "      <td>Antioquia</td>\n",
       "      <td>46.386</td>\n",
       "      <td>6.490</td>\n",
       "    </tr>\n",
       "    <tr>\n",
       "      <th>1</th>\n",
       "      <td>Amazonas</td>\n",
       "      <td>56.530</td>\n",
       "      <td>0.035</td>\n",
       "    </tr>\n",
       "    <tr>\n",
       "      <th>2</th>\n",
       "      <td>Arauca</td>\n",
       "      <td>55.430</td>\n",
       "      <td>0.070</td>\n",
       "    </tr>\n",
       "    <tr>\n",
       "      <th>3</th>\n",
       "      <td>Atlantico</td>\n",
       "      <td>56.290</td>\n",
       "      <td>3.160</td>\n",
       "    </tr>\n",
       "    <tr>\n",
       "      <th>4</th>\n",
       "      <td>Bogota</td>\n",
       "      <td>34.040</td>\n",
       "      <td>5.900</td>\n",
       "    </tr>\n",
       "    <tr>\n",
       "      <th>5</th>\n",
       "      <td>Bolivar</td>\n",
       "      <td>66.460</td>\n",
       "      <td>2.800</td>\n",
       "    </tr>\n",
       "    <tr>\n",
       "      <th>6</th>\n",
       "      <td>Boyaca</td>\n",
       "      <td>61.630</td>\n",
       "      <td>1.530</td>\n",
       "    </tr>\n",
       "    <tr>\n",
       "      <th>7</th>\n",
       "      <td>Caldas</td>\n",
       "      <td>45.800</td>\n",
       "      <td>0.900</td>\n",
       "    </tr>\n",
       "    <tr>\n",
       "      <th>8</th>\n",
       "      <td>Caqueta</td>\n",
       "      <td>67.760</td>\n",
       "      <td>0.490</td>\n",
       "    </tr>\n",
       "    <tr>\n",
       "      <th>9</th>\n",
       "      <td>Casanare</td>\n",
       "      <td>54.790</td>\n",
       "      <td>0.190</td>\n",
       "    </tr>\n",
       "    <tr>\n",
       "      <th>10</th>\n",
       "      <td>Cauca</td>\n",
       "      <td>68.530</td>\n",
       "      <td>2.000</td>\n",
       "    </tr>\n",
       "    <tr>\n",
       "      <th>11</th>\n",
       "      <td>Cesar</td>\n",
       "      <td>63.640</td>\n",
       "      <td>1.390</td>\n",
       "    </tr>\n",
       "    <tr>\n",
       "      <th>12</th>\n",
       "      <td>Cundinamarca</td>\n",
       "      <td>45.400</td>\n",
       "      <td>3.080</td>\n",
       "    </tr>\n",
       "    <tr>\n",
       "      <th>13</th>\n",
       "      <td>Choco</td>\n",
       "      <td>67.900</td>\n",
       "      <td>0.450</td>\n",
       "    </tr>\n",
       "    <tr>\n",
       "      <th>14</th>\n",
       "      <td>Cordoba</td>\n",
       "      <td>68.900</td>\n",
       "      <td>2.380</td>\n",
       "    </tr>\n",
       "    <tr>\n",
       "      <th>15</th>\n",
       "      <td>Guainia</td>\n",
       "      <td>67.310</td>\n",
       "      <td>0.020</td>\n",
       "    </tr>\n",
       "    <tr>\n",
       "      <th>16</th>\n",
       "      <td>Guaviare</td>\n",
       "      <td>57.960</td>\n",
       "      <td>0.050</td>\n",
       "    </tr>\n",
       "    <tr>\n",
       "      <th>17</th>\n",
       "      <td>Huila</td>\n",
       "      <td>68.720</td>\n",
       "      <td>1.400</td>\n",
       "    </tr>\n",
       "    <tr>\n",
       "      <th>18</th>\n",
       "      <td>Guajira</td>\n",
       "      <td>76.740</td>\n",
       "      <td>1.300</td>\n",
       "    </tr>\n",
       "    <tr>\n",
       "      <th>19</th>\n",
       "      <td>Magdalena</td>\n",
       "      <td>70.890</td>\n",
       "      <td>1.900</td>\n",
       "    </tr>\n",
       "    <tr>\n",
       "      <th>20</th>\n",
       "      <td>Meta</td>\n",
       "      <td>55.630</td>\n",
       "      <td>1.220</td>\n",
       "    </tr>\n",
       "    <tr>\n",
       "      <th>21</th>\n",
       "      <td>Narino</td>\n",
       "      <td>79.110</td>\n",
       "      <td>3.220</td>\n",
       "    </tr>\n",
       "    <tr>\n",
       "      <th>22</th>\n",
       "      <td>NorteSantander</td>\n",
       "      <td>70.900</td>\n",
       "      <td>2.170</td>\n",
       "    </tr>\n",
       "    <tr>\n",
       "      <th>23</th>\n",
       "      <td>Putumayo</td>\n",
       "      <td>44.860</td>\n",
       "      <td>0.030</td>\n",
       "    </tr>\n",
       "    <tr>\n",
       "      <th>24</th>\n",
       "      <td>Quindio</td>\n",
       "      <td>50.140</td>\n",
       "      <td>0.520</td>\n",
       "    </tr>\n",
       "    <tr>\n",
       "      <th>25</th>\n",
       "      <td>Risaralda</td>\n",
       "      <td>80.490</td>\n",
       "      <td>0.850</td>\n",
       "    </tr>\n",
       "    <tr>\n",
       "      <th>26</th>\n",
       "      <td>SanAndres</td>\n",
       "      <td>40.990</td>\n",
       "      <td>0.030</td>\n",
       "    </tr>\n",
       "    <tr>\n",
       "      <th>27</th>\n",
       "      <td>Santander</td>\n",
       "      <td>54.040</td>\n",
       "      <td>2.480</td>\n",
       "    </tr>\n",
       "    <tr>\n",
       "      <th>28</th>\n",
       "      <td>Sucre</td>\n",
       "      <td>74.520</td>\n",
       "      <td>1.320</td>\n",
       "    </tr>\n",
       "    <tr>\n",
       "      <th>29</th>\n",
       "      <td>Tolima</td>\n",
       "      <td>60.240</td>\n",
       "      <td>1.430</td>\n",
       "    </tr>\n",
       "    <tr>\n",
       "      <th>30</th>\n",
       "      <td>Valle</td>\n",
       "      <td>48.900</td>\n",
       "      <td>4.460</td>\n",
       "    </tr>\n",
       "    <tr>\n",
       "      <th>31</th>\n",
       "      <td>Vaupes</td>\n",
       "      <td>37.060</td>\n",
       "      <td>0.007</td>\n",
       "    </tr>\n",
       "    <tr>\n",
       "      <th>32</th>\n",
       "      <td>Vichada</td>\n",
       "      <td>53.920</td>\n",
       "      <td>0.010</td>\n",
       "    </tr>\n",
       "  </tbody>\n",
       "</table>\n",
       "</div>"
      ],
      "text/plain": [
       "      Departamento  %informalidad  proporcion_informalidad_nacional\n",
       "0        Antioquia         46.386                             6.490\n",
       "1         Amazonas         56.530                             0.035\n",
       "2           Arauca         55.430                             0.070\n",
       "3        Atlantico         56.290                             3.160\n",
       "4           Bogota         34.040                             5.900\n",
       "5          Bolivar         66.460                             2.800\n",
       "6           Boyaca         61.630                             1.530\n",
       "7           Caldas         45.800                             0.900\n",
       "8          Caqueta         67.760                             0.490\n",
       "9         Casanare         54.790                             0.190\n",
       "10           Cauca         68.530                             2.000\n",
       "11           Cesar         63.640                             1.390\n",
       "12    Cundinamarca         45.400                             3.080\n",
       "13           Choco         67.900                             0.450\n",
       "14         Cordoba         68.900                             2.380\n",
       "15         Guainia         67.310                             0.020\n",
       "16        Guaviare         57.960                             0.050\n",
       "17           Huila         68.720                             1.400\n",
       "18         Guajira         76.740                             1.300\n",
       "19       Magdalena         70.890                             1.900\n",
       "20            Meta         55.630                             1.220\n",
       "21          Narino         79.110                             3.220\n",
       "22  NorteSantander         70.900                             2.170\n",
       "23        Putumayo         44.860                             0.030\n",
       "24         Quindio         50.140                             0.520\n",
       "25       Risaralda         80.490                             0.850\n",
       "26       SanAndres         40.990                             0.030\n",
       "27       Santander         54.040                             2.480\n",
       "28           Sucre         74.520                             1.320\n",
       "29          Tolima         60.240                             1.430\n",
       "30           Valle         48.900                             4.460\n",
       "31          Vaupes         37.060                             0.007\n",
       "32         Vichada         53.920                             0.010"
      ]
     },
     "execution_count": 171,
     "metadata": {},
     "output_type": "execute_result"
    }
   ],
   "source": [
    "Departamentos = pd.merge(Informalidad_Departamentos,Proporciones_Departamentos, on=[\"Departamento\"])\n",
    "Departamentos.to_csv(\"Departamentos.csv\")\n",
    "Departamentos"
   ]
  },
  {
   "cell_type": "code",
   "execution_count": 172,
   "id": "553b12a3",
   "metadata": {},
   "outputs": [],
   "source": [
    "Informalidad_Sexo = {'Mujer': 48.98, 'Hombre': 56.57}\n",
    "Informalidad_proporcion = {'Mujer': 19.99, \"Hombre\": 33.4}"
   ]
  },
  {
   "cell_type": "code",
   "execution_count": 173,
   "id": "2e5fe95a",
   "metadata": {},
   "outputs": [
    {
     "data": {
      "text/html": [
       "<div>\n",
       "<style scoped>\n",
       "    .dataframe tbody tr th:only-of-type {\n",
       "        vertical-align: middle;\n",
       "    }\n",
       "\n",
       "    .dataframe tbody tr th {\n",
       "        vertical-align: top;\n",
       "    }\n",
       "\n",
       "    .dataframe thead th {\n",
       "        text-align: right;\n",
       "    }\n",
       "</style>\n",
       "<table border=\"1\" class=\"dataframe\">\n",
       "  <thead>\n",
       "    <tr style=\"text-align: right;\">\n",
       "      <th></th>\n",
       "      <th>Sexo</th>\n",
       "      <th>%Informalidad</th>\n",
       "    </tr>\n",
       "  </thead>\n",
       "  <tbody>\n",
       "    <tr>\n",
       "      <th>0</th>\n",
       "      <td>Mujer</td>\n",
       "      <td>48.98</td>\n",
       "    </tr>\n",
       "    <tr>\n",
       "      <th>1</th>\n",
       "      <td>Hombre</td>\n",
       "      <td>56.57</td>\n",
       "    </tr>\n",
       "  </tbody>\n",
       "</table>\n",
       "</div>"
      ],
      "text/plain": [
       "     Sexo  %Informalidad\n",
       "0   Mujer          48.98\n",
       "1  Hombre          56.57"
      ]
     },
     "execution_count": 173,
     "metadata": {},
     "output_type": "execute_result"
    }
   ],
   "source": [
    "Informalidad_Sexo = pd.DataFrame(list(Informalidad_Sexo.items()), columns=[\"Sexo\",\"%Informalidad\"])\n",
    "Informalidad_Sexo\n",
    "\n"
   ]
  },
  {
   "cell_type": "code",
   "execution_count": 174,
   "id": "9f7d732c",
   "metadata": {},
   "outputs": [
    {
     "data": {
      "text/html": [
       "<div>\n",
       "<style scoped>\n",
       "    .dataframe tbody tr th:only-of-type {\n",
       "        vertical-align: middle;\n",
       "    }\n",
       "\n",
       "    .dataframe tbody tr th {\n",
       "        vertical-align: top;\n",
       "    }\n",
       "\n",
       "    .dataframe thead th {\n",
       "        text-align: right;\n",
       "    }\n",
       "</style>\n",
       "<table border=\"1\" class=\"dataframe\">\n",
       "  <thead>\n",
       "    <tr style=\"text-align: right;\">\n",
       "      <th></th>\n",
       "      <th>Sexo</th>\n",
       "      <th>Proporcion</th>\n",
       "    </tr>\n",
       "  </thead>\n",
       "  <tbody>\n",
       "    <tr>\n",
       "      <th>0</th>\n",
       "      <td>Mujer</td>\n",
       "      <td>19.99</td>\n",
       "    </tr>\n",
       "    <tr>\n",
       "      <th>1</th>\n",
       "      <td>Hombre</td>\n",
       "      <td>33.40</td>\n",
       "    </tr>\n",
       "  </tbody>\n",
       "</table>\n",
       "</div>"
      ],
      "text/plain": [
       "     Sexo  Proporcion\n",
       "0   Mujer       19.99\n",
       "1  Hombre       33.40"
      ]
     },
     "execution_count": 174,
     "metadata": {},
     "output_type": "execute_result"
    }
   ],
   "source": [
    "Informalidad_proporcion = pd.DataFrame(list(Informalidad_proporcion.items()), columns=[\"Sexo\",\"Proporcion\"])\n",
    "Informalidad_proporcion"
   ]
  },
  {
   "cell_type": "code",
   "execution_count": 175,
   "id": "ac188b56",
   "metadata": {},
   "outputs": [
    {
     "data": {
      "text/html": [
       "<div>\n",
       "<style scoped>\n",
       "    .dataframe tbody tr th:only-of-type {\n",
       "        vertical-align: middle;\n",
       "    }\n",
       "\n",
       "    .dataframe tbody tr th {\n",
       "        vertical-align: top;\n",
       "    }\n",
       "\n",
       "    .dataframe thead th {\n",
       "        text-align: right;\n",
       "    }\n",
       "</style>\n",
       "<table border=\"1\" class=\"dataframe\">\n",
       "  <thead>\n",
       "    <tr style=\"text-align: right;\">\n",
       "      <th></th>\n",
       "      <th>Sexo</th>\n",
       "      <th>%Informalidad</th>\n",
       "      <th>Proporcion</th>\n",
       "    </tr>\n",
       "  </thead>\n",
       "  <tbody>\n",
       "    <tr>\n",
       "      <th>0</th>\n",
       "      <td>Mujer</td>\n",
       "      <td>48.98</td>\n",
       "      <td>19.99</td>\n",
       "    </tr>\n",
       "    <tr>\n",
       "      <th>1</th>\n",
       "      <td>Hombre</td>\n",
       "      <td>56.57</td>\n",
       "      <td>33.40</td>\n",
       "    </tr>\n",
       "  </tbody>\n",
       "</table>\n",
       "</div>"
      ],
      "text/plain": [
       "     Sexo  %Informalidad  Proporcion\n",
       "0   Mujer          48.98       19.99\n",
       "1  Hombre          56.57       33.40"
      ]
     },
     "execution_count": 175,
     "metadata": {},
     "output_type": "execute_result"
    }
   ],
   "source": [
    "Sexo = pd.merge(Informalidad_Sexo,Informalidad_proporcion, on=[\"Sexo\"])\n",
    "Sexo.to_csv(\"Sexo.csv\")\n",
    "Sexo"
   ]
  },
  {
   "cell_type": "code",
   "execution_count": 176,
   "id": "fc48254a",
   "metadata": {
    "scrolled": false
   },
   "outputs": [
    {
     "data": {
      "text/html": [
       "<div>\n",
       "<style scoped>\n",
       "    .dataframe tbody tr th:only-of-type {\n",
       "        vertical-align: middle;\n",
       "    }\n",
       "\n",
       "    .dataframe tbody tr th {\n",
       "        vertical-align: top;\n",
       "    }\n",
       "\n",
       "    .dataframe thead th {\n",
       "        text-align: right;\n",
       "    }\n",
       "</style>\n",
       "<table border=\"1\" class=\"dataframe\">\n",
       "  <thead>\n",
       "    <tr style=\"text-align: right;\">\n",
       "      <th></th>\n",
       "      <th>Etnia</th>\n",
       "      <th>%informalidad</th>\n",
       "    </tr>\n",
       "  </thead>\n",
       "  <tbody>\n",
       "    <tr>\n",
       "      <th>0</th>\n",
       "      <td>Afros_Mulatos</td>\n",
       "      <td>61.97</td>\n",
       "    </tr>\n",
       "    <tr>\n",
       "      <th>1</th>\n",
       "      <td>Indigena</td>\n",
       "      <td>73.87</td>\n",
       "    </tr>\n",
       "    <tr>\n",
       "      <th>2</th>\n",
       "      <td>Ninguno</td>\n",
       "      <td>51.95</td>\n",
       "    </tr>\n",
       "  </tbody>\n",
       "</table>\n",
       "</div>"
      ],
      "text/plain": [
       "           Etnia  %informalidad\n",
       "0  Afros_Mulatos          61.97\n",
       "1       Indigena          73.87\n",
       "2        Ninguno          51.95"
      ]
     },
     "execution_count": 176,
     "metadata": {},
     "output_type": "execute_result"
    }
   ],
   "source": [
    "Informalidad_Etnias = {\"Afros_Mulatos\": 61.97, \"Indigena\": 73.87, 'Ninguno': 51.95}\n",
    "Informalidad_Etnias = pd.DataFrame(list(Informalidad_Etnias.items()), columns=[\"Etnia\", \"%informalidad\"])\n",
    "Informalidad_Etnias.to_csv(\"Etnias.csv\")\n",
    "Informalidad_Etnias"
   ]
  },
  {
   "cell_type": "code",
   "execution_count": 177,
   "id": "4ec43f52",
   "metadata": {},
   "outputs": [],
   "source": [
    "GEIH_2022[\"NivelEducativo\"]=GEIH_2022[\"NivelEducativo\"].replace([\"Ninguno\", \"Preescolar\", \"Primaria\", \"Secundaria\", \"Bachillerato\", \"B_tecnico\", \"Normalista\" , \"Tecnica\", \"Tecnologica\",\"Universitaria\",\"Especializacion\", \"Maestria\" ,\"Doctorado\"],\n",
    "                                                                  [\"Ninguno\", \"Secundaria≤\", \"Secundaria≤\",\"Secundaria≤\",\"Bachillerato\", \"Bachillerato\", \"SuperiorT\", \"SuperiorT\", \"SuperiorT\", \"Superior\", \"Superior+\",\"Superior+\",\"Superior+\",])"
   ]
  },
  {
   "cell_type": "code",
   "execution_count": 178,
   "id": "a0d48cc4",
   "metadata": {},
   "outputs": [],
   "source": [
    "Ninguno = GEIH_2022[\"NivelEducativo\"] == \"Ninguno\"\n",
    "Ninguno = GEIH_2022[Ninguno]"
   ]
  },
  {
   "cell_type": "code",
   "execution_count": 179,
   "id": "d2802b6d",
   "metadata": {
    "scrolled": false
   },
   "outputs": [
    {
     "data": {
      "text/plain": [
       "79.85645168395871"
      ]
     },
     "execution_count": 179,
     "metadata": {},
     "output_type": "execute_result"
    }
   ],
   "source": [
    "Ponderacion_Ninguno = Ninguno[\"Ponderacion\"].sum()\n",
    "Expansion_Ninguno = Ninguno[\"FactorExpansion\"].sum()\n",
    "NingunoOI = (Ponderacion_Ninguno/ Expansion_Ninguno) * 100\n",
    "NingunoOI"
   ]
  },
  {
   "cell_type": "code",
   "execution_count": 180,
   "id": "bd688d91",
   "metadata": {},
   "outputs": [],
   "source": [
    "Secundaria_menos= GEIH_2022[\"NivelEducativo\"] == \"Secundaria≤\"\n",
    "Secundaria_menos = GEIH_2022[Secundaria_menos]"
   ]
  },
  {
   "cell_type": "code",
   "execution_count": 181,
   "id": "adb4aa97",
   "metadata": {
    "scrolled": true
   },
   "outputs": [
    {
     "data": {
      "text/plain": [
       "73.3179252854153"
      ]
     },
     "execution_count": 181,
     "metadata": {},
     "output_type": "execute_result"
    }
   ],
   "source": [
    "Ponderacion_Secundaria_menos = Secundaria_menos[\"Ponderacion\"].sum()\n",
    "Expansion_Secundaria_menos = Secundaria_menos[\"FactorExpansion\"].sum()\n",
    "Secundaria_menosOI = (Ponderacion_Secundaria_menos/ Expansion_Secundaria_menos) * 100\n",
    "Secundaria_menosOI"
   ]
  },
  {
   "cell_type": "code",
   "execution_count": 182,
   "id": "07e8d31d",
   "metadata": {},
   "outputs": [],
   "source": [
    "Bachillerato= GEIH_2022[\"NivelEducativo\"] == \"Bachillerato\"\n",
    "Bachillerato = GEIH_2022[Bachillerato]"
   ]
  },
  {
   "cell_type": "code",
   "execution_count": 183,
   "id": "2d42f818",
   "metadata": {
    "scrolled": true
   },
   "outputs": [
    {
     "data": {
      "text/plain": [
       "55.244577292549565"
      ]
     },
     "execution_count": 183,
     "metadata": {},
     "output_type": "execute_result"
    }
   ],
   "source": [
    "Ponderacion_Bachillerato = Bachillerato[\"Ponderacion\"].sum()\n",
    "Expansion_Bachillerato = Bachillerato[\"FactorExpansion\"].sum()\n",
    "BachilleratoOI = (Ponderacion_Bachillerato/ Expansion_Bachillerato) * 100\n",
    "BachilleratoOI"
   ]
  },
  {
   "cell_type": "code",
   "execution_count": 184,
   "id": "47be0824",
   "metadata": {},
   "outputs": [],
   "source": [
    "Superior = GEIH_2022[\"NivelEducativo\"] == \"Superior\"\n",
    "Superior = GEIH_2022[Superior]"
   ]
  },
  {
   "cell_type": "code",
   "execution_count": 185,
   "id": "8dcf7860",
   "metadata": {
    "scrolled": true
   },
   "outputs": [
    {
     "data": {
      "text/plain": [
       "30.71889909869147"
      ]
     },
     "execution_count": 185,
     "metadata": {},
     "output_type": "execute_result"
    }
   ],
   "source": [
    "Ponderacion_Superior= Superior[\"Ponderacion\"].sum()\n",
    "Expansion_Superior = Superior[\"FactorExpansion\"].sum()\n",
    "SuperiorOI = (Ponderacion_Superior/ Expansion_Superior) * 100\n",
    "SuperiorOI"
   ]
  },
  {
   "cell_type": "code",
   "execution_count": 186,
   "id": "3c85a28d",
   "metadata": {},
   "outputs": [],
   "source": [
    "SuperiorT = GEIH_2022[\"NivelEducativo\"] == \"SuperiorT\"\n",
    "SuperiorT = GEIH_2022[SuperiorT]"
   ]
  },
  {
   "cell_type": "code",
   "execution_count": 187,
   "id": "662247a1",
   "metadata": {
    "scrolled": true
   },
   "outputs": [
    {
     "data": {
      "text/plain": [
       "37.08281166136646"
      ]
     },
     "execution_count": 187,
     "metadata": {},
     "output_type": "execute_result"
    }
   ],
   "source": [
    "Ponderacion_SuperiorT= SuperiorT[\"Ponderacion\"].sum()\n",
    "Expansion_SuperiorT = SuperiorT[\"FactorExpansion\"].sum()\n",
    "SuperiorTOI = (Ponderacion_SuperiorT/ Expansion_SuperiorT) * 100\n",
    "SuperiorTOI"
   ]
  },
  {
   "cell_type": "code",
   "execution_count": 188,
   "id": "c6eac1b5",
   "metadata": {},
   "outputs": [],
   "source": [
    "Superior2 = GEIH_2022[\"NivelEducativo\"] == \"Superior+\"\n",
    "Superior2 = GEIH_2022[Superior2]"
   ]
  },
  {
   "cell_type": "code",
   "execution_count": 189,
   "id": "8c0336f5",
   "metadata": {
    "scrolled": true
   },
   "outputs": [
    {
     "data": {
      "text/plain": [
       "13.732699514916652"
      ]
     },
     "execution_count": 189,
     "metadata": {},
     "output_type": "execute_result"
    }
   ],
   "source": [
    "Ponderacion_Superior2= Superior2[\"Ponderacion\"].sum()\n",
    "Expansion_Superior2 = Superior2[\"FactorExpansion\"].sum()\n",
    "Superior2OI = (Ponderacion_Superior2/ Expansion_Superior2) * 100\n",
    "Superior2OI"
   ]
  },
  {
   "cell_type": "code",
   "execution_count": 190,
   "id": "fcd0391a",
   "metadata": {},
   "outputs": [],
   "source": [
    "NivelesEducativos = {\"Ninguno\":79.85, \"Secundaria≤\": 73.31, \"Bachillerato\":55.24, \"SuperiorT\":37.08, \"Superior\":30.7, \"Superior+\":13.73}"
   ]
  },
  {
   "cell_type": "code",
   "execution_count": 191,
   "id": "25a01c8d",
   "metadata": {
    "scrolled": true
   },
   "outputs": [
    {
     "data": {
      "text/html": [
       "<div>\n",
       "<style scoped>\n",
       "    .dataframe tbody tr th:only-of-type {\n",
       "        vertical-align: middle;\n",
       "    }\n",
       "\n",
       "    .dataframe tbody tr th {\n",
       "        vertical-align: top;\n",
       "    }\n",
       "\n",
       "    .dataframe thead th {\n",
       "        text-align: right;\n",
       "    }\n",
       "</style>\n",
       "<table border=\"1\" class=\"dataframe\">\n",
       "  <thead>\n",
       "    <tr style=\"text-align: right;\">\n",
       "      <th></th>\n",
       "      <th>Nivel</th>\n",
       "      <th>%Informalidad</th>\n",
       "    </tr>\n",
       "  </thead>\n",
       "  <tbody>\n",
       "    <tr>\n",
       "      <th>0</th>\n",
       "      <td>Ninguno</td>\n",
       "      <td>79.85</td>\n",
       "    </tr>\n",
       "    <tr>\n",
       "      <th>1</th>\n",
       "      <td>Secundaria≤</td>\n",
       "      <td>73.31</td>\n",
       "    </tr>\n",
       "    <tr>\n",
       "      <th>2</th>\n",
       "      <td>Bachillerato</td>\n",
       "      <td>55.24</td>\n",
       "    </tr>\n",
       "    <tr>\n",
       "      <th>3</th>\n",
       "      <td>SuperiorT</td>\n",
       "      <td>37.08</td>\n",
       "    </tr>\n",
       "    <tr>\n",
       "      <th>4</th>\n",
       "      <td>Superior</td>\n",
       "      <td>30.70</td>\n",
       "    </tr>\n",
       "    <tr>\n",
       "      <th>5</th>\n",
       "      <td>Superior+</td>\n",
       "      <td>13.73</td>\n",
       "    </tr>\n",
       "  </tbody>\n",
       "</table>\n",
       "</div>"
      ],
      "text/plain": [
       "          Nivel  %Informalidad\n",
       "0       Ninguno          79.85\n",
       "1   Secundaria≤          73.31\n",
       "2  Bachillerato          55.24\n",
       "3     SuperiorT          37.08\n",
       "4      Superior          30.70\n",
       "5     Superior+          13.73"
      ]
     },
     "execution_count": 191,
     "metadata": {},
     "output_type": "execute_result"
    }
   ],
   "source": [
    "Informalidad_NivelEducacion = pd.DataFrame(list(NivelesEducativos.items()), columns=[\"Nivel\",\"%Informalidad\"])\n",
    "Informalidad_NivelEducacion.to_csv(\"NivelesEducativos.csv\")\n",
    "Informalidad_NivelEducacion"
   ]
  },
  {
   "cell_type": "code",
   "execution_count": 192,
   "id": "af55131b",
   "metadata": {
    "scrolled": true
   },
   "outputs": [
    {
     "data": {
      "text/html": [
       "<div>\n",
       "<style scoped>\n",
       "    .dataframe tbody tr th:only-of-type {\n",
       "        vertical-align: middle;\n",
       "    }\n",
       "\n",
       "    .dataframe tbody tr th {\n",
       "        vertical-align: top;\n",
       "    }\n",
       "\n",
       "    .dataframe thead th {\n",
       "        text-align: right;\n",
       "    }\n",
       "</style>\n",
       "<table border=\"1\" class=\"dataframe\">\n",
       "  <thead>\n",
       "    <tr style=\"text-align: right;\">\n",
       "      <th></th>\n",
       "      <th>DIRECTORIO</th>\n",
       "      <th>SECUENCIA_P</th>\n",
       "      <th>ORDEN</th>\n",
       "      <th>DPTO</th>\n",
       "      <th>P6500</th>\n",
       "      <th>P3051</th>\n",
       "    </tr>\n",
       "  </thead>\n",
       "  <tbody>\n",
       "    <tr>\n",
       "      <th>0</th>\n",
       "      <td>5000000</td>\n",
       "      <td>1</td>\n",
       "      <td>1</td>\n",
       "      <td>8</td>\n",
       "      <td>768000.0</td>\n",
       "      <td>NaN</td>\n",
       "    </tr>\n",
       "    <tr>\n",
       "      <th>1</th>\n",
       "      <td>5000001</td>\n",
       "      <td>1</td>\n",
       "      <td>1</td>\n",
       "      <td>8</td>\n",
       "      <td>NaN</td>\n",
       "      <td>NaN</td>\n",
       "    </tr>\n",
       "    <tr>\n",
       "      <th>2</th>\n",
       "      <td>5000001</td>\n",
       "      <td>1</td>\n",
       "      <td>2</td>\n",
       "      <td>8</td>\n",
       "      <td>NaN</td>\n",
       "      <td>NaN</td>\n",
       "    </tr>\n",
       "    <tr>\n",
       "      <th>3</th>\n",
       "      <td>5000001</td>\n",
       "      <td>1</td>\n",
       "      <td>3</td>\n",
       "      <td>8</td>\n",
       "      <td>NaN</td>\n",
       "      <td>NaN</td>\n",
       "    </tr>\n",
       "    <tr>\n",
       "      <th>4</th>\n",
       "      <td>5000002</td>\n",
       "      <td>1</td>\n",
       "      <td>1</td>\n",
       "      <td>8</td>\n",
       "      <td>360000.0</td>\n",
       "      <td>NaN</td>\n",
       "    </tr>\n",
       "    <tr>\n",
       "      <th>...</th>\n",
       "      <td>...</td>\n",
       "      <td>...</td>\n",
       "      <td>...</td>\n",
       "      <td>...</td>\n",
       "      <td>...</td>\n",
       "      <td>...</td>\n",
       "    </tr>\n",
       "    <tr>\n",
       "      <th>31814</th>\n",
       "      <td>5032617</td>\n",
       "      <td>1</td>\n",
       "      <td>1</td>\n",
       "      <td>91</td>\n",
       "      <td>200000.0</td>\n",
       "      <td>NaN</td>\n",
       "    </tr>\n",
       "    <tr>\n",
       "      <th>31815</th>\n",
       "      <td>5032618</td>\n",
       "      <td>1</td>\n",
       "      <td>1</td>\n",
       "      <td>91</td>\n",
       "      <td>600000.0</td>\n",
       "      <td>NaN</td>\n",
       "    </tr>\n",
       "    <tr>\n",
       "      <th>31816</th>\n",
       "      <td>5032619</td>\n",
       "      <td>1</td>\n",
       "      <td>2</td>\n",
       "      <td>91</td>\n",
       "      <td>1000000.0</td>\n",
       "      <td>NaN</td>\n",
       "    </tr>\n",
       "    <tr>\n",
       "      <th>31817</th>\n",
       "      <td>5032620</td>\n",
       "      <td>1</td>\n",
       "      <td>1</td>\n",
       "      <td>91</td>\n",
       "      <td>2300000.0</td>\n",
       "      <td>NaN</td>\n",
       "    </tr>\n",
       "    <tr>\n",
       "      <th>31818</th>\n",
       "      <td>5032620</td>\n",
       "      <td>1</td>\n",
       "      <td>2</td>\n",
       "      <td>91</td>\n",
       "      <td>2200000.0</td>\n",
       "      <td>NaN</td>\n",
       "    </tr>\n",
       "  </tbody>\n",
       "</table>\n",
       "<p>31819 rows × 6 columns</p>\n",
       "</div>"
      ],
      "text/plain": [
       "       DIRECTORIO  SECUENCIA_P  ORDEN  DPTO      P6500  P3051\n",
       "0         5000000            1      1     8   768000.0    NaN\n",
       "1         5000001            1      1     8        NaN    NaN\n",
       "2         5000001            1      2     8        NaN    NaN\n",
       "3         5000001            1      3     8        NaN    NaN\n",
       "4         5000002            1      1     8   360000.0    NaN\n",
       "...           ...          ...    ...   ...        ...    ...\n",
       "31814     5032617            1      1    91   200000.0    NaN\n",
       "31815     5032618            1      1    91   600000.0    NaN\n",
       "31816     5032619            1      2    91  1000000.0    NaN\n",
       "31817     5032620            1      1    91  2300000.0    NaN\n",
       "31818     5032620            1      2    91  2200000.0    NaN\n",
       "\n",
       "[31819 rows x 6 columns]"
      ]
     },
     "execution_count": 192,
     "metadata": {},
     "output_type": "execute_result"
    }
   ],
   "source": [
    "enero_personas = pd.read_csv(\"Enero/Características generales, seguridad social en salud y educación.csv\", sep=\",\", encoding = \"latin-1\", usecols=(\"DIRECTORIO\", \"ORDEN\",\"SECUENCIA_P\",\"DPTO\"))\n",
    "enero_ocupados = pd.read_csv(\"Enero/Ocupados.csv\", sep=\",\", encoding = \"latin-1\", usecols= (\"DIRECTORIO\", \"ORDEN\",\"SECUENCIA_P\",  \"P6500\" ,\"P3051\"))\n",
    "enero = pd.merge(enero_personas,enero_ocupados, on=[\"DIRECTORIO\", \"ORDEN\",\"SECUENCIA_P\"])\n",
    "enero"
   ]
  },
  {
   "cell_type": "code",
   "execution_count": 193,
   "id": "1649b419",
   "metadata": {},
   "outputs": [
    {
     "data": {
      "text/html": [
       "<div>\n",
       "<style scoped>\n",
       "    .dataframe tbody tr th:only-of-type {\n",
       "        vertical-align: middle;\n",
       "    }\n",
       "\n",
       "    .dataframe tbody tr th {\n",
       "        vertical-align: top;\n",
       "    }\n",
       "\n",
       "    .dataframe thead th {\n",
       "        text-align: right;\n",
       "    }\n",
       "</style>\n",
       "<table border=\"1\" class=\"dataframe\">\n",
       "  <thead>\n",
       "    <tr style=\"text-align: right;\">\n",
       "      <th></th>\n",
       "      <th>DIRECTORIO</th>\n",
       "      <th>SECUENCIA_P</th>\n",
       "      <th>ORDEN</th>\n",
       "      <th>DPTO</th>\n",
       "      <th>P6500</th>\n",
       "      <th>P3051</th>\n",
       "    </tr>\n",
       "  </thead>\n",
       "  <tbody>\n",
       "    <tr>\n",
       "      <th>0</th>\n",
       "      <td>5032621</td>\n",
       "      <td>1</td>\n",
       "      <td>1</td>\n",
       "      <td>19</td>\n",
       "      <td>NaN</td>\n",
       "      <td>NaN</td>\n",
       "    </tr>\n",
       "    <tr>\n",
       "      <th>1</th>\n",
       "      <td>5032621</td>\n",
       "      <td>1</td>\n",
       "      <td>2</td>\n",
       "      <td>19</td>\n",
       "      <td>1200000.0</td>\n",
       "      <td>NaN</td>\n",
       "    </tr>\n",
       "    <tr>\n",
       "      <th>2</th>\n",
       "      <td>5032622</td>\n",
       "      <td>1</td>\n",
       "      <td>1</td>\n",
       "      <td>19</td>\n",
       "      <td>NaN</td>\n",
       "      <td>3600000.0</td>\n",
       "    </tr>\n",
       "    <tr>\n",
       "      <th>3</th>\n",
       "      <td>5032627</td>\n",
       "      <td>1</td>\n",
       "      <td>1</td>\n",
       "      <td>19</td>\n",
       "      <td>NaN</td>\n",
       "      <td>2400000.0</td>\n",
       "    </tr>\n",
       "    <tr>\n",
       "      <th>4</th>\n",
       "      <td>5032628</td>\n",
       "      <td>1</td>\n",
       "      <td>2</td>\n",
       "      <td>19</td>\n",
       "      <td>2180000.0</td>\n",
       "      <td>NaN</td>\n",
       "    </tr>\n",
       "    <tr>\n",
       "      <th>...</th>\n",
       "      <td>...</td>\n",
       "      <td>...</td>\n",
       "      <td>...</td>\n",
       "      <td>...</td>\n",
       "      <td>...</td>\n",
       "      <td>...</td>\n",
       "    </tr>\n",
       "    <tr>\n",
       "      <th>32974</th>\n",
       "      <td>5063808</td>\n",
       "      <td>1</td>\n",
       "      <td>1</td>\n",
       "      <td>76</td>\n",
       "      <td>NaN</td>\n",
       "      <td>NaN</td>\n",
       "    </tr>\n",
       "    <tr>\n",
       "      <th>32975</th>\n",
       "      <td>5063809</td>\n",
       "      <td>1</td>\n",
       "      <td>1</td>\n",
       "      <td>66</td>\n",
       "      <td>NaN</td>\n",
       "      <td>NaN</td>\n",
       "    </tr>\n",
       "    <tr>\n",
       "      <th>32976</th>\n",
       "      <td>5063810</td>\n",
       "      <td>1</td>\n",
       "      <td>2</td>\n",
       "      <td>63</td>\n",
       "      <td>1000000.0</td>\n",
       "      <td>NaN</td>\n",
       "    </tr>\n",
       "    <tr>\n",
       "      <th>32977</th>\n",
       "      <td>5063810</td>\n",
       "      <td>1</td>\n",
       "      <td>3</td>\n",
       "      <td>63</td>\n",
       "      <td>800000.0</td>\n",
       "      <td>NaN</td>\n",
       "    </tr>\n",
       "    <tr>\n",
       "      <th>32978</th>\n",
       "      <td>5063810</td>\n",
       "      <td>1</td>\n",
       "      <td>4</td>\n",
       "      <td>63</td>\n",
       "      <td>2000000.0</td>\n",
       "      <td>NaN</td>\n",
       "    </tr>\n",
       "  </tbody>\n",
       "</table>\n",
       "<p>32979 rows × 6 columns</p>\n",
       "</div>"
      ],
      "text/plain": [
       "       DIRECTORIO  SECUENCIA_P  ORDEN  DPTO      P6500      P3051\n",
       "0         5032621            1      1    19        NaN        NaN\n",
       "1         5032621            1      2    19  1200000.0        NaN\n",
       "2         5032622            1      1    19        NaN  3600000.0\n",
       "3         5032627            1      1    19        NaN  2400000.0\n",
       "4         5032628            1      2    19  2180000.0        NaN\n",
       "...           ...          ...    ...   ...        ...        ...\n",
       "32974     5063808            1      1    76        NaN        NaN\n",
       "32975     5063809            1      1    66        NaN        NaN\n",
       "32976     5063810            1      2    63  1000000.0        NaN\n",
       "32977     5063810            1      3    63   800000.0        NaN\n",
       "32978     5063810            1      4    63  2000000.0        NaN\n",
       "\n",
       "[32979 rows x 6 columns]"
      ]
     },
     "execution_count": 193,
     "metadata": {},
     "output_type": "execute_result"
    }
   ],
   "source": [
    "febrero_personas = pd.read_csv(\"Febrero/Características generales, seguridad social en salud y educación.csv\", sep=\";\", encoding = \"latin-1\", usecols=(\"DIRECTORIO\", \"ORDEN\",\"SECUENCIA_P\",\"DPTO\"))\n",
    "febrero_ocupados = pd.read_csv(\"Febrero/Ocupados.csv\", sep=\";\", encoding = \"latin-1\", usecols= (\"DIRECTORIO\", \"ORDEN\",\"SECUENCIA_P\",  \"P6500\" ,\"P3051\"))\n",
    "febrero = pd.merge(febrero_personas,febrero_ocupados, on=[\"DIRECTORIO\", \"ORDEN\",\"SECUENCIA_P\"])\n",
    "febrero"
   ]
  },
  {
   "cell_type": "code",
   "execution_count": 194,
   "id": "62e94dbd",
   "metadata": {},
   "outputs": [],
   "source": [
    "marzo_personas = pd.read_csv(\"Marzo/Características generales, seguridad social en salud y educación.csv\", sep=\";\", encoding = \"latin-1\", usecols=(\"DIRECTORIO\", \"ORDEN\",\"SECUENCIA_P\",\"DPTO\"))\n",
    "marzo_ocupados = pd.read_csv(\"Marzo/Ocupados.csv\", sep=\";\", encoding = \"latin-1\", usecols= (\"DIRECTORIO\", \"ORDEN\",\"SECUENCIA_P\",  \"P6500\" ,\"P3051\"))\n",
    "marzo = pd.merge(marzo_personas,marzo_ocupados, on=[\"DIRECTORIO\", \"ORDEN\",\"SECUENCIA_P\"])\n"
   ]
  },
  {
   "cell_type": "code",
   "execution_count": 195,
   "id": "74d31a8d",
   "metadata": {},
   "outputs": [],
   "source": [
    "abril_personas = pd.read_csv(\"Abril/Características generales, seguridad social en salud y educación.csv\", sep=\";\", encoding = \"latin-1\", usecols=(\"DIRECTORIO\", \"ORDEN\",\"SECUENCIA_P\",\"DPTO\"))\n",
    "abril_ocupados = pd.read_csv(\"Abril/Ocupados.csv\", sep=\";\", encoding = \"latin-1\", usecols= (\"DIRECTORIO\", \"ORDEN\",\"SECUENCIA_P\",  \"P6500\" ,\"P3051\"))\n",
    "abril = pd.merge(abril_personas,abril_ocupados, on=[\"DIRECTORIO\", \"ORDEN\",\"SECUENCIA_P\"])\n"
   ]
  },
  {
   "cell_type": "code",
   "execution_count": 196,
   "id": "7db5b7e1",
   "metadata": {},
   "outputs": [],
   "source": [
    "mayo_personas = pd.read_csv(\"Mayo/Características generales, seguridad social en salud y educación.csv\", sep=\";\", encoding = \"latin-1\", usecols=(\"DIRECTORIO\", \"ORDEN\",\"SECUENCIA_P\",\"DPTO\"))\n",
    "mayo_ocupados = pd.read_csv(\"Mayo/Ocupados.csv\", sep=\";\", encoding = \"latin-1\", usecols= (\"DIRECTORIO\", \"ORDEN\",\"SECUENCIA_P\",  \"P6500\" ,\"P3051\"))\n",
    "mayo = pd.merge(mayo_personas,mayo_ocupados, on=[\"DIRECTORIO\", \"ORDEN\",\"SECUENCIA_P\"])"
   ]
  },
  {
   "cell_type": "code",
   "execution_count": 197,
   "id": "a8dc8b21",
   "metadata": {},
   "outputs": [],
   "source": [
    "junio_personas = pd.read_csv(\"Junio/Características generales, seguridad social en salud y educación.csv\", sep=\";\", encoding = \"latin-1\", usecols=(\"DIRECTORIO\", \"ORDEN\",\"SECUENCIA_P\",\"DPTO\"))\n",
    "junio_ocupados = pd.read_csv(\"Junio/Ocupados.csv\", sep=\";\", encoding = \"latin-1\", usecols= (\"DIRECTORIO\", \"ORDEN\",\"SECUENCIA_P\",  \"P6500\" ,\"P3051\"))\n",
    "junio = pd.merge(junio_personas,junio_ocupados, on=[\"DIRECTORIO\", \"ORDEN\",\"SECUENCIA_P\"])"
   ]
  },
  {
   "cell_type": "code",
   "execution_count": 198,
   "id": "cc12672a",
   "metadata": {},
   "outputs": [],
   "source": [
    "julio_personas = pd.read_csv(\"Julio/Características generales, seguridad social en salud y educación.csv\", sep=\";\", encoding = \"latin-1\", usecols=(\"DIRECTORIO\", \"ORDEN\",\"SECUENCIA_P\",\"DPTO\"))\n",
    "julio_ocupados = pd.read_csv(\"Julio/Ocupados.csv\", sep=\";\", encoding = \"latin-1\", usecols= (\"DIRECTORIO\", \"ORDEN\",\"SECUENCIA_P\",  \"P6500\" ,\"P3051\"))\n",
    "julio = pd.merge(julio_personas,julio_ocupados, on=[\"DIRECTORIO\", \"ORDEN\",\"SECUENCIA_P\"])"
   ]
  },
  {
   "cell_type": "code",
   "execution_count": 199,
   "id": "ad556c5f",
   "metadata": {},
   "outputs": [],
   "source": [
    "agosto_personas = pd.read_csv(\"Agosto/Características generales, seguridad social en salud y educación.csv\", sep=\";\", encoding = \"latin-1\", usecols=(\"DIRECTORIO\", \"ORDEN\",\"SECUENCIA_P\",\"DPTO\"))\n",
    "agosto_ocupados = pd.read_csv(\"Agosto/Ocupados.csv\", sep=\";\", encoding = \"latin-1\", usecols= (\"DIRECTORIO\", \"ORDEN\",\"SECUENCIA_P\",  \"P6500\" ,\"P3051\"))\n",
    "agosto = pd.merge(agosto_personas,agosto_ocupados, on=[\"DIRECTORIO\", \"ORDEN\",\"SECUENCIA_P\"])"
   ]
  },
  {
   "cell_type": "code",
   "execution_count": 200,
   "id": "69f21b63",
   "metadata": {},
   "outputs": [],
   "source": [
    "septiembre_personas = pd.read_csv(\"Septiembre/Características generales, seguridad social en salud y educación.csv\", sep=\";\", encoding = \"latin-1\", usecols=(\"DIRECTORIO\", \"ORDEN\",\"SECUENCIA_P\",\"DPTO\"))\n",
    "septiembre_ocupados = pd.read_csv(\"Septiembre/Ocupados.csv\", sep=\";\", encoding = \"latin-1\", usecols= (\"DIRECTORIO\", \"ORDEN\",\"SECUENCIA_P\",  \"P6500\" ,\"P3051\"))\n",
    "septiembre = pd.merge(septiembre_personas,septiembre_ocupados, on=[\"DIRECTORIO\", \"ORDEN\",\"SECUENCIA_P\"])"
   ]
  },
  {
   "cell_type": "code",
   "execution_count": 201,
   "id": "e4b38cca",
   "metadata": {},
   "outputs": [],
   "source": [
    "octubre_personas = pd.read_csv(\"Octubre/Características generales, seguridad social en salud y educación.csv\", sep=\";\", encoding = \"latin-1\", usecols=(\"DIRECTORIO\", \"ORDEN\",\"SECUENCIA_P\",\"DPTO\"))\n",
    "octubre_ocupados = pd.read_csv(\"Octubre/Ocupados.csv\", sep=\";\", encoding = \"latin-1\", usecols= (\"DIRECTORIO\", \"ORDEN\",\"SECUENCIA_P\",  \"P6500\" ,\"P3051\"))\n",
    "octubre = pd.merge(octubre_personas,octubre_ocupados, on=[\"DIRECTORIO\", \"ORDEN\",\"SECUENCIA_P\"])"
   ]
  },
  {
   "cell_type": "code",
   "execution_count": 202,
   "id": "b6e5099e",
   "metadata": {},
   "outputs": [],
   "source": [
    "noviembre_personas = pd.read_csv(\"Noviembre/Características generales, seguridad social en salud y educación.csv\", sep=\";\", encoding = \"latin-1\", usecols=(\"DIRECTORIO\", \"ORDEN\",\"SECUENCIA_P\",\"DPTO\"))\n",
    "noviembre_ocupados = pd.read_csv(\"Noviembre/Ocupados.csv\", sep=\";\", encoding = \"latin-1\", usecols= (\"DIRECTORIO\", \"ORDEN\",\"SECUENCIA_P\",  \"P6500\" ,\"P3051\"))\n",
    "noviembre = pd.merge(noviembre_personas,noviembre_ocupados, on=[\"DIRECTORIO\", \"ORDEN\",\"SECUENCIA_P\"])"
   ]
  },
  {
   "cell_type": "code",
   "execution_count": 203,
   "id": "1a711d10",
   "metadata": {},
   "outputs": [],
   "source": [
    "diciembre_personas = pd.read_csv(\"Diciembre/Características generales, seguridad social en salud y educación.csv\", sep=\";\", encoding = \"latin-1\", usecols=(\"DIRECTORIO\", \"ORDEN\",\"SECUENCIA_P\",\"DPTO\"))\n",
    "diciembre_ocupados = pd.read_csv(\"Diciembre/Ocupados.csv\", sep=\";\", encoding = \"latin-1\", usecols= (\"DIRECTORIO\", \"ORDEN\",\"SECUENCIA_P\",  \"P6500\" ,\"P3051\"))\n",
    "diciembre = pd.merge(diciembre_personas,diciembre_ocupados, on=[\"DIRECTORIO\", \"ORDEN\",\"SECUENCIA_P\"])"
   ]
  },
  {
   "cell_type": "code",
   "execution_count": 204,
   "id": "9e1a5d15",
   "metadata": {
    "scrolled": true
   },
   "outputs": [],
   "source": [
    "GEIH2022_ingreso = pd.concat([enero,febrero,marzo,abril, mayo, junio, julio, agosto, septiembre, octubre, noviembre, diciembre], axis=0)\n",
    "GEIH2022_ingreso= GEIH2022_ingreso.fillna(0)"
   ]
  },
  {
   "cell_type": "code",
   "execution_count": 205,
   "id": "b3e033d4",
   "metadata": {
    "scrolled": true
   },
   "outputs": [],
   "source": [
    "ceros = GEIH_2022[GEIH_2022[\"Salario\"] == 0.0].index\n",
    "GEIH_2022.drop(ceros, inplace=True)\n",
    "GEIH_2022.to_csv(\"SalarioMedio.csv\")"
   ]
  },
  {
   "cell_type": "code",
   "execution_count": 206,
   "id": "1577c858",
   "metadata": {
    "scrolled": true
   },
   "outputs": [
    {
     "data": {
      "text/plain": [
       "633877.0978441128"
      ]
     },
     "execution_count": 206,
     "metadata": {},
     "output_type": "execute_result"
    }
   ],
   "source": [
    "AraucaSalario = Arauca[\"Salario\"].mean()\n",
    "AraucaSalario\n"
   ]
  },
  {
   "cell_type": "code",
   "execution_count": 207,
   "id": "bbe26231",
   "metadata": {},
   "outputs": [
    {
     "data": {
      "text/plain": [
       "617707.3541666666"
      ]
     },
     "execution_count": 207,
     "metadata": {},
     "output_type": "execute_result"
    }
   ],
   "source": [
    "AmazonasSalario = Amazonas[\"Salario\"].mean()\n",
    "AmazonasSalario"
   ]
  },
  {
   "cell_type": "code",
   "execution_count": 208,
   "id": "a69673d2",
   "metadata": {},
   "outputs": [
    {
     "data": {
      "text/plain": [
       "1203229.33237544"
      ]
     },
     "execution_count": 208,
     "metadata": {},
     "output_type": "execute_result"
    }
   ],
   "source": [
    "AntioquiaSalario = Antioquia[\"Salario\"].mean()\n",
    "AntioquiaSalario"
   ]
  },
  {
   "cell_type": "code",
   "execution_count": 209,
   "id": "d9b93b12",
   "metadata": {
    "scrolled": true
   },
   "outputs": [
    {
     "data": {
      "text/plain": [
       "732442.4489531743"
      ]
     },
     "execution_count": 209,
     "metadata": {},
     "output_type": "execute_result"
    }
   ],
   "source": [
    "AtlanticoSalario = Atlantico[\"Salario\"].mean()\n",
    "AtlanticoSalario\n"
   ]
  },
  {
   "cell_type": "code",
   "execution_count": 210,
   "id": "b3421d97",
   "metadata": {},
   "outputs": [
    {
     "data": {
      "text/plain": [
       "1720549.6882770192"
      ]
     },
     "execution_count": 210,
     "metadata": {},
     "output_type": "execute_result"
    }
   ],
   "source": [
    "BogotaSalario = Bogota[\"Salario\"].mean()\n",
    "BogotaSalario"
   ]
  },
  {
   "cell_type": "code",
   "execution_count": 211,
   "id": "73461439",
   "metadata": {},
   "outputs": [
    {
     "data": {
      "text/plain": [
       "554065.0003359838"
      ]
     },
     "execution_count": 211,
     "metadata": {},
     "output_type": "execute_result"
    }
   ],
   "source": [
    "BolivarSalario = Bolivar[\"Salario\"].mean()\n",
    "BolivarSalario"
   ]
  },
  {
   "cell_type": "code",
   "execution_count": 212,
   "id": "0592151d",
   "metadata": {
    "scrolled": true
   },
   "outputs": [
    {
     "data": {
      "text/plain": [
       "1133030.9251118926"
      ]
     },
     "execution_count": 212,
     "metadata": {},
     "output_type": "execute_result"
    }
   ],
   "source": [
    "BoyacaSalario = Boyaca[\"Salario\"].mean()\n",
    "BoyacaSalario\n"
   ]
  },
  {
   "cell_type": "code",
   "execution_count": 213,
   "id": "4c58de9d",
   "metadata": {},
   "outputs": [
    {
     "data": {
      "text/plain": [
       "1104061.364039409"
      ]
     },
     "execution_count": 213,
     "metadata": {},
     "output_type": "execute_result"
    }
   ],
   "source": [
    "CaldasSalario = Caldas[\"Salario\"].mean()\n",
    "CaldasSalario"
   ]
  },
  {
   "cell_type": "code",
   "execution_count": 214,
   "id": "16c75dab",
   "metadata": {},
   "outputs": [
    {
     "data": {
      "text/plain": [
       "795871.9770142754"
      ]
     },
     "execution_count": 214,
     "metadata": {},
     "output_type": "execute_result"
    }
   ],
   "source": [
    "CaquetaSalario = Caqueta[\"Salario\"].mean()\n",
    "CaquetaSalario"
   ]
  },
  {
   "cell_type": "code",
   "execution_count": 215,
   "id": "62970fc1",
   "metadata": {
    "scrolled": true
   },
   "outputs": [
    {
     "data": {
      "text/plain": [
       "1221574.5320537428"
      ]
     },
     "execution_count": 215,
     "metadata": {},
     "output_type": "execute_result"
    }
   ],
   "source": [
    "CasanareSalario = Casanare[\"Salario\"].mean()\n",
    "CasanareSalario\n"
   ]
  },
  {
   "cell_type": "code",
   "execution_count": 216,
   "id": "8a6d7d9f",
   "metadata": {},
   "outputs": [
    {
     "data": {
      "text/plain": [
       "994267.742861316"
      ]
     },
     "execution_count": 216,
     "metadata": {},
     "output_type": "execute_result"
    }
   ],
   "source": [
    "CaucaSalario = Cauca[\"Salario\"].mean()\n",
    "CaucaSalario"
   ]
  },
  {
   "cell_type": "code",
   "execution_count": 217,
   "id": "9a1fab87",
   "metadata": {},
   "outputs": [
    {
     "data": {
      "text/plain": [
       "640610.1699346405"
      ]
     },
     "execution_count": 217,
     "metadata": {},
     "output_type": "execute_result"
    }
   ],
   "source": [
    "CesarSalario = Cesar[\"Salario\"].mean()\n",
    "CesarSalario"
   ]
  },
  {
   "cell_type": "code",
   "execution_count": 218,
   "id": "e2596f3f",
   "metadata": {
    "scrolled": true
   },
   "outputs": [
    {
     "data": {
      "text/plain": [
       "851723.2008396798"
      ]
     },
     "execution_count": 218,
     "metadata": {},
     "output_type": "execute_result"
    }
   ],
   "source": [
    "ChocoSalario = Choco[\"Salario\"].mean()\n",
    "ChocoSalario\n"
   ]
  },
  {
   "cell_type": "code",
   "execution_count": 219,
   "id": "29e88a3f",
   "metadata": {},
   "outputs": [
    {
     "data": {
      "text/plain": [
       "683984.5622045915"
      ]
     },
     "execution_count": 219,
     "metadata": {},
     "output_type": "execute_result"
    }
   ],
   "source": [
    "CordobaSalario = Cordoba[\"Salario\"].mean()\n",
    "CordobaSalario"
   ]
  },
  {
   "cell_type": "code",
   "execution_count": 220,
   "id": "1b084a62",
   "metadata": {},
   "outputs": [
    {
     "data": {
      "text/plain": [
       "866788.837367419"
      ]
     },
     "execution_count": 220,
     "metadata": {},
     "output_type": "execute_result"
    }
   ],
   "source": [
    "CundinamarcaSalario = Cundinamarca[\"Salario\"].mean()\n",
    "CundinamarcaSalario"
   ]
  },
  {
   "cell_type": "code",
   "execution_count": 221,
   "id": "514f43c2",
   "metadata": {
    "scrolled": true
   },
   "outputs": [
    {
     "data": {
      "text/plain": [
       "708864.5466188524"
      ]
     },
     "execution_count": 221,
     "metadata": {},
     "output_type": "execute_result"
    }
   ],
   "source": [
    "GuainiaSalario = Guainia[\"Salario\"].mean()\n",
    "GuainiaSalario\n"
   ]
  },
  {
   "cell_type": "code",
   "execution_count": 222,
   "id": "a46da05f",
   "metadata": {
    "scrolled": true
   },
   "outputs": [
    {
     "data": {
      "text/plain": [
       "928895.6039370078"
      ]
     },
     "execution_count": 222,
     "metadata": {},
     "output_type": "execute_result"
    }
   ],
   "source": [
    "GuaviareSalario = Guaviare[\"Salario\"].mean()\n",
    "GuaviareSalario"
   ]
  },
  {
   "cell_type": "code",
   "execution_count": 223,
   "id": "4f348775",
   "metadata": {
    "scrolled": true
   },
   "outputs": [
    {
     "data": {
      "text/plain": [
       "809459.4146000155"
      ]
     },
     "execution_count": 223,
     "metadata": {},
     "output_type": "execute_result"
    }
   ],
   "source": [
    "HuilaSalario = Huila[\"Salario\"].mean()\n",
    "HuilaSalario"
   ]
  },
  {
   "cell_type": "code",
   "execution_count": 224,
   "id": "677d8e3a",
   "metadata": {
    "scrolled": true
   },
   "outputs": [
    {
     "data": {
      "text/plain": [
       "589259.5788213486"
      ]
     },
     "execution_count": 224,
     "metadata": {},
     "output_type": "execute_result"
    }
   ],
   "source": [
    "GuajiraSalario = Guajira[\"Salario\"].mean()\n",
    "GuajiraSalario\n"
   ]
  },
  {
   "cell_type": "code",
   "execution_count": 225,
   "id": "288242c3",
   "metadata": {},
   "outputs": [
    {
     "data": {
      "text/plain": [
       "566829.9244483784"
      ]
     },
     "execution_count": 225,
     "metadata": {},
     "output_type": "execute_result"
    }
   ],
   "source": [
    "MagdalenaSalario = Magdalena[\"Salario\"].mean()\n",
    "MagdalenaSalario"
   ]
  },
  {
   "cell_type": "code",
   "execution_count": 226,
   "id": "eb5404cb",
   "metadata": {},
   "outputs": [
    {
     "data": {
      "text/plain": [
       "977752.4235704415"
      ]
     },
     "execution_count": 226,
     "metadata": {},
     "output_type": "execute_result"
    }
   ],
   "source": [
    "MetaSalario = Meta[\"Salario\"].mean()\n",
    "MetaSalario"
   ]
  },
  {
   "cell_type": "code",
   "execution_count": 227,
   "id": "8d8365a0",
   "metadata": {
    "scrolled": true
   },
   "outputs": [
    {
     "data": {
      "text/plain": [
       "767985.1958308388"
      ]
     },
     "execution_count": 227,
     "metadata": {},
     "output_type": "execute_result"
    }
   ],
   "source": [
    "NarinoSalario = Narino[\"Salario\"].mean()\n",
    "NarinoSalario\n"
   ]
  },
  {
   "cell_type": "code",
   "execution_count": 228,
   "id": "88667110",
   "metadata": {},
   "outputs": [
    {
     "data": {
      "text/plain": [
       "561033.3804897525"
      ]
     },
     "execution_count": 228,
     "metadata": {},
     "output_type": "execute_result"
    }
   ],
   "source": [
    "NorteSSalario = NorteSantander[\"Salario\"].mean()\n",
    "NorteSSalario"
   ]
  },
  {
   "cell_type": "code",
   "execution_count": 229,
   "id": "07614a59",
   "metadata": {},
   "outputs": [
    {
     "data": {
      "text/plain": [
       "467234.4602425876"
      ]
     },
     "execution_count": 229,
     "metadata": {},
     "output_type": "execute_result"
    }
   ],
   "source": [
    "PutumayoSalario = Putumayo[\"Salario\"].mean()\n",
    "PutumayoSalario"
   ]
  },
  {
   "cell_type": "code",
   "execution_count": 230,
   "id": "a66b85bc",
   "metadata": {
    "scrolled": true
   },
   "outputs": [
    {
     "data": {
      "text/plain": [
       "928895.6039370078"
      ]
     },
     "execution_count": 230,
     "metadata": {},
     "output_type": "execute_result"
    }
   ],
   "source": [
    "GuaviareSalario = Guaviare[\"Salario\"].mean()\n",
    "GuaviareSalario"
   ]
  },
  {
   "cell_type": "code",
   "execution_count": 231,
   "id": "9a7d2bea",
   "metadata": {
    "scrolled": true
   },
   "outputs": [
    {
     "data": {
      "text/plain": [
       "809459.4146000155"
      ]
     },
     "execution_count": 231,
     "metadata": {},
     "output_type": "execute_result"
    }
   ],
   "source": [
    "HuilaSalario = Huila[\"Salario\"].mean()\n",
    "HuilaSalario"
   ]
  },
  {
   "cell_type": "code",
   "execution_count": 232,
   "id": "1f5489cd",
   "metadata": {
    "scrolled": true
   },
   "outputs": [
    {
     "data": {
      "text/plain": [
       "589259.5788213486"
      ]
     },
     "execution_count": 232,
     "metadata": {},
     "output_type": "execute_result"
    }
   ],
   "source": [
    "GuajiraSalario = Guajira[\"Salario\"].mean()\n",
    "GuajiraSalario\n"
   ]
  },
  {
   "cell_type": "code",
   "execution_count": 233,
   "id": "94b94ae9",
   "metadata": {},
   "outputs": [
    {
     "data": {
      "text/plain": [
       "566829.9244483784"
      ]
     },
     "execution_count": 233,
     "metadata": {},
     "output_type": "execute_result"
    }
   ],
   "source": [
    "MagdalenaSalario = Magdalena[\"Salario\"].mean()\n",
    "MagdalenaSalario"
   ]
  },
  {
   "cell_type": "code",
   "execution_count": 234,
   "id": "0f45b44f",
   "metadata": {},
   "outputs": [
    {
     "data": {
      "text/plain": [
       "977752.4235704415"
      ]
     },
     "execution_count": 234,
     "metadata": {},
     "output_type": "execute_result"
    }
   ],
   "source": [
    "MetaSalario = Meta[\"Salario\"].mean()\n",
    "MetaSalario"
   ]
  },
  {
   "cell_type": "code",
   "execution_count": 235,
   "id": "28593b4a",
   "metadata": {
    "scrolled": true
   },
   "outputs": [
    {
     "data": {
      "text/plain": [
       "767985.1958308388"
      ]
     },
     "execution_count": 235,
     "metadata": {},
     "output_type": "execute_result"
    }
   ],
   "source": [
    "NarinoSalario = Narino[\"Salario\"].mean()\n",
    "NarinoSalario\n"
   ]
  },
  {
   "cell_type": "code",
   "execution_count": 236,
   "id": "ca95f169",
   "metadata": {},
   "outputs": [
    {
     "data": {
      "text/plain": [
       "561033.3804897525"
      ]
     },
     "execution_count": 236,
     "metadata": {},
     "output_type": "execute_result"
    }
   ],
   "source": [
    "NorteSSalario = NorteSantander[\"Salario\"].mean()\n",
    "NorteSSalario"
   ]
  },
  {
   "cell_type": "code",
   "execution_count": 237,
   "id": "3192c188",
   "metadata": {
    "scrolled": true
   },
   "outputs": [
    {
     "data": {
      "text/plain": [
       "467234.4602425876"
      ]
     },
     "execution_count": 237,
     "metadata": {},
     "output_type": "execute_result"
    }
   ],
   "source": [
    "PutumayoSalario = Putumayo[\"Salario\"].mean()\n",
    "PutumayoSalario"
   ]
  },
  {
   "cell_type": "code",
   "execution_count": 238,
   "id": "9d1be5c5",
   "metadata": {
    "scrolled": true
   },
   "outputs": [
    {
     "data": {
      "text/plain": [
       "928895.6039370078"
      ]
     },
     "execution_count": 238,
     "metadata": {},
     "output_type": "execute_result"
    }
   ],
   "source": [
    "GuaviareSalario = Guaviare[\"Salario\"].mean()\n",
    "GuaviareSalario"
   ]
  },
  {
   "cell_type": "code",
   "execution_count": 239,
   "id": "4927e7d0",
   "metadata": {
    "scrolled": false
   },
   "outputs": [
    {
     "data": {
      "text/plain": [
       "809459.4146000155"
      ]
     },
     "execution_count": 239,
     "metadata": {},
     "output_type": "execute_result"
    }
   ],
   "source": [
    "HuilaSalario = Huila[\"Salario\"].mean()\n",
    "HuilaSalario"
   ]
  },
  {
   "cell_type": "code",
   "execution_count": 240,
   "id": "d4a6e478",
   "metadata": {
    "scrolled": true
   },
   "outputs": [
    {
     "data": {
      "text/plain": [
       "589259.5788213486"
      ]
     },
     "execution_count": 240,
     "metadata": {},
     "output_type": "execute_result"
    }
   ],
   "source": [
    "GuajiraSalario = Guajira[\"Salario\"].mean()\n",
    "GuajiraSalario\n"
   ]
  },
  {
   "cell_type": "code",
   "execution_count": 241,
   "id": "ae127e29",
   "metadata": {},
   "outputs": [
    {
     "data": {
      "text/plain": [
       "566829.9244483784"
      ]
     },
     "execution_count": 241,
     "metadata": {},
     "output_type": "execute_result"
    }
   ],
   "source": [
    "MagdalenaSalario = Magdalena[\"Salario\"].mean()\n",
    "MagdalenaSalario"
   ]
  },
  {
   "cell_type": "code",
   "execution_count": 242,
   "id": "9b235ba6",
   "metadata": {},
   "outputs": [
    {
     "data": {
      "text/plain": [
       "977752.4235704415"
      ]
     },
     "execution_count": 242,
     "metadata": {},
     "output_type": "execute_result"
    }
   ],
   "source": [
    "MetaSalario = Meta[\"Salario\"].mean()\n",
    "MetaSalario"
   ]
  },
  {
   "cell_type": "code",
   "execution_count": 243,
   "id": "83c4003d",
   "metadata": {
    "scrolled": false
   },
   "outputs": [
    {
     "data": {
      "text/plain": [
       "767985.1958308388"
      ]
     },
     "execution_count": 243,
     "metadata": {},
     "output_type": "execute_result"
    }
   ],
   "source": [
    "NarinoSalario = Narino[\"Salario\"].mean()\n",
    "NarinoSalario\n"
   ]
  },
  {
   "cell_type": "code",
   "execution_count": 244,
   "id": "5d3fdca2",
   "metadata": {
    "scrolled": true
   },
   "outputs": [
    {
     "data": {
      "text/plain": [
       "561033.3804897525"
      ]
     },
     "execution_count": 244,
     "metadata": {},
     "output_type": "execute_result"
    }
   ],
   "source": [
    "NorteSSalario = NorteSantander[\"Salario\"].mean()\n",
    "NorteSSalario"
   ]
  },
  {
   "cell_type": "code",
   "execution_count": 245,
   "id": "c6292496",
   "metadata": {
    "scrolled": true
   },
   "outputs": [
    {
     "data": {
      "text/plain": [
       "467234.4602425876"
      ]
     },
     "execution_count": 245,
     "metadata": {},
     "output_type": "execute_result"
    }
   ],
   "source": [
    "PutumayoSalario = Putumayo[\"Salario\"].mean()\n",
    "PutumayoSalario"
   ]
  },
  {
   "cell_type": "code",
   "execution_count": 246,
   "id": "a03ef293",
   "metadata": {},
   "outputs": [
    {
     "data": {
      "text/plain": [
       "561033.3804897525"
      ]
     },
     "execution_count": 246,
     "metadata": {},
     "output_type": "execute_result"
    }
   ],
   "source": [
    "NorteSSalario = NorteSantander[\"Salario\"].mean()\n",
    "NorteSSalario"
   ]
  },
  {
   "cell_type": "code",
   "execution_count": 247,
   "id": "3fc67ac9",
   "metadata": {
    "scrolled": true
   },
   "outputs": [
    {
     "data": {
      "text/plain": [
       "467234.4602425876"
      ]
     },
     "execution_count": 247,
     "metadata": {},
     "output_type": "execute_result"
    }
   ],
   "source": [
    "PutumayoSalario = Putumayo[\"Salario\"].mean()\n",
    "PutumayoSalario"
   ]
  },
  {
   "cell_type": "code",
   "execution_count": 248,
   "id": "da72b0ca",
   "metadata": {
    "scrolled": true
   },
   "outputs": [
    {
     "data": {
      "text/plain": [
       "1093172.5531060959"
      ]
     },
     "execution_count": 248,
     "metadata": {},
     "output_type": "execute_result"
    }
   ],
   "source": [
    "RisaraldaSalario = Risaralda[\"Salario\"].mean()\n",
    "RisaraldaSalario"
   ]
  },
  {
   "cell_type": "code",
   "execution_count": 249,
   "id": "a584cf4b",
   "metadata": {
    "scrolled": false
   },
   "outputs": [
    {
     "data": {
      "text/plain": [
       "1096731.8397580192"
      ]
     },
     "execution_count": 249,
     "metadata": {},
     "output_type": "execute_result"
    }
   ],
   "source": [
    "SAISalario = SanAndres[\"Salario\"].mean()\n",
    "SAISalario"
   ]
  },
  {
   "cell_type": "code",
   "execution_count": 250,
   "id": "a833933f",
   "metadata": {
    "scrolled": true
   },
   "outputs": [
    {
     "data": {
      "text/plain": [
       "964342.9661658199"
      ]
     },
     "execution_count": 250,
     "metadata": {},
     "output_type": "execute_result"
    }
   ],
   "source": [
    "SantanderSalario = Santander[\"Salario\"].mean()\n",
    "SantanderSalario\n"
   ]
  },
  {
   "cell_type": "code",
   "execution_count": 251,
   "id": "9f3581c2",
   "metadata": {},
   "outputs": [
    {
     "data": {
      "text/plain": [
       "546925.7494062564"
      ]
     },
     "execution_count": 251,
     "metadata": {},
     "output_type": "execute_result"
    }
   ],
   "source": [
    "SucreSalario = Sucre[\"Salario\"].mean()\n",
    "SucreSalario"
   ]
  },
  {
   "cell_type": "code",
   "execution_count": 252,
   "id": "5779e9b4",
   "metadata": {},
   "outputs": [
    {
     "data": {
      "text/plain": [
       "853075.6514701915"
      ]
     },
     "execution_count": 252,
     "metadata": {},
     "output_type": "execute_result"
    }
   ],
   "source": [
    "TolimaSalario = Tolima[\"Salario\"].mean()\n",
    "TolimaSalario"
   ]
  },
  {
   "cell_type": "code",
   "execution_count": 253,
   "id": "ec313035",
   "metadata": {
    "scrolled": false
   },
   "outputs": [
    {
     "data": {
      "text/plain": [
       "1001836.6507301646"
      ]
     },
     "execution_count": 253,
     "metadata": {},
     "output_type": "execute_result"
    }
   ],
   "source": [
    "ValleSalario = Valle[\"Salario\"].mean()\n",
    "ValleSalario\n"
   ]
  },
  {
   "cell_type": "code",
   "execution_count": 254,
   "id": "4c691102",
   "metadata": {
    "scrolled": true
   },
   "outputs": [
    {
     "data": {
      "text/plain": [
       "1534246.379705401"
      ]
     },
     "execution_count": 254,
     "metadata": {},
     "output_type": "execute_result"
    }
   ],
   "source": [
    "Vaupesalario = Vaupes[\"Salario\"].mean()\n",
    "Vaupesalario"
   ]
  },
  {
   "cell_type": "code",
   "execution_count": 255,
   "id": "38b5583a",
   "metadata": {
    "scrolled": false
   },
   "outputs": [
    {
     "data": {
      "text/plain": [
       "1048821.2568690097"
      ]
     },
     "execution_count": 255,
     "metadata": {},
     "output_type": "execute_result"
    }
   ],
   "source": [
    "VichadaSalario = Vichada[\"Salario\"].mean()\n",
    "VichadaSalario"
   ]
  },
  {
   "cell_type": "code",
   "execution_count": 256,
   "id": "1360ec68",
   "metadata": {},
   "outputs": [],
   "source": [
    "SM_Dptos= {\"Arauca\":633877,\n",
    "\"Amazonas\" : 617707,\n",
    "\"Antioquia\": 1203229,\n",
    "\"Atlantico\": 732442,\n",
    "\"Bogota\": 1720549,\n",
    "\"Bolivar\":554065,\n",
    "    \"Boyaca\":1133030,\n",
    "\"Caldas\":1104061,\n",
    "    \"Caqueta\":795871,\n",
    "        \"Casanare\":1221574,\n",
    "        \"Cauca\":994267,\n",
    "        \"Cesar\": 640610,\n",
    "        \"Choco\":851723,\n",
    "        \"Cordoba\": 683984,\n",
    "        \"Cundinamarca\":866788,\n",
    "        \"Guainia\":708864,\n",
    "        \"Guaviare\":928895,\n",
    "        \"Huila\":809459,\n",
    "        \"Guajira\":589259,\n",
    "        \"Magdalena\": 566829,\n",
    "        \"Meta\": 977752,\n",
    "        \"Narino\": 767985,\n",
    "        \"NorteSantander\": 561033,\n",
    "        \"Putumayo\":467234,\n",
    "        \"Quindio\":964620,\n",
    "        \"Risaralda\":1093172,\n",
    "        \"SanAndres\":1096731,\n",
    "        \"Santander\": 964342,\n",
    "        \"Tolima\":853075,\n",
    "        \"Valle\":1001836,\n",
    "        \"Vaupes\":1534246,\n",
    "        \"Vichada\":1048821,}"
   ]
  },
  {
   "cell_type": "code",
   "execution_count": 257,
   "id": "b9fe6864",
   "metadata": {},
   "outputs": [
    {
     "data": {
      "text/html": [
       "<div>\n",
       "<style scoped>\n",
       "    .dataframe tbody tr th:only-of-type {\n",
       "        vertical-align: middle;\n",
       "    }\n",
       "\n",
       "    .dataframe tbody tr th {\n",
       "        vertical-align: top;\n",
       "    }\n",
       "\n",
       "    .dataframe thead th {\n",
       "        text-align: right;\n",
       "    }\n",
       "</style>\n",
       "<table border=\"1\" class=\"dataframe\">\n",
       "  <thead>\n",
       "    <tr style=\"text-align: right;\">\n",
       "      <th></th>\n",
       "      <th>Departamento</th>\n",
       "      <th>SalarioMedio</th>\n",
       "    </tr>\n",
       "  </thead>\n",
       "  <tbody>\n",
       "    <tr>\n",
       "      <th>23</th>\n",
       "      <td>Putumayo</td>\n",
       "      <td>467234</td>\n",
       "    </tr>\n",
       "    <tr>\n",
       "      <th>5</th>\n",
       "      <td>Bolivar</td>\n",
       "      <td>554065</td>\n",
       "    </tr>\n",
       "    <tr>\n",
       "      <th>22</th>\n",
       "      <td>NorteSantander</td>\n",
       "      <td>561033</td>\n",
       "    </tr>\n",
       "    <tr>\n",
       "      <th>19</th>\n",
       "      <td>Magdalena</td>\n",
       "      <td>566829</td>\n",
       "    </tr>\n",
       "    <tr>\n",
       "      <th>18</th>\n",
       "      <td>Guajira</td>\n",
       "      <td>589259</td>\n",
       "    </tr>\n",
       "    <tr>\n",
       "      <th>1</th>\n",
       "      <td>Amazonas</td>\n",
       "      <td>617707</td>\n",
       "    </tr>\n",
       "    <tr>\n",
       "      <th>0</th>\n",
       "      <td>Arauca</td>\n",
       "      <td>633877</td>\n",
       "    </tr>\n",
       "    <tr>\n",
       "      <th>11</th>\n",
       "      <td>Cesar</td>\n",
       "      <td>640610</td>\n",
       "    </tr>\n",
       "    <tr>\n",
       "      <th>13</th>\n",
       "      <td>Cordoba</td>\n",
       "      <td>683984</td>\n",
       "    </tr>\n",
       "    <tr>\n",
       "      <th>15</th>\n",
       "      <td>Guainia</td>\n",
       "      <td>708864</td>\n",
       "    </tr>\n",
       "    <tr>\n",
       "      <th>3</th>\n",
       "      <td>Atlantico</td>\n",
       "      <td>732442</td>\n",
       "    </tr>\n",
       "    <tr>\n",
       "      <th>21</th>\n",
       "      <td>Narino</td>\n",
       "      <td>767985</td>\n",
       "    </tr>\n",
       "    <tr>\n",
       "      <th>8</th>\n",
       "      <td>Caqueta</td>\n",
       "      <td>795871</td>\n",
       "    </tr>\n",
       "    <tr>\n",
       "      <th>17</th>\n",
       "      <td>Huila</td>\n",
       "      <td>809459</td>\n",
       "    </tr>\n",
       "    <tr>\n",
       "      <th>12</th>\n",
       "      <td>Choco</td>\n",
       "      <td>851723</td>\n",
       "    </tr>\n",
       "    <tr>\n",
       "      <th>28</th>\n",
       "      <td>Tolima</td>\n",
       "      <td>853075</td>\n",
       "    </tr>\n",
       "    <tr>\n",
       "      <th>14</th>\n",
       "      <td>Cundinamarca</td>\n",
       "      <td>866788</td>\n",
       "    </tr>\n",
       "    <tr>\n",
       "      <th>16</th>\n",
       "      <td>Guaviare</td>\n",
       "      <td>928895</td>\n",
       "    </tr>\n",
       "    <tr>\n",
       "      <th>27</th>\n",
       "      <td>Santander</td>\n",
       "      <td>964342</td>\n",
       "    </tr>\n",
       "    <tr>\n",
       "      <th>24</th>\n",
       "      <td>Quindio</td>\n",
       "      <td>964620</td>\n",
       "    </tr>\n",
       "    <tr>\n",
       "      <th>20</th>\n",
       "      <td>Meta</td>\n",
       "      <td>977752</td>\n",
       "    </tr>\n",
       "    <tr>\n",
       "      <th>10</th>\n",
       "      <td>Cauca</td>\n",
       "      <td>994267</td>\n",
       "    </tr>\n",
       "    <tr>\n",
       "      <th>29</th>\n",
       "      <td>Valle</td>\n",
       "      <td>1001836</td>\n",
       "    </tr>\n",
       "    <tr>\n",
       "      <th>31</th>\n",
       "      <td>Vichada</td>\n",
       "      <td>1048821</td>\n",
       "    </tr>\n",
       "    <tr>\n",
       "      <th>25</th>\n",
       "      <td>Risaralda</td>\n",
       "      <td>1093172</td>\n",
       "    </tr>\n",
       "    <tr>\n",
       "      <th>26</th>\n",
       "      <td>SanAndres</td>\n",
       "      <td>1096731</td>\n",
       "    </tr>\n",
       "    <tr>\n",
       "      <th>7</th>\n",
       "      <td>Caldas</td>\n",
       "      <td>1104061</td>\n",
       "    </tr>\n",
       "    <tr>\n",
       "      <th>6</th>\n",
       "      <td>Boyaca</td>\n",
       "      <td>1133030</td>\n",
       "    </tr>\n",
       "    <tr>\n",
       "      <th>2</th>\n",
       "      <td>Antioquia</td>\n",
       "      <td>1203229</td>\n",
       "    </tr>\n",
       "    <tr>\n",
       "      <th>9</th>\n",
       "      <td>Casanare</td>\n",
       "      <td>1221574</td>\n",
       "    </tr>\n",
       "    <tr>\n",
       "      <th>30</th>\n",
       "      <td>Vaupes</td>\n",
       "      <td>1534246</td>\n",
       "    </tr>\n",
       "    <tr>\n",
       "      <th>4</th>\n",
       "      <td>Bogota</td>\n",
       "      <td>1720549</td>\n",
       "    </tr>\n",
       "  </tbody>\n",
       "</table>\n",
       "</div>"
      ],
      "text/plain": [
       "      Departamento  SalarioMedio\n",
       "23        Putumayo        467234\n",
       "5          Bolivar        554065\n",
       "22  NorteSantander        561033\n",
       "19       Magdalena        566829\n",
       "18         Guajira        589259\n",
       "1         Amazonas        617707\n",
       "0           Arauca        633877\n",
       "11           Cesar        640610\n",
       "13         Cordoba        683984\n",
       "15         Guainia        708864\n",
       "3        Atlantico        732442\n",
       "21          Narino        767985\n",
       "8          Caqueta        795871\n",
       "17           Huila        809459\n",
       "12           Choco        851723\n",
       "28          Tolima        853075\n",
       "14    Cundinamarca        866788\n",
       "16        Guaviare        928895\n",
       "27       Santander        964342\n",
       "24         Quindio        964620\n",
       "20            Meta        977752\n",
       "10           Cauca        994267\n",
       "29           Valle       1001836\n",
       "31         Vichada       1048821\n",
       "25       Risaralda       1093172\n",
       "26       SanAndres       1096731\n",
       "7           Caldas       1104061\n",
       "6           Boyaca       1133030\n",
       "2        Antioquia       1203229\n",
       "9         Casanare       1221574\n",
       "30          Vaupes       1534246\n",
       "4           Bogota       1720549"
      ]
     },
     "execution_count": 257,
     "metadata": {},
     "output_type": "execute_result"
    }
   ],
   "source": [
    "SM_dptos = pd.DataFrame(list(SM_Dptos.items()), columns=[\"Departamento\",\"SalarioMedio\"])\n",
    "SM_dptos.to_csv(\"SMdptos.csv\")\n",
    "SM_dptos.sort_values(by=[\"SalarioMedio\"])"
   ]
  },
  {
   "cell_type": "code",
   "execution_count": 258,
   "id": "79f8f138",
   "metadata": {},
   "outputs": [],
   "source": [
    "Informalidad_Departamentos.sort_values(by=[\"%informalidad\"], ascending=False, inplace=True)\n",
    "Informalidad_Departamentos.to_csv(\"inforsort.csv\")"
   ]
  },
  {
   "cell_type": "markdown",
   "id": "a616f1bd",
   "metadata": {},
   "source": [
    "# PROCESAMIENTO BASES OCDE"
   ]
  },
  {
   "cell_type": "code",
   "execution_count": 259,
   "id": "08f4d1ac",
   "metadata": {},
   "outputs": [
    {
     "data": {
      "text/plain": [
       "Index(['LOCATION', 'Country', 'SUBJECT', 'Subject', 'FREQUENCY', 'Frequency',\n",
       "       'TIME', 'Time', 'Unit Code', 'Unit', 'PowerCode Code', 'PowerCode',\n",
       "       'Reference Period Code', 'Reference Period', 'Value', 'Flag Codes',\n",
       "       'Flags'],\n",
       "      dtype='object')"
      ]
     },
     "execution_count": 259,
     "metadata": {},
     "output_type": "execute_result"
    }
   ],
   "source": [
    "Informalidad_OCDE = pd.read_csv(\"Informalidad_2021.csv\")\n",
    "Informalidad_OCDE.columns"
   ]
  },
  {
   "cell_type": "code",
   "execution_count": 260,
   "id": "e40039b4",
   "metadata": {},
   "outputs": [],
   "source": [
    "Informalidad_OCDE= Informalidad_OCDE.drop(columns=['LOCATION', 'SUBJECT', 'Subject', 'FREQUENCY', 'Frequency',\n",
    "       'TIME', 'Time', 'Unit Code', 'Unit', 'PowerCode Code', 'PowerCode',\n",
    "       'Reference Period Code', 'Reference Period', 'Flag Codes',\n",
    "       'Flags'])"
   ]
  },
  {
   "cell_type": "code",
   "execution_count": 261,
   "id": "d13dcfdf",
   "metadata": {},
   "outputs": [
    {
     "data": {
      "text/html": [
       "<div>\n",
       "<style scoped>\n",
       "    .dataframe tbody tr th:only-of-type {\n",
       "        vertical-align: middle;\n",
       "    }\n",
       "\n",
       "    .dataframe tbody tr th {\n",
       "        vertical-align: top;\n",
       "    }\n",
       "\n",
       "    .dataframe thead th {\n",
       "        text-align: right;\n",
       "    }\n",
       "</style>\n",
       "<table border=\"1\" class=\"dataframe\">\n",
       "  <thead>\n",
       "    <tr style=\"text-align: right;\">\n",
       "      <th></th>\n",
       "      <th>Country</th>\n",
       "      <th>%informalidad</th>\n",
       "    </tr>\n",
       "  </thead>\n",
       "  <tbody>\n",
       "    <tr>\n",
       "      <th>0</th>\n",
       "      <td>Australia</td>\n",
       "      <td>9.562654</td>\n",
       "    </tr>\n",
       "    <tr>\n",
       "      <th>1</th>\n",
       "      <td>Austria</td>\n",
       "      <td>11.910980</td>\n",
       "    </tr>\n",
       "    <tr>\n",
       "      <th>2</th>\n",
       "      <td>Belgium</td>\n",
       "      <td>14.140240</td>\n",
       "    </tr>\n",
       "    <tr>\n",
       "      <th>3</th>\n",
       "      <td>Canada</td>\n",
       "      <td>7.633201</td>\n",
       "    </tr>\n",
       "    <tr>\n",
       "      <th>4</th>\n",
       "      <td>Czechia</td>\n",
       "      <td>15.936410</td>\n",
       "    </tr>\n",
       "    <tr>\n",
       "      <th>5</th>\n",
       "      <td>Denmark</td>\n",
       "      <td>8.839274</td>\n",
       "    </tr>\n",
       "    <tr>\n",
       "      <th>6</th>\n",
       "      <td>Finland</td>\n",
       "      <td>14.572440</td>\n",
       "    </tr>\n",
       "    <tr>\n",
       "      <th>7</th>\n",
       "      <td>France</td>\n",
       "      <td>12.606570</td>\n",
       "    </tr>\n",
       "    <tr>\n",
       "      <th>8</th>\n",
       "      <td>Germany</td>\n",
       "      <td>8.931904</td>\n",
       "    </tr>\n",
       "    <tr>\n",
       "      <th>9</th>\n",
       "      <td>Greece</td>\n",
       "      <td>31.824720</td>\n",
       "    </tr>\n",
       "    <tr>\n",
       "      <th>10</th>\n",
       "      <td>Hungary</td>\n",
       "      <td>12.507940</td>\n",
       "    </tr>\n",
       "    <tr>\n",
       "      <th>11</th>\n",
       "      <td>Ireland</td>\n",
       "      <td>14.063140</td>\n",
       "    </tr>\n",
       "    <tr>\n",
       "      <th>12</th>\n",
       "      <td>Italy</td>\n",
       "      <td>21.831650</td>\n",
       "    </tr>\n",
       "    <tr>\n",
       "      <th>13</th>\n",
       "      <td>Japan</td>\n",
       "      <td>9.832524</td>\n",
       "    </tr>\n",
       "    <tr>\n",
       "      <th>14</th>\n",
       "      <td>Korea</td>\n",
       "      <td>23.906210</td>\n",
       "    </tr>\n",
       "    <tr>\n",
       "      <th>15</th>\n",
       "      <td>Luxembourg</td>\n",
       "      <td>10.225700</td>\n",
       "    </tr>\n",
       "    <tr>\n",
       "      <th>16</th>\n",
       "      <td>Mexico</td>\n",
       "      <td>31.826360</td>\n",
       "    </tr>\n",
       "    <tr>\n",
       "      <th>17</th>\n",
       "      <td>Netherlands</td>\n",
       "      <td>15.772440</td>\n",
       "    </tr>\n",
       "    <tr>\n",
       "      <th>18</th>\n",
       "      <td>New Zealand</td>\n",
       "      <td>19.857520</td>\n",
       "    </tr>\n",
       "    <tr>\n",
       "      <th>19</th>\n",
       "      <td>Norway</td>\n",
       "      <td>4.713736</td>\n",
       "    </tr>\n",
       "    <tr>\n",
       "      <th>20</th>\n",
       "      <td>Poland</td>\n",
       "      <td>19.726530</td>\n",
       "    </tr>\n",
       "    <tr>\n",
       "      <th>21</th>\n",
       "      <td>Portugal</td>\n",
       "      <td>15.484280</td>\n",
       "    </tr>\n",
       "    <tr>\n",
       "      <th>22</th>\n",
       "      <td>Spain</td>\n",
       "      <td>15.843730</td>\n",
       "    </tr>\n",
       "    <tr>\n",
       "      <th>23</th>\n",
       "      <td>Sweden</td>\n",
       "      <td>10.595570</td>\n",
       "    </tr>\n",
       "    <tr>\n",
       "      <th>24</th>\n",
       "      <td>Switzerland</td>\n",
       "      <td>15.300250</td>\n",
       "    </tr>\n",
       "    <tr>\n",
       "      <th>25</th>\n",
       "      <td>United States</td>\n",
       "      <td>6.595855</td>\n",
       "    </tr>\n",
       "    <tr>\n",
       "      <th>26</th>\n",
       "      <td>Brazil</td>\n",
       "      <td>33.252250</td>\n",
       "    </tr>\n",
       "    <tr>\n",
       "      <th>27</th>\n",
       "      <td>Chile</td>\n",
       "      <td>24.820500</td>\n",
       "    </tr>\n",
       "    <tr>\n",
       "      <th>28</th>\n",
       "      <td>Israel</td>\n",
       "      <td>12.447800</td>\n",
       "    </tr>\n",
       "    <tr>\n",
       "      <th>29</th>\n",
       "      <td>Slovenia</td>\n",
       "      <td>14.005970</td>\n",
       "    </tr>\n",
       "    <tr>\n",
       "      <th>30</th>\n",
       "      <td>Colombia</td>\n",
       "      <td>53.067870</td>\n",
       "    </tr>\n",
       "    <tr>\n",
       "      <th>31</th>\n",
       "      <td>Euro area (19 countries)</td>\n",
       "      <td>14.252470</td>\n",
       "    </tr>\n",
       "    <tr>\n",
       "      <th>32</th>\n",
       "      <td>Latvia</td>\n",
       "      <td>12.981970</td>\n",
       "    </tr>\n",
       "    <tr>\n",
       "      <th>33</th>\n",
       "      <td>Lithuania</td>\n",
       "      <td>11.628460</td>\n",
       "    </tr>\n",
       "    <tr>\n",
       "      <th>34</th>\n",
       "      <td>Costa Rica</td>\n",
       "      <td>27.440160</td>\n",
       "    </tr>\n",
       "    <tr>\n",
       "      <th>35</th>\n",
       "      <td>European Union – 27 countries (from 01/02/2020)</td>\n",
       "      <td>14.515310</td>\n",
       "    </tr>\n",
       "  </tbody>\n",
       "</table>\n",
       "</div>"
      ],
      "text/plain": [
       "                                            Country  %informalidad\n",
       "0                                         Australia       9.562654\n",
       "1                                           Austria      11.910980\n",
       "2                                           Belgium      14.140240\n",
       "3                                            Canada       7.633201\n",
       "4                                           Czechia      15.936410\n",
       "5                                           Denmark       8.839274\n",
       "6                                           Finland      14.572440\n",
       "7                                            France      12.606570\n",
       "8                                           Germany       8.931904\n",
       "9                                            Greece      31.824720\n",
       "10                                          Hungary      12.507940\n",
       "11                                          Ireland      14.063140\n",
       "12                                            Italy      21.831650\n",
       "13                                            Japan       9.832524\n",
       "14                                            Korea      23.906210\n",
       "15                                       Luxembourg      10.225700\n",
       "16                                           Mexico      31.826360\n",
       "17                                      Netherlands      15.772440\n",
       "18                                      New Zealand      19.857520\n",
       "19                                           Norway       4.713736\n",
       "20                                           Poland      19.726530\n",
       "21                                         Portugal      15.484280\n",
       "22                                            Spain      15.843730\n",
       "23                                           Sweden      10.595570\n",
       "24                                      Switzerland      15.300250\n",
       "25                                    United States       6.595855\n",
       "26                                           Brazil      33.252250\n",
       "27                                            Chile      24.820500\n",
       "28                                           Israel      12.447800\n",
       "29                                         Slovenia      14.005970\n",
       "30                                         Colombia      53.067870\n",
       "31                         Euro area (19 countries)      14.252470\n",
       "32                                           Latvia      12.981970\n",
       "33                                        Lithuania      11.628460\n",
       "34                                       Costa Rica      27.440160\n",
       "35  European Union – 27 countries (from 01/02/2020)      14.515310"
      ]
     },
     "execution_count": 261,
     "metadata": {},
     "output_type": "execute_result"
    }
   ],
   "source": [
    "Informalidad_OCDE= Informalidad_OCDE.rename(columns={\"Value\":\"%informalidad\"})\n",
    "Informalidad_OCDE"
   ]
  },
  {
   "cell_type": "code",
   "execution_count": 262,
   "id": "5bf8fcb6",
   "metadata": {},
   "outputs": [
    {
     "data": {
      "text/html": [
       "<div>\n",
       "<style scoped>\n",
       "    .dataframe tbody tr th:only-of-type {\n",
       "        vertical-align: middle;\n",
       "    }\n",
       "\n",
       "    .dataframe tbody tr th {\n",
       "        vertical-align: top;\n",
       "    }\n",
       "\n",
       "    .dataframe thead th {\n",
       "        text-align: right;\n",
       "    }\n",
       "</style>\n",
       "<table border=\"1\" class=\"dataframe\">\n",
       "  <thead>\n",
       "    <tr style=\"text-align: right;\">\n",
       "      <th></th>\n",
       "      <th>Country</th>\n",
       "      <th>%informalidad</th>\n",
       "    </tr>\n",
       "  </thead>\n",
       "  <tbody>\n",
       "    <tr>\n",
       "      <th>0</th>\n",
       "      <td>Australia</td>\n",
       "      <td>9.562654</td>\n",
       "    </tr>\n",
       "    <tr>\n",
       "      <th>1</th>\n",
       "      <td>Austria</td>\n",
       "      <td>11.910980</td>\n",
       "    </tr>\n",
       "    <tr>\n",
       "      <th>2</th>\n",
       "      <td>Belgium</td>\n",
       "      <td>14.140240</td>\n",
       "    </tr>\n",
       "    <tr>\n",
       "      <th>3</th>\n",
       "      <td>Canada</td>\n",
       "      <td>7.633201</td>\n",
       "    </tr>\n",
       "    <tr>\n",
       "      <th>4</th>\n",
       "      <td>Czechia</td>\n",
       "      <td>15.936410</td>\n",
       "    </tr>\n",
       "    <tr>\n",
       "      <th>5</th>\n",
       "      <td>Denmark</td>\n",
       "      <td>8.839274</td>\n",
       "    </tr>\n",
       "    <tr>\n",
       "      <th>6</th>\n",
       "      <td>Finland</td>\n",
       "      <td>14.572440</td>\n",
       "    </tr>\n",
       "    <tr>\n",
       "      <th>7</th>\n",
       "      <td>France</td>\n",
       "      <td>12.606570</td>\n",
       "    </tr>\n",
       "    <tr>\n",
       "      <th>8</th>\n",
       "      <td>Germany</td>\n",
       "      <td>8.931904</td>\n",
       "    </tr>\n",
       "    <tr>\n",
       "      <th>9</th>\n",
       "      <td>Greece</td>\n",
       "      <td>31.824720</td>\n",
       "    </tr>\n",
       "    <tr>\n",
       "      <th>10</th>\n",
       "      <td>Hungary</td>\n",
       "      <td>12.507940</td>\n",
       "    </tr>\n",
       "    <tr>\n",
       "      <th>11</th>\n",
       "      <td>Ireland</td>\n",
       "      <td>14.063140</td>\n",
       "    </tr>\n",
       "    <tr>\n",
       "      <th>12</th>\n",
       "      <td>Italy</td>\n",
       "      <td>21.831650</td>\n",
       "    </tr>\n",
       "    <tr>\n",
       "      <th>13</th>\n",
       "      <td>Japan</td>\n",
       "      <td>9.832524</td>\n",
       "    </tr>\n",
       "    <tr>\n",
       "      <th>14</th>\n",
       "      <td>Korea</td>\n",
       "      <td>23.906210</td>\n",
       "    </tr>\n",
       "    <tr>\n",
       "      <th>15</th>\n",
       "      <td>Luxembourg</td>\n",
       "      <td>10.225700</td>\n",
       "    </tr>\n",
       "    <tr>\n",
       "      <th>16</th>\n",
       "      <td>Mexico</td>\n",
       "      <td>31.826360</td>\n",
       "    </tr>\n",
       "    <tr>\n",
       "      <th>17</th>\n",
       "      <td>Netherlands</td>\n",
       "      <td>15.772440</td>\n",
       "    </tr>\n",
       "    <tr>\n",
       "      <th>18</th>\n",
       "      <td>New Zealand</td>\n",
       "      <td>19.857520</td>\n",
       "    </tr>\n",
       "    <tr>\n",
       "      <th>19</th>\n",
       "      <td>Norway</td>\n",
       "      <td>4.713736</td>\n",
       "    </tr>\n",
       "    <tr>\n",
       "      <th>20</th>\n",
       "      <td>Poland</td>\n",
       "      <td>19.726530</td>\n",
       "    </tr>\n",
       "    <tr>\n",
       "      <th>21</th>\n",
       "      <td>Portugal</td>\n",
       "      <td>15.484280</td>\n",
       "    </tr>\n",
       "    <tr>\n",
       "      <th>22</th>\n",
       "      <td>Spain</td>\n",
       "      <td>15.843730</td>\n",
       "    </tr>\n",
       "    <tr>\n",
       "      <th>23</th>\n",
       "      <td>Sweden</td>\n",
       "      <td>10.595570</td>\n",
       "    </tr>\n",
       "    <tr>\n",
       "      <th>24</th>\n",
       "      <td>Switzerland</td>\n",
       "      <td>15.300250</td>\n",
       "    </tr>\n",
       "    <tr>\n",
       "      <th>25</th>\n",
       "      <td>United States</td>\n",
       "      <td>6.595855</td>\n",
       "    </tr>\n",
       "    <tr>\n",
       "      <th>27</th>\n",
       "      <td>Chile</td>\n",
       "      <td>24.820500</td>\n",
       "    </tr>\n",
       "    <tr>\n",
       "      <th>28</th>\n",
       "      <td>Israel</td>\n",
       "      <td>12.447800</td>\n",
       "    </tr>\n",
       "    <tr>\n",
       "      <th>29</th>\n",
       "      <td>Slovenia</td>\n",
       "      <td>14.005970</td>\n",
       "    </tr>\n",
       "    <tr>\n",
       "      <th>30</th>\n",
       "      <td>Colombia</td>\n",
       "      <td>53.067870</td>\n",
       "    </tr>\n",
       "    <tr>\n",
       "      <th>32</th>\n",
       "      <td>Latvia</td>\n",
       "      <td>12.981970</td>\n",
       "    </tr>\n",
       "    <tr>\n",
       "      <th>33</th>\n",
       "      <td>Lithuania</td>\n",
       "      <td>11.628460</td>\n",
       "    </tr>\n",
       "    <tr>\n",
       "      <th>34</th>\n",
       "      <td>Costa Rica</td>\n",
       "      <td>27.440160</td>\n",
       "    </tr>\n",
       "  </tbody>\n",
       "</table>\n",
       "</div>"
      ],
      "text/plain": [
       "          Country  %informalidad\n",
       "0       Australia       9.562654\n",
       "1         Austria      11.910980\n",
       "2         Belgium      14.140240\n",
       "3          Canada       7.633201\n",
       "4         Czechia      15.936410\n",
       "5         Denmark       8.839274\n",
       "6         Finland      14.572440\n",
       "7          France      12.606570\n",
       "8         Germany       8.931904\n",
       "9          Greece      31.824720\n",
       "10        Hungary      12.507940\n",
       "11        Ireland      14.063140\n",
       "12          Italy      21.831650\n",
       "13          Japan       9.832524\n",
       "14          Korea      23.906210\n",
       "15     Luxembourg      10.225700\n",
       "16         Mexico      31.826360\n",
       "17    Netherlands      15.772440\n",
       "18    New Zealand      19.857520\n",
       "19         Norway       4.713736\n",
       "20         Poland      19.726530\n",
       "21       Portugal      15.484280\n",
       "22          Spain      15.843730\n",
       "23         Sweden      10.595570\n",
       "24    Switzerland      15.300250\n",
       "25  United States       6.595855\n",
       "27          Chile      24.820500\n",
       "28         Israel      12.447800\n",
       "29       Slovenia      14.005970\n",
       "30       Colombia      53.067870\n",
       "32         Latvia      12.981970\n",
       "33      Lithuania      11.628460\n",
       "34     Costa Rica      27.440160"
      ]
     },
     "execution_count": 262,
     "metadata": {},
     "output_type": "execute_result"
    }
   ],
   "source": [
    "Informalidad_OCDE.drop([26,31,35], axis=0, inplace=True)\n",
    "Informalidad_OCDE"
   ]
  },
  {
   "cell_type": "code",
   "execution_count": 263,
   "id": "ebdccd16",
   "metadata": {},
   "outputs": [],
   "source": [
    "Impoempresas_OCDE = pd.read_csv(\"Corporate_tax.csv\", sep= \",\")\n",
    "SalarioMedio_OCDE = pd.read_csv(\"Wage_median.csv\", sep= \",\")\n",
    "SalarioMinimo_OCDE = pd.read_csv(\"RMW.csv\",sep= \",\")\n",
    "PPA = pd.read_csv(\"PPA_OCDE.csv\", sep= \",\")"
   ]
  },
  {
   "cell_type": "code",
   "execution_count": 264,
   "id": "f838bec6",
   "metadata": {},
   "outputs": [
    {
     "data": {
      "text/html": [
       "<div>\n",
       "<style scoped>\n",
       "    .dataframe tbody tr th:only-of-type {\n",
       "        vertical-align: middle;\n",
       "    }\n",
       "\n",
       "    .dataframe tbody tr th {\n",
       "        vertical-align: top;\n",
       "    }\n",
       "\n",
       "    .dataframe thead th {\n",
       "        text-align: right;\n",
       "    }\n",
       "</style>\n",
       "<table border=\"1\" class=\"dataframe\">\n",
       "  <thead>\n",
       "    <tr style=\"text-align: right;\">\n",
       "      <th></th>\n",
       "      <th>COUNTRY</th>\n",
       "      <th>Country</th>\n",
       "      <th>SERIES</th>\n",
       "      <th>Series</th>\n",
       "      <th>TIME</th>\n",
       "      <th>Time</th>\n",
       "      <th>Unit Code</th>\n",
       "      <th>Unit</th>\n",
       "      <th>PowerCode Code</th>\n",
       "      <th>PowerCode</th>\n",
       "      <th>Reference Period Code</th>\n",
       "      <th>Reference Period</th>\n",
       "      <th>Value</th>\n",
       "      <th>Flag Codes</th>\n",
       "      <th>Flags</th>\n",
       "    </tr>\n",
       "  </thead>\n",
       "  <tbody>\n",
       "    <tr>\n",
       "      <th>0</th>\n",
       "      <td>AUS</td>\n",
       "      <td>Australia</td>\n",
       "      <td>MEDIAN</td>\n",
       "      <td>Median</td>\n",
       "      <td>2021</td>\n",
       "      <td>2021</td>\n",
       "      <td>PC</td>\n",
       "      <td>Percentage</td>\n",
       "      <td>0</td>\n",
       "      <td>Units</td>\n",
       "      <td>NaN</td>\n",
       "      <td>NaN</td>\n",
       "      <td>51.541027</td>\n",
       "      <td>NaN</td>\n",
       "      <td>NaN</td>\n",
       "    </tr>\n",
       "    <tr>\n",
       "      <th>1</th>\n",
       "      <td>BEL</td>\n",
       "      <td>Belgium</td>\n",
       "      <td>MEDIAN</td>\n",
       "      <td>Median</td>\n",
       "      <td>2021</td>\n",
       "      <td>2021</td>\n",
       "      <td>PC</td>\n",
       "      <td>Percentage</td>\n",
       "      <td>0</td>\n",
       "      <td>Units</td>\n",
       "      <td>NaN</td>\n",
       "      <td>NaN</td>\n",
       "      <td>40.146054</td>\n",
       "      <td>NaN</td>\n",
       "      <td>NaN</td>\n",
       "    </tr>\n",
       "    <tr>\n",
       "      <th>2</th>\n",
       "      <td>CAN</td>\n",
       "      <td>Canada</td>\n",
       "      <td>MEDIAN</td>\n",
       "      <td>Median</td>\n",
       "      <td>2021</td>\n",
       "      <td>2021</td>\n",
       "      <td>PC</td>\n",
       "      <td>Percentage</td>\n",
       "      <td>0</td>\n",
       "      <td>Units</td>\n",
       "      <td>NaN</td>\n",
       "      <td>NaN</td>\n",
       "      <td>48.932447</td>\n",
       "      <td>NaN</td>\n",
       "      <td>NaN</td>\n",
       "    </tr>\n",
       "    <tr>\n",
       "      <th>3</th>\n",
       "      <td>CZE</td>\n",
       "      <td>Czechia</td>\n",
       "      <td>MEDIAN</td>\n",
       "      <td>Median</td>\n",
       "      <td>2021</td>\n",
       "      <td>2021</td>\n",
       "      <td>PC</td>\n",
       "      <td>Percentage</td>\n",
       "      <td>0</td>\n",
       "      <td>Units</td>\n",
       "      <td>NaN</td>\n",
       "      <td>NaN</td>\n",
       "      <td>43.219881</td>\n",
       "      <td>NaN</td>\n",
       "      <td>NaN</td>\n",
       "    </tr>\n",
       "    <tr>\n",
       "      <th>4</th>\n",
       "      <td>FRA</td>\n",
       "      <td>France</td>\n",
       "      <td>MEDIAN</td>\n",
       "      <td>Median</td>\n",
       "      <td>2021</td>\n",
       "      <td>2021</td>\n",
       "      <td>PC</td>\n",
       "      <td>Percentage</td>\n",
       "      <td>0</td>\n",
       "      <td>Units</td>\n",
       "      <td>NaN</td>\n",
       "      <td>NaN</td>\n",
       "      <td>60.971243</td>\n",
       "      <td>NaN</td>\n",
       "      <td>NaN</td>\n",
       "    </tr>\n",
       "    <tr>\n",
       "      <th>5</th>\n",
       "      <td>GRC</td>\n",
       "      <td>Greece</td>\n",
       "      <td>MEDIAN</td>\n",
       "      <td>Median</td>\n",
       "      <td>2021</td>\n",
       "      <td>2021</td>\n",
       "      <td>PC</td>\n",
       "      <td>Percentage</td>\n",
       "      <td>0</td>\n",
       "      <td>Units</td>\n",
       "      <td>NaN</td>\n",
       "      <td>NaN</td>\n",
       "      <td>49.754383</td>\n",
       "      <td>NaN</td>\n",
       "      <td>NaN</td>\n",
       "    </tr>\n",
       "    <tr>\n",
       "      <th>6</th>\n",
       "      <td>HUN</td>\n",
       "      <td>Hungary</td>\n",
       "      <td>MEDIAN</td>\n",
       "      <td>Median</td>\n",
       "      <td>2021</td>\n",
       "      <td>2021</td>\n",
       "      <td>PC</td>\n",
       "      <td>Percentage</td>\n",
       "      <td>0</td>\n",
       "      <td>Units</td>\n",
       "      <td>NaN</td>\n",
       "      <td>NaN</td>\n",
       "      <td>45.534312</td>\n",
       "      <td>NaN</td>\n",
       "      <td>NaN</td>\n",
       "    </tr>\n",
       "    <tr>\n",
       "      <th>7</th>\n",
       "      <td>IRL</td>\n",
       "      <td>Ireland</td>\n",
       "      <td>MEDIAN</td>\n",
       "      <td>Median</td>\n",
       "      <td>2021</td>\n",
       "      <td>2021</td>\n",
       "      <td>PC</td>\n",
       "      <td>Percentage</td>\n",
       "      <td>0</td>\n",
       "      <td>Units</td>\n",
       "      <td>NaN</td>\n",
       "      <td>NaN</td>\n",
       "      <td>46.156871</td>\n",
       "      <td>NaN</td>\n",
       "      <td>NaN</td>\n",
       "    </tr>\n",
       "    <tr>\n",
       "      <th>8</th>\n",
       "      <td>JPN</td>\n",
       "      <td>Japan</td>\n",
       "      <td>MEDIAN</td>\n",
       "      <td>Median</td>\n",
       "      <td>2021</td>\n",
       "      <td>2021</td>\n",
       "      <td>PC</td>\n",
       "      <td>Percentage</td>\n",
       "      <td>0</td>\n",
       "      <td>Units</td>\n",
       "      <td>NaN</td>\n",
       "      <td>NaN</td>\n",
       "      <td>44.901678</td>\n",
       "      <td>NaN</td>\n",
       "      <td>NaN</td>\n",
       "    </tr>\n",
       "    <tr>\n",
       "      <th>9</th>\n",
       "      <td>KOR</td>\n",
       "      <td>Korea</td>\n",
       "      <td>MEDIAN</td>\n",
       "      <td>Median</td>\n",
       "      <td>2021</td>\n",
       "      <td>2021</td>\n",
       "      <td>PC</td>\n",
       "      <td>Percentage</td>\n",
       "      <td>0</td>\n",
       "      <td>Units</td>\n",
       "      <td>NaN</td>\n",
       "      <td>NaN</td>\n",
       "      <td>61.362963</td>\n",
       "      <td>NaN</td>\n",
       "      <td>NaN</td>\n",
       "    </tr>\n",
       "    <tr>\n",
       "      <th>10</th>\n",
       "      <td>LUX</td>\n",
       "      <td>Luxembourg</td>\n",
       "      <td>MEDIAN</td>\n",
       "      <td>Median</td>\n",
       "      <td>2021</td>\n",
       "      <td>2021</td>\n",
       "      <td>PC</td>\n",
       "      <td>Percentage</td>\n",
       "      <td>0</td>\n",
       "      <td>Units</td>\n",
       "      <td>NaN</td>\n",
       "      <td>NaN</td>\n",
       "      <td>54.851599</td>\n",
       "      <td>NaN</td>\n",
       "      <td>NaN</td>\n",
       "    </tr>\n",
       "    <tr>\n",
       "      <th>11</th>\n",
       "      <td>MEX</td>\n",
       "      <td>Mexico</td>\n",
       "      <td>MEDIAN</td>\n",
       "      <td>Median</td>\n",
       "      <td>2021</td>\n",
       "      <td>2021</td>\n",
       "      <td>PC</td>\n",
       "      <td>Percentage</td>\n",
       "      <td>0</td>\n",
       "      <td>Units</td>\n",
       "      <td>NaN</td>\n",
       "      <td>NaN</td>\n",
       "      <td>56.680000</td>\n",
       "      <td>NaN</td>\n",
       "      <td>NaN</td>\n",
       "    </tr>\n",
       "    <tr>\n",
       "      <th>12</th>\n",
       "      <td>NLD</td>\n",
       "      <td>Netherlands</td>\n",
       "      <td>MEDIAN</td>\n",
       "      <td>Median</td>\n",
       "      <td>2021</td>\n",
       "      <td>2021</td>\n",
       "      <td>PC</td>\n",
       "      <td>Percentage</td>\n",
       "      <td>0</td>\n",
       "      <td>Units</td>\n",
       "      <td>NaN</td>\n",
       "      <td>NaN</td>\n",
       "      <td>46.346905</td>\n",
       "      <td>NaN</td>\n",
       "      <td>NaN</td>\n",
       "    </tr>\n",
       "    <tr>\n",
       "      <th>13</th>\n",
       "      <td>NZL</td>\n",
       "      <td>New Zealand</td>\n",
       "      <td>MEDIAN</td>\n",
       "      <td>Median</td>\n",
       "      <td>2021</td>\n",
       "      <td>2021</td>\n",
       "      <td>PC</td>\n",
       "      <td>Percentage</td>\n",
       "      <td>0</td>\n",
       "      <td>Units</td>\n",
       "      <td>NaN</td>\n",
       "      <td>NaN</td>\n",
       "      <td>67.614805</td>\n",
       "      <td>NaN</td>\n",
       "      <td>NaN</td>\n",
       "    </tr>\n",
       "    <tr>\n",
       "      <th>14</th>\n",
       "      <td>POL</td>\n",
       "      <td>Poland</td>\n",
       "      <td>MEDIAN</td>\n",
       "      <td>Median</td>\n",
       "      <td>2021</td>\n",
       "      <td>2021</td>\n",
       "      <td>PC</td>\n",
       "      <td>Percentage</td>\n",
       "      <td>0</td>\n",
       "      <td>Units</td>\n",
       "      <td>NaN</td>\n",
       "      <td>NaN</td>\n",
       "      <td>55.087884</td>\n",
       "      <td>NaN</td>\n",
       "      <td>NaN</td>\n",
       "    </tr>\n",
       "    <tr>\n",
       "      <th>15</th>\n",
       "      <td>PRT</td>\n",
       "      <td>Portugal</td>\n",
       "      <td>MEDIAN</td>\n",
       "      <td>Median</td>\n",
       "      <td>2021</td>\n",
       "      <td>2021</td>\n",
       "      <td>PC</td>\n",
       "      <td>Percentage</td>\n",
       "      <td>0</td>\n",
       "      <td>Units</td>\n",
       "      <td>NaN</td>\n",
       "      <td>NaN</td>\n",
       "      <td>66.291706</td>\n",
       "      <td>NaN</td>\n",
       "      <td>NaN</td>\n",
       "    </tr>\n",
       "    <tr>\n",
       "      <th>16</th>\n",
       "      <td>SVK</td>\n",
       "      <td>Slovak Republic</td>\n",
       "      <td>MEDIAN</td>\n",
       "      <td>Median</td>\n",
       "      <td>2021</td>\n",
       "      <td>2021</td>\n",
       "      <td>PC</td>\n",
       "      <td>Percentage</td>\n",
       "      <td>0</td>\n",
       "      <td>Units</td>\n",
       "      <td>NaN</td>\n",
       "      <td>NaN</td>\n",
       "      <td>52.409579</td>\n",
       "      <td>NaN</td>\n",
       "      <td>NaN</td>\n",
       "    </tr>\n",
       "    <tr>\n",
       "      <th>17</th>\n",
       "      <td>ESP</td>\n",
       "      <td>Spain</td>\n",
       "      <td>MEDIAN</td>\n",
       "      <td>Median</td>\n",
       "      <td>2021</td>\n",
       "      <td>2021</td>\n",
       "      <td>PC</td>\n",
       "      <td>Percentage</td>\n",
       "      <td>0</td>\n",
       "      <td>Units</td>\n",
       "      <td>NaN</td>\n",
       "      <td>NaN</td>\n",
       "      <td>48.458213</td>\n",
       "      <td>NaN</td>\n",
       "      <td>NaN</td>\n",
       "    </tr>\n",
       "    <tr>\n",
       "      <th>18</th>\n",
       "      <td>TUR</td>\n",
       "      <td>Türkiye</td>\n",
       "      <td>MEDIAN</td>\n",
       "      <td>Median</td>\n",
       "      <td>2021</td>\n",
       "      <td>2021</td>\n",
       "      <td>PC</td>\n",
       "      <td>Percentage</td>\n",
       "      <td>0</td>\n",
       "      <td>Units</td>\n",
       "      <td>NaN</td>\n",
       "      <td>NaN</td>\n",
       "      <td>70.418417</td>\n",
       "      <td>NaN</td>\n",
       "      <td>NaN</td>\n",
       "    </tr>\n",
       "    <tr>\n",
       "      <th>19</th>\n",
       "      <td>GBR</td>\n",
       "      <td>United Kingdom</td>\n",
       "      <td>MEDIAN</td>\n",
       "      <td>Median</td>\n",
       "      <td>2021</td>\n",
       "      <td>2021</td>\n",
       "      <td>PC</td>\n",
       "      <td>Percentage</td>\n",
       "      <td>0</td>\n",
       "      <td>Units</td>\n",
       "      <td>NaN</td>\n",
       "      <td>NaN</td>\n",
       "      <td>56.969309</td>\n",
       "      <td>NaN</td>\n",
       "      <td>NaN</td>\n",
       "    </tr>\n",
       "    <tr>\n",
       "      <th>20</th>\n",
       "      <td>USA</td>\n",
       "      <td>United States</td>\n",
       "      <td>MEDIAN</td>\n",
       "      <td>Median</td>\n",
       "      <td>2021</td>\n",
       "      <td>2021</td>\n",
       "      <td>PC</td>\n",
       "      <td>Percentage</td>\n",
       "      <td>0</td>\n",
       "      <td>Units</td>\n",
       "      <td>NaN</td>\n",
       "      <td>NaN</td>\n",
       "      <td>29.058116</td>\n",
       "      <td>NaN</td>\n",
       "      <td>NaN</td>\n",
       "    </tr>\n",
       "    <tr>\n",
       "      <th>21</th>\n",
       "      <td>SVN</td>\n",
       "      <td>Slovenia</td>\n",
       "      <td>MEDIAN</td>\n",
       "      <td>Median</td>\n",
       "      <td>2021</td>\n",
       "      <td>2021</td>\n",
       "      <td>PC</td>\n",
       "      <td>Percentage</td>\n",
       "      <td>0</td>\n",
       "      <td>Units</td>\n",
       "      <td>NaN</td>\n",
       "      <td>NaN</td>\n",
       "      <td>60.414627</td>\n",
       "      <td>NaN</td>\n",
       "      <td>NaN</td>\n",
       "    </tr>\n",
       "    <tr>\n",
       "      <th>22</th>\n",
       "      <td>EST</td>\n",
       "      <td>Estonia</td>\n",
       "      <td>MEDIAN</td>\n",
       "      <td>Median</td>\n",
       "      <td>2021</td>\n",
       "      <td>2021</td>\n",
       "      <td>PC</td>\n",
       "      <td>Percentage</td>\n",
       "      <td>0</td>\n",
       "      <td>Units</td>\n",
       "      <td>NaN</td>\n",
       "      <td>NaN</td>\n",
       "      <td>42.600819</td>\n",
       "      <td>NaN</td>\n",
       "      <td>NaN</td>\n",
       "    </tr>\n",
       "    <tr>\n",
       "      <th>23</th>\n",
       "      <td>LTU</td>\n",
       "      <td>Lithuania</td>\n",
       "      <td>MEDIAN</td>\n",
       "      <td>Median</td>\n",
       "      <td>2021</td>\n",
       "      <td>2021</td>\n",
       "      <td>PC</td>\n",
       "      <td>Percentage</td>\n",
       "      <td>0</td>\n",
       "      <td>Units</td>\n",
       "      <td>NaN</td>\n",
       "      <td>NaN</td>\n",
       "      <td>46.691015</td>\n",
       "      <td>NaN</td>\n",
       "      <td>NaN</td>\n",
       "    </tr>\n",
       "    <tr>\n",
       "      <th>24</th>\n",
       "      <td>ROU</td>\n",
       "      <td>Romania</td>\n",
       "      <td>MEDIAN</td>\n",
       "      <td>Median</td>\n",
       "      <td>2021</td>\n",
       "      <td>2021</td>\n",
       "      <td>PC</td>\n",
       "      <td>Percentage</td>\n",
       "      <td>0</td>\n",
       "      <td>Units</td>\n",
       "      <td>NaN</td>\n",
       "      <td>NaN</td>\n",
       "      <td>54.897222</td>\n",
       "      <td>NaN</td>\n",
       "      <td>NaN</td>\n",
       "    </tr>\n",
       "    <tr>\n",
       "      <th>25</th>\n",
       "      <td>LVA</td>\n",
       "      <td>Latvia</td>\n",
       "      <td>MEDIAN</td>\n",
       "      <td>Median</td>\n",
       "      <td>2021</td>\n",
       "      <td>2021</td>\n",
       "      <td>PC</td>\n",
       "      <td>Percentage</td>\n",
       "      <td>0</td>\n",
       "      <td>Units</td>\n",
       "      <td>NaN</td>\n",
       "      <td>NaN</td>\n",
       "      <td>42.319132</td>\n",
       "      <td>NaN</td>\n",
       "      <td>NaN</td>\n",
       "    </tr>\n",
       "    <tr>\n",
       "      <th>26</th>\n",
       "      <td>ISR</td>\n",
       "      <td>Israel</td>\n",
       "      <td>MEDIAN</td>\n",
       "      <td>Median</td>\n",
       "      <td>2021</td>\n",
       "      <td>2021</td>\n",
       "      <td>PC</td>\n",
       "      <td>Percentage</td>\n",
       "      <td>0</td>\n",
       "      <td>Units</td>\n",
       "      <td>NaN</td>\n",
       "      <td>NaN</td>\n",
       "      <td>53.037444</td>\n",
       "      <td>NaN</td>\n",
       "      <td>NaN</td>\n",
       "    </tr>\n",
       "    <tr>\n",
       "      <th>27</th>\n",
       "      <td>CHL</td>\n",
       "      <td>Chile</td>\n",
       "      <td>MEDIAN</td>\n",
       "      <td>Median</td>\n",
       "      <td>2021</td>\n",
       "      <td>2021</td>\n",
       "      <td>PC</td>\n",
       "      <td>Percentage</td>\n",
       "      <td>0</td>\n",
       "      <td>Units</td>\n",
       "      <td>NaN</td>\n",
       "      <td>NaN</td>\n",
       "      <td>71.957453</td>\n",
       "      <td>NaN</td>\n",
       "      <td>NaN</td>\n",
       "    </tr>\n",
       "    <tr>\n",
       "      <th>28</th>\n",
       "      <td>DEU</td>\n",
       "      <td>Germany</td>\n",
       "      <td>MEDIAN</td>\n",
       "      <td>Median</td>\n",
       "      <td>2021</td>\n",
       "      <td>2021</td>\n",
       "      <td>PC</td>\n",
       "      <td>Percentage</td>\n",
       "      <td>0</td>\n",
       "      <td>Units</td>\n",
       "      <td>NaN</td>\n",
       "      <td>NaN</td>\n",
       "      <td>49.469509</td>\n",
       "      <td>NaN</td>\n",
       "      <td>NaN</td>\n",
       "    </tr>\n",
       "    <tr>\n",
       "      <th>29</th>\n",
       "      <td>COL</td>\n",
       "      <td>Colombia</td>\n",
       "      <td>MEDIAN</td>\n",
       "      <td>Median</td>\n",
       "      <td>2021</td>\n",
       "      <td>2021</td>\n",
       "      <td>PC</td>\n",
       "      <td>Percentage</td>\n",
       "      <td>0</td>\n",
       "      <td>Units</td>\n",
       "      <td>NaN</td>\n",
       "      <td>NaN</td>\n",
       "      <td>90.852600</td>\n",
       "      <td>NaN</td>\n",
       "      <td>NaN</td>\n",
       "    </tr>\n",
       "    <tr>\n",
       "      <th>30</th>\n",
       "      <td>CRI</td>\n",
       "      <td>Costa Rica</td>\n",
       "      <td>MEDIAN</td>\n",
       "      <td>Median</td>\n",
       "      <td>2021</td>\n",
       "      <td>2021</td>\n",
       "      <td>PC</td>\n",
       "      <td>Percentage</td>\n",
       "      <td>0</td>\n",
       "      <td>Units</td>\n",
       "      <td>NaN</td>\n",
       "      <td>NaN</td>\n",
       "      <td>88.309883</td>\n",
       "      <td>NaN</td>\n",
       "      <td>NaN</td>\n",
       "    </tr>\n",
       "    <tr>\n",
       "      <th>31</th>\n",
       "      <td>HRV</td>\n",
       "      <td>Croatia</td>\n",
       "      <td>MEDIAN</td>\n",
       "      <td>Median</td>\n",
       "      <td>2021</td>\n",
       "      <td>2021</td>\n",
       "      <td>PC</td>\n",
       "      <td>Percentage</td>\n",
       "      <td>0</td>\n",
       "      <td>Units</td>\n",
       "      <td>NaN</td>\n",
       "      <td>NaN</td>\n",
       "      <td>46.069550</td>\n",
       "      <td>NaN</td>\n",
       "      <td>NaN</td>\n",
       "    </tr>\n",
       "  </tbody>\n",
       "</table>\n",
       "</div>"
      ],
      "text/plain": [
       "   COUNTRY          Country  SERIES  Series  TIME  Time Unit Code        Unit  \\\n",
       "0      AUS        Australia  MEDIAN  Median  2021  2021        PC  Percentage   \n",
       "1      BEL          Belgium  MEDIAN  Median  2021  2021        PC  Percentage   \n",
       "2      CAN           Canada  MEDIAN  Median  2021  2021        PC  Percentage   \n",
       "3      CZE          Czechia  MEDIAN  Median  2021  2021        PC  Percentage   \n",
       "4      FRA           France  MEDIAN  Median  2021  2021        PC  Percentage   \n",
       "5      GRC           Greece  MEDIAN  Median  2021  2021        PC  Percentage   \n",
       "6      HUN          Hungary  MEDIAN  Median  2021  2021        PC  Percentage   \n",
       "7      IRL          Ireland  MEDIAN  Median  2021  2021        PC  Percentage   \n",
       "8      JPN            Japan  MEDIAN  Median  2021  2021        PC  Percentage   \n",
       "9      KOR            Korea  MEDIAN  Median  2021  2021        PC  Percentage   \n",
       "10     LUX       Luxembourg  MEDIAN  Median  2021  2021        PC  Percentage   \n",
       "11     MEX           Mexico  MEDIAN  Median  2021  2021        PC  Percentage   \n",
       "12     NLD      Netherlands  MEDIAN  Median  2021  2021        PC  Percentage   \n",
       "13     NZL      New Zealand  MEDIAN  Median  2021  2021        PC  Percentage   \n",
       "14     POL           Poland  MEDIAN  Median  2021  2021        PC  Percentage   \n",
       "15     PRT         Portugal  MEDIAN  Median  2021  2021        PC  Percentage   \n",
       "16     SVK  Slovak Republic  MEDIAN  Median  2021  2021        PC  Percentage   \n",
       "17     ESP            Spain  MEDIAN  Median  2021  2021        PC  Percentage   \n",
       "18     TUR          Türkiye  MEDIAN  Median  2021  2021        PC  Percentage   \n",
       "19     GBR   United Kingdom  MEDIAN  Median  2021  2021        PC  Percentage   \n",
       "20     USA    United States  MEDIAN  Median  2021  2021        PC  Percentage   \n",
       "21     SVN         Slovenia  MEDIAN  Median  2021  2021        PC  Percentage   \n",
       "22     EST          Estonia  MEDIAN  Median  2021  2021        PC  Percentage   \n",
       "23     LTU        Lithuania  MEDIAN  Median  2021  2021        PC  Percentage   \n",
       "24     ROU          Romania  MEDIAN  Median  2021  2021        PC  Percentage   \n",
       "25     LVA           Latvia  MEDIAN  Median  2021  2021        PC  Percentage   \n",
       "26     ISR           Israel  MEDIAN  Median  2021  2021        PC  Percentage   \n",
       "27     CHL            Chile  MEDIAN  Median  2021  2021        PC  Percentage   \n",
       "28     DEU          Germany  MEDIAN  Median  2021  2021        PC  Percentage   \n",
       "29     COL         Colombia  MEDIAN  Median  2021  2021        PC  Percentage   \n",
       "30     CRI       Costa Rica  MEDIAN  Median  2021  2021        PC  Percentage   \n",
       "31     HRV          Croatia  MEDIAN  Median  2021  2021        PC  Percentage   \n",
       "\n",
       "    PowerCode Code PowerCode  Reference Period Code  Reference Period  \\\n",
       "0                0     Units                    NaN               NaN   \n",
       "1                0     Units                    NaN               NaN   \n",
       "2                0     Units                    NaN               NaN   \n",
       "3                0     Units                    NaN               NaN   \n",
       "4                0     Units                    NaN               NaN   \n",
       "5                0     Units                    NaN               NaN   \n",
       "6                0     Units                    NaN               NaN   \n",
       "7                0     Units                    NaN               NaN   \n",
       "8                0     Units                    NaN               NaN   \n",
       "9                0     Units                    NaN               NaN   \n",
       "10               0     Units                    NaN               NaN   \n",
       "11               0     Units                    NaN               NaN   \n",
       "12               0     Units                    NaN               NaN   \n",
       "13               0     Units                    NaN               NaN   \n",
       "14               0     Units                    NaN               NaN   \n",
       "15               0     Units                    NaN               NaN   \n",
       "16               0     Units                    NaN               NaN   \n",
       "17               0     Units                    NaN               NaN   \n",
       "18               0     Units                    NaN               NaN   \n",
       "19               0     Units                    NaN               NaN   \n",
       "20               0     Units                    NaN               NaN   \n",
       "21               0     Units                    NaN               NaN   \n",
       "22               0     Units                    NaN               NaN   \n",
       "23               0     Units                    NaN               NaN   \n",
       "24               0     Units                    NaN               NaN   \n",
       "25               0     Units                    NaN               NaN   \n",
       "26               0     Units                    NaN               NaN   \n",
       "27               0     Units                    NaN               NaN   \n",
       "28               0     Units                    NaN               NaN   \n",
       "29               0     Units                    NaN               NaN   \n",
       "30               0     Units                    NaN               NaN   \n",
       "31               0     Units                    NaN               NaN   \n",
       "\n",
       "        Value  Flag Codes  Flags  \n",
       "0   51.541027         NaN    NaN  \n",
       "1   40.146054         NaN    NaN  \n",
       "2   48.932447         NaN    NaN  \n",
       "3   43.219881         NaN    NaN  \n",
       "4   60.971243         NaN    NaN  \n",
       "5   49.754383         NaN    NaN  \n",
       "6   45.534312         NaN    NaN  \n",
       "7   46.156871         NaN    NaN  \n",
       "8   44.901678         NaN    NaN  \n",
       "9   61.362963         NaN    NaN  \n",
       "10  54.851599         NaN    NaN  \n",
       "11  56.680000         NaN    NaN  \n",
       "12  46.346905         NaN    NaN  \n",
       "13  67.614805         NaN    NaN  \n",
       "14  55.087884         NaN    NaN  \n",
       "15  66.291706         NaN    NaN  \n",
       "16  52.409579         NaN    NaN  \n",
       "17  48.458213         NaN    NaN  \n",
       "18  70.418417         NaN    NaN  \n",
       "19  56.969309         NaN    NaN  \n",
       "20  29.058116         NaN    NaN  \n",
       "21  60.414627         NaN    NaN  \n",
       "22  42.600819         NaN    NaN  \n",
       "23  46.691015         NaN    NaN  \n",
       "24  54.897222         NaN    NaN  \n",
       "25  42.319132         NaN    NaN  \n",
       "26  53.037444         NaN    NaN  \n",
       "27  71.957453         NaN    NaN  \n",
       "28  49.469509         NaN    NaN  \n",
       "29  90.852600         NaN    NaN  \n",
       "30  88.309883         NaN    NaN  \n",
       "31  46.069550         NaN    NaN  "
      ]
     },
     "execution_count": 264,
     "metadata": {},
     "output_type": "execute_result"
    }
   ],
   "source": [
    "SalarioMedio_OCDE"
   ]
  },
  {
   "cell_type": "code",
   "execution_count": 265,
   "id": "e8d162f9",
   "metadata": {},
   "outputs": [
    {
     "data": {
      "text/plain": [
       "Index(['COUNTRY', 'Country', 'SERIES', 'Series', 'TIME', 'Time', 'Unit Code',\n",
       "       'Unit', 'PowerCode Code', 'PowerCode', 'Reference Period Code',\n",
       "       'Reference Period', 'Value', 'Flag Codes', 'Flags'],\n",
       "      dtype='object')"
      ]
     },
     "execution_count": 265,
     "metadata": {},
     "output_type": "execute_result"
    }
   ],
   "source": [
    "\n",
    "SalarioMedio_OCDE.columns"
   ]
  },
  {
   "cell_type": "code",
   "execution_count": 266,
   "id": "012ff141",
   "metadata": {},
   "outputs": [
    {
     "data": {
      "text/html": [
       "<div>\n",
       "<style scoped>\n",
       "    .dataframe tbody tr th:only-of-type {\n",
       "        vertical-align: middle;\n",
       "    }\n",
       "\n",
       "    .dataframe tbody tr th {\n",
       "        vertical-align: top;\n",
       "    }\n",
       "\n",
       "    .dataframe thead th {\n",
       "        text-align: right;\n",
       "    }\n",
       "</style>\n",
       "<table border=\"1\" class=\"dataframe\">\n",
       "  <thead>\n",
       "    <tr style=\"text-align: right;\">\n",
       "      <th></th>\n",
       "      <th>Country</th>\n",
       "      <th>%SM</th>\n",
       "    </tr>\n",
       "  </thead>\n",
       "  <tbody>\n",
       "    <tr>\n",
       "      <th>20</th>\n",
       "      <td>United States</td>\n",
       "      <td>29.1</td>\n",
       "    </tr>\n",
       "    <tr>\n",
       "      <th>1</th>\n",
       "      <td>Belgium</td>\n",
       "      <td>40.1</td>\n",
       "    </tr>\n",
       "    <tr>\n",
       "      <th>25</th>\n",
       "      <td>Latvia</td>\n",
       "      <td>42.3</td>\n",
       "    </tr>\n",
       "    <tr>\n",
       "      <th>22</th>\n",
       "      <td>Estonia</td>\n",
       "      <td>42.6</td>\n",
       "    </tr>\n",
       "    <tr>\n",
       "      <th>3</th>\n",
       "      <td>Czechia</td>\n",
       "      <td>43.2</td>\n",
       "    </tr>\n",
       "    <tr>\n",
       "      <th>8</th>\n",
       "      <td>Japan</td>\n",
       "      <td>44.9</td>\n",
       "    </tr>\n",
       "    <tr>\n",
       "      <th>6</th>\n",
       "      <td>Hungary</td>\n",
       "      <td>45.5</td>\n",
       "    </tr>\n",
       "    <tr>\n",
       "      <th>31</th>\n",
       "      <td>Croatia</td>\n",
       "      <td>46.1</td>\n",
       "    </tr>\n",
       "    <tr>\n",
       "      <th>7</th>\n",
       "      <td>Ireland</td>\n",
       "      <td>46.2</td>\n",
       "    </tr>\n",
       "    <tr>\n",
       "      <th>12</th>\n",
       "      <td>Netherlands</td>\n",
       "      <td>46.3</td>\n",
       "    </tr>\n",
       "    <tr>\n",
       "      <th>23</th>\n",
       "      <td>Lithuania</td>\n",
       "      <td>46.7</td>\n",
       "    </tr>\n",
       "    <tr>\n",
       "      <th>17</th>\n",
       "      <td>Spain</td>\n",
       "      <td>48.5</td>\n",
       "    </tr>\n",
       "    <tr>\n",
       "      <th>2</th>\n",
       "      <td>Canada</td>\n",
       "      <td>48.9</td>\n",
       "    </tr>\n",
       "    <tr>\n",
       "      <th>28</th>\n",
       "      <td>Germany</td>\n",
       "      <td>49.5</td>\n",
       "    </tr>\n",
       "    <tr>\n",
       "      <th>5</th>\n",
       "      <td>Greece</td>\n",
       "      <td>49.8</td>\n",
       "    </tr>\n",
       "    <tr>\n",
       "      <th>0</th>\n",
       "      <td>Australia</td>\n",
       "      <td>51.5</td>\n",
       "    </tr>\n",
       "    <tr>\n",
       "      <th>16</th>\n",
       "      <td>Slovak Republic</td>\n",
       "      <td>52.4</td>\n",
       "    </tr>\n",
       "    <tr>\n",
       "      <th>26</th>\n",
       "      <td>Israel</td>\n",
       "      <td>53.0</td>\n",
       "    </tr>\n",
       "    <tr>\n",
       "      <th>10</th>\n",
       "      <td>Luxembourg</td>\n",
       "      <td>54.9</td>\n",
       "    </tr>\n",
       "    <tr>\n",
       "      <th>24</th>\n",
       "      <td>Romania</td>\n",
       "      <td>54.9</td>\n",
       "    </tr>\n",
       "    <tr>\n",
       "      <th>14</th>\n",
       "      <td>Poland</td>\n",
       "      <td>55.1</td>\n",
       "    </tr>\n",
       "    <tr>\n",
       "      <th>11</th>\n",
       "      <td>Mexico</td>\n",
       "      <td>56.7</td>\n",
       "    </tr>\n",
       "    <tr>\n",
       "      <th>19</th>\n",
       "      <td>United Kingdom</td>\n",
       "      <td>57.0</td>\n",
       "    </tr>\n",
       "    <tr>\n",
       "      <th>21</th>\n",
       "      <td>Slovenia</td>\n",
       "      <td>60.4</td>\n",
       "    </tr>\n",
       "    <tr>\n",
       "      <th>4</th>\n",
       "      <td>France</td>\n",
       "      <td>61.0</td>\n",
       "    </tr>\n",
       "    <tr>\n",
       "      <th>9</th>\n",
       "      <td>Korea</td>\n",
       "      <td>61.4</td>\n",
       "    </tr>\n",
       "    <tr>\n",
       "      <th>15</th>\n",
       "      <td>Portugal</td>\n",
       "      <td>66.3</td>\n",
       "    </tr>\n",
       "    <tr>\n",
       "      <th>13</th>\n",
       "      <td>New Zealand</td>\n",
       "      <td>67.6</td>\n",
       "    </tr>\n",
       "    <tr>\n",
       "      <th>18</th>\n",
       "      <td>Türkiye</td>\n",
       "      <td>70.4</td>\n",
       "    </tr>\n",
       "    <tr>\n",
       "      <th>27</th>\n",
       "      <td>Chile</td>\n",
       "      <td>72.0</td>\n",
       "    </tr>\n",
       "    <tr>\n",
       "      <th>30</th>\n",
       "      <td>Costa Rica</td>\n",
       "      <td>88.3</td>\n",
       "    </tr>\n",
       "    <tr>\n",
       "      <th>29</th>\n",
       "      <td>Colombia</td>\n",
       "      <td>90.9</td>\n",
       "    </tr>\n",
       "  </tbody>\n",
       "</table>\n",
       "</div>"
      ],
      "text/plain": [
       "            Country   %SM\n",
       "20    United States  29.1\n",
       "1           Belgium  40.1\n",
       "25           Latvia  42.3\n",
       "22          Estonia  42.6\n",
       "3           Czechia  43.2\n",
       "8             Japan  44.9\n",
       "6           Hungary  45.5\n",
       "31          Croatia  46.1\n",
       "7           Ireland  46.2\n",
       "12      Netherlands  46.3\n",
       "23        Lithuania  46.7\n",
       "17            Spain  48.5\n",
       "2            Canada  48.9\n",
       "28          Germany  49.5\n",
       "5            Greece  49.8\n",
       "0         Australia  51.5\n",
       "16  Slovak Republic  52.4\n",
       "26           Israel  53.0\n",
       "10       Luxembourg  54.9\n",
       "24          Romania  54.9\n",
       "14           Poland  55.1\n",
       "11           Mexico  56.7\n",
       "19   United Kingdom  57.0\n",
       "21         Slovenia  60.4\n",
       "4            France  61.0\n",
       "9             Korea  61.4\n",
       "15         Portugal  66.3\n",
       "13      New Zealand  67.6\n",
       "18          Türkiye  70.4\n",
       "27            Chile  72.0\n",
       "30       Costa Rica  88.3\n",
       "29         Colombia  90.9"
      ]
     },
     "execution_count": 266,
     "metadata": {},
     "output_type": "execute_result"
    }
   ],
   "source": [
    "SM_OCDE = SalarioMedio_OCDE.drop(columns = ['COUNTRY', 'SERIES', 'Series', 'TIME', 'Time', 'Unit Code',\n",
    "       'Unit', 'PowerCode Code', 'PowerCode', 'Reference Period Code',\n",
    "       'Reference Period', 'Flag Codes', 'Flags'])\n",
    "SM_OCDE = SM_OCDE.rename(columns = {\"Value\":\"%SM\"})\n",
    "SM_OCDE = SM_OCDE.round(1)\n",
    "SM_OCDE = SM_OCDE.sort_values(by=[\"%SM\"])\n",
    "SM_OCDE\n"
   ]
  },
  {
   "cell_type": "code",
   "execution_count": 267,
   "id": "513fc6e9",
   "metadata": {},
   "outputs": [
    {
     "data": {
      "text/html": [
       "<div>\n",
       "<style scoped>\n",
       "    .dataframe tbody tr th:only-of-type {\n",
       "        vertical-align: middle;\n",
       "    }\n",
       "\n",
       "    .dataframe tbody tr th {\n",
       "        vertical-align: top;\n",
       "    }\n",
       "\n",
       "    .dataframe thead th {\n",
       "        text-align: right;\n",
       "    }\n",
       "</style>\n",
       "<table border=\"1\" class=\"dataframe\">\n",
       "  <thead>\n",
       "    <tr style=\"text-align: right;\">\n",
       "      <th></th>\n",
       "      <th>COU</th>\n",
       "      <th>Country</th>\n",
       "      <th>CORP_TAX</th>\n",
       "      <th>Corporate income tax rate</th>\n",
       "      <th>YEA</th>\n",
       "      <th>Year</th>\n",
       "      <th>Unit Code</th>\n",
       "      <th>Unit</th>\n",
       "      <th>PowerCode Code</th>\n",
       "      <th>PowerCode</th>\n",
       "      <th>Reference Period Code</th>\n",
       "      <th>Reference Period</th>\n",
       "      <th>Value</th>\n",
       "      <th>Flag Codes</th>\n",
       "      <th>Flags</th>\n",
       "    </tr>\n",
       "  </thead>\n",
       "  <tbody>\n",
       "    <tr>\n",
       "      <th>0</th>\n",
       "      <td>AUS</td>\n",
       "      <td>Australia</td>\n",
       "      <td>CIT_RATE</td>\n",
       "      <td>Corporate income tax rate</td>\n",
       "      <td>2000</td>\n",
       "      <td>2000</td>\n",
       "      <td>PC</td>\n",
       "      <td>Percentage</td>\n",
       "      <td>0</td>\n",
       "      <td>Units</td>\n",
       "      <td>NaN</td>\n",
       "      <td>NaN</td>\n",
       "      <td>34.0</td>\n",
       "      <td>NaN</td>\n",
       "      <td>NaN</td>\n",
       "    </tr>\n",
       "    <tr>\n",
       "      <th>1</th>\n",
       "      <td>AUS</td>\n",
       "      <td>Australia</td>\n",
       "      <td>CIT_RATE</td>\n",
       "      <td>Corporate income tax rate</td>\n",
       "      <td>2001</td>\n",
       "      <td>2001</td>\n",
       "      <td>PC</td>\n",
       "      <td>Percentage</td>\n",
       "      <td>0</td>\n",
       "      <td>Units</td>\n",
       "      <td>NaN</td>\n",
       "      <td>NaN</td>\n",
       "      <td>30.0</td>\n",
       "      <td>NaN</td>\n",
       "      <td>NaN</td>\n",
       "    </tr>\n",
       "    <tr>\n",
       "      <th>2</th>\n",
       "      <td>AUS</td>\n",
       "      <td>Australia</td>\n",
       "      <td>CIT_RATE</td>\n",
       "      <td>Corporate income tax rate</td>\n",
       "      <td>2002</td>\n",
       "      <td>2002</td>\n",
       "      <td>PC</td>\n",
       "      <td>Percentage</td>\n",
       "      <td>0</td>\n",
       "      <td>Units</td>\n",
       "      <td>NaN</td>\n",
       "      <td>NaN</td>\n",
       "      <td>30.0</td>\n",
       "      <td>NaN</td>\n",
       "      <td>NaN</td>\n",
       "    </tr>\n",
       "    <tr>\n",
       "      <th>3</th>\n",
       "      <td>AUS</td>\n",
       "      <td>Australia</td>\n",
       "      <td>CIT_RATE</td>\n",
       "      <td>Corporate income tax rate</td>\n",
       "      <td>2003</td>\n",
       "      <td>2003</td>\n",
       "      <td>PC</td>\n",
       "      <td>Percentage</td>\n",
       "      <td>0</td>\n",
       "      <td>Units</td>\n",
       "      <td>NaN</td>\n",
       "      <td>NaN</td>\n",
       "      <td>30.0</td>\n",
       "      <td>NaN</td>\n",
       "      <td>NaN</td>\n",
       "    </tr>\n",
       "    <tr>\n",
       "      <th>4</th>\n",
       "      <td>AUS</td>\n",
       "      <td>Australia</td>\n",
       "      <td>CIT_RATE</td>\n",
       "      <td>Corporate income tax rate</td>\n",
       "      <td>2004</td>\n",
       "      <td>2004</td>\n",
       "      <td>PC</td>\n",
       "      <td>Percentage</td>\n",
       "      <td>0</td>\n",
       "      <td>Units</td>\n",
       "      <td>NaN</td>\n",
       "      <td>NaN</td>\n",
       "      <td>30.0</td>\n",
       "      <td>NaN</td>\n",
       "      <td>NaN</td>\n",
       "    </tr>\n",
       "    <tr>\n",
       "      <th>...</th>\n",
       "      <td>...</td>\n",
       "      <td>...</td>\n",
       "      <td>...</td>\n",
       "      <td>...</td>\n",
       "      <td>...</td>\n",
       "      <td>...</td>\n",
       "      <td>...</td>\n",
       "      <td>...</td>\n",
       "      <td>...</td>\n",
       "      <td>...</td>\n",
       "      <td>...</td>\n",
       "      <td>...</td>\n",
       "      <td>...</td>\n",
       "      <td>...</td>\n",
       "      <td>...</td>\n",
       "    </tr>\n",
       "    <tr>\n",
       "      <th>907</th>\n",
       "      <td>CRI</td>\n",
       "      <td>Costa Rica</td>\n",
       "      <td>CIT_RATE</td>\n",
       "      <td>Corporate income tax rate</td>\n",
       "      <td>2019</td>\n",
       "      <td>2019</td>\n",
       "      <td>PC</td>\n",
       "      <td>Percentage</td>\n",
       "      <td>0</td>\n",
       "      <td>Units</td>\n",
       "      <td>NaN</td>\n",
       "      <td>NaN</td>\n",
       "      <td>30.0</td>\n",
       "      <td>NaN</td>\n",
       "      <td>NaN</td>\n",
       "    </tr>\n",
       "    <tr>\n",
       "      <th>908</th>\n",
       "      <td>CRI</td>\n",
       "      <td>Costa Rica</td>\n",
       "      <td>CIT_RATE</td>\n",
       "      <td>Corporate income tax rate</td>\n",
       "      <td>2020</td>\n",
       "      <td>2020</td>\n",
       "      <td>PC</td>\n",
       "      <td>Percentage</td>\n",
       "      <td>0</td>\n",
       "      <td>Units</td>\n",
       "      <td>NaN</td>\n",
       "      <td>NaN</td>\n",
       "      <td>30.0</td>\n",
       "      <td>NaN</td>\n",
       "      <td>NaN</td>\n",
       "    </tr>\n",
       "    <tr>\n",
       "      <th>909</th>\n",
       "      <td>CRI</td>\n",
       "      <td>Costa Rica</td>\n",
       "      <td>CIT_RATE</td>\n",
       "      <td>Corporate income tax rate</td>\n",
       "      <td>2021</td>\n",
       "      <td>2021</td>\n",
       "      <td>PC</td>\n",
       "      <td>Percentage</td>\n",
       "      <td>0</td>\n",
       "      <td>Units</td>\n",
       "      <td>NaN</td>\n",
       "      <td>NaN</td>\n",
       "      <td>30.0</td>\n",
       "      <td>NaN</td>\n",
       "      <td>NaN</td>\n",
       "    </tr>\n",
       "    <tr>\n",
       "      <th>910</th>\n",
       "      <td>CRI</td>\n",
       "      <td>Costa Rica</td>\n",
       "      <td>CIT_RATE</td>\n",
       "      <td>Corporate income tax rate</td>\n",
       "      <td>2022</td>\n",
       "      <td>2022</td>\n",
       "      <td>PC</td>\n",
       "      <td>Percentage</td>\n",
       "      <td>0</td>\n",
       "      <td>Units</td>\n",
       "      <td>NaN</td>\n",
       "      <td>NaN</td>\n",
       "      <td>30.0</td>\n",
       "      <td>NaN</td>\n",
       "      <td>NaN</td>\n",
       "    </tr>\n",
       "    <tr>\n",
       "      <th>911</th>\n",
       "      <td>CRI</td>\n",
       "      <td>Costa Rica</td>\n",
       "      <td>CIT_RATE</td>\n",
       "      <td>Corporate income tax rate</td>\n",
       "      <td>2023</td>\n",
       "      <td>2023</td>\n",
       "      <td>PC</td>\n",
       "      <td>Percentage</td>\n",
       "      <td>0</td>\n",
       "      <td>Units</td>\n",
       "      <td>NaN</td>\n",
       "      <td>NaN</td>\n",
       "      <td>-30.0</td>\n",
       "      <td>NaN</td>\n",
       "      <td>NaN</td>\n",
       "    </tr>\n",
       "  </tbody>\n",
       "</table>\n",
       "<p>912 rows × 15 columns</p>\n",
       "</div>"
      ],
      "text/plain": [
       "     COU     Country  CORP_TAX  Corporate income tax rate   YEA  Year  \\\n",
       "0    AUS   Australia  CIT_RATE  Corporate income tax rate  2000  2000   \n",
       "1    AUS   Australia  CIT_RATE  Corporate income tax rate  2001  2001   \n",
       "2    AUS   Australia  CIT_RATE  Corporate income tax rate  2002  2002   \n",
       "3    AUS   Australia  CIT_RATE  Corporate income tax rate  2003  2003   \n",
       "4    AUS   Australia  CIT_RATE  Corporate income tax rate  2004  2004   \n",
       "..   ...         ...       ...                        ...   ...   ...   \n",
       "907  CRI  Costa Rica  CIT_RATE  Corporate income tax rate  2019  2019   \n",
       "908  CRI  Costa Rica  CIT_RATE  Corporate income tax rate  2020  2020   \n",
       "909  CRI  Costa Rica  CIT_RATE  Corporate income tax rate  2021  2021   \n",
       "910  CRI  Costa Rica  CIT_RATE  Corporate income tax rate  2022  2022   \n",
       "911  CRI  Costa Rica  CIT_RATE  Corporate income tax rate  2023  2023   \n",
       "\n",
       "    Unit Code        Unit  PowerCode Code PowerCode  Reference Period Code  \\\n",
       "0          PC  Percentage               0     Units                    NaN   \n",
       "1          PC  Percentage               0     Units                    NaN   \n",
       "2          PC  Percentage               0     Units                    NaN   \n",
       "3          PC  Percentage               0     Units                    NaN   \n",
       "4          PC  Percentage               0     Units                    NaN   \n",
       "..        ...         ...             ...       ...                    ...   \n",
       "907        PC  Percentage               0     Units                    NaN   \n",
       "908        PC  Percentage               0     Units                    NaN   \n",
       "909        PC  Percentage               0     Units                    NaN   \n",
       "910        PC  Percentage               0     Units                    NaN   \n",
       "911        PC  Percentage               0     Units                    NaN   \n",
       "\n",
       "     Reference Period  Value  Flag Codes  Flags  \n",
       "0                 NaN   34.0         NaN    NaN  \n",
       "1                 NaN   30.0         NaN    NaN  \n",
       "2                 NaN   30.0         NaN    NaN  \n",
       "3                 NaN   30.0         NaN    NaN  \n",
       "4                 NaN   30.0         NaN    NaN  \n",
       "..                ...    ...         ...    ...  \n",
       "907               NaN   30.0         NaN    NaN  \n",
       "908               NaN   30.0         NaN    NaN  \n",
       "909               NaN   30.0         NaN    NaN  \n",
       "910               NaN   30.0         NaN    NaN  \n",
       "911               NaN  -30.0         NaN    NaN  \n",
       "\n",
       "[912 rows x 15 columns]"
      ]
     },
     "execution_count": 267,
     "metadata": {},
     "output_type": "execute_result"
    }
   ],
   "source": [
    "Impoempresas_OCDE"
   ]
  },
  {
   "cell_type": "code",
   "execution_count": 268,
   "id": "1c1531fa",
   "metadata": {},
   "outputs": [
    {
     "data": {
      "text/plain": [
       "Index(['COU', 'Country', 'CORP_TAX', 'Corporate income tax rate', 'YEA',\n",
       "       'Year', 'Unit Code', 'Unit', 'PowerCode Code', 'PowerCode',\n",
       "       'Reference Period Code', 'Reference Period', 'Value', 'Flag Codes',\n",
       "       'Flags'],\n",
       "      dtype='object')"
      ]
     },
     "execution_count": 268,
     "metadata": {},
     "output_type": "execute_result"
    }
   ],
   "source": [
    "Impoempresas_OCDE.columns"
   ]
  },
  {
   "cell_type": "code",
   "execution_count": 269,
   "id": "469e8e8e",
   "metadata": {},
   "outputs": [],
   "source": [
    "Impoempresas_OCDE= Impoempresas_OCDE[Impoempresas_OCDE['YEA'] == 2021]\n"
   ]
  },
  {
   "cell_type": "code",
   "execution_count": 270,
   "id": "af58e230",
   "metadata": {},
   "outputs": [
    {
     "data": {
      "text/html": [
       "<div>\n",
       "<style scoped>\n",
       "    .dataframe tbody tr th:only-of-type {\n",
       "        vertical-align: middle;\n",
       "    }\n",
       "\n",
       "    .dataframe tbody tr th {\n",
       "        vertical-align: top;\n",
       "    }\n",
       "\n",
       "    .dataframe thead th {\n",
       "        text-align: right;\n",
       "    }\n",
       "</style>\n",
       "<table border=\"1\" class=\"dataframe\">\n",
       "  <thead>\n",
       "    <tr style=\"text-align: right;\">\n",
       "      <th></th>\n",
       "      <th>Country</th>\n",
       "      <th>%tax</th>\n",
       "    </tr>\n",
       "  </thead>\n",
       "  <tbody>\n",
       "    <tr>\n",
       "      <th>21</th>\n",
       "      <td>Australia</td>\n",
       "      <td>30.0000</td>\n",
       "    </tr>\n",
       "    <tr>\n",
       "      <th>45</th>\n",
       "      <td>Austria</td>\n",
       "      <td>25.0000</td>\n",
       "    </tr>\n",
       "    <tr>\n",
       "      <th>69</th>\n",
       "      <td>Belgium</td>\n",
       "      <td>25.0000</td>\n",
       "    </tr>\n",
       "    <tr>\n",
       "      <th>93</th>\n",
       "      <td>Canada</td>\n",
       "      <td>15.0000</td>\n",
       "    </tr>\n",
       "    <tr>\n",
       "      <th>117</th>\n",
       "      <td>Czechia</td>\n",
       "      <td>19.0000</td>\n",
       "    </tr>\n",
       "    <tr>\n",
       "      <th>141</th>\n",
       "      <td>Denmark</td>\n",
       "      <td>22.0000</td>\n",
       "    </tr>\n",
       "    <tr>\n",
       "      <th>165</th>\n",
       "      <td>Finland</td>\n",
       "      <td>20.0000</td>\n",
       "    </tr>\n",
       "    <tr>\n",
       "      <th>189</th>\n",
       "      <td>France</td>\n",
       "      <td>28.4075</td>\n",
       "    </tr>\n",
       "    <tr>\n",
       "      <th>213</th>\n",
       "      <td>Germany</td>\n",
       "      <td>15.8250</td>\n",
       "    </tr>\n",
       "    <tr>\n",
       "      <th>237</th>\n",
       "      <td>Greece</td>\n",
       "      <td>22.0000</td>\n",
       "    </tr>\n",
       "    <tr>\n",
       "      <th>261</th>\n",
       "      <td>Hungary</td>\n",
       "      <td>9.0000</td>\n",
       "    </tr>\n",
       "    <tr>\n",
       "      <th>285</th>\n",
       "      <td>Iceland</td>\n",
       "      <td>20.0000</td>\n",
       "    </tr>\n",
       "    <tr>\n",
       "      <th>309</th>\n",
       "      <td>Ireland</td>\n",
       "      <td>12.5000</td>\n",
       "    </tr>\n",
       "    <tr>\n",
       "      <th>333</th>\n",
       "      <td>Italy</td>\n",
       "      <td>24.0000</td>\n",
       "    </tr>\n",
       "    <tr>\n",
       "      <th>357</th>\n",
       "      <td>Japan</td>\n",
       "      <td>23.2000</td>\n",
       "    </tr>\n",
       "    <tr>\n",
       "      <th>381</th>\n",
       "      <td>Korea</td>\n",
       "      <td>25.0000</td>\n",
       "    </tr>\n",
       "    <tr>\n",
       "      <th>405</th>\n",
       "      <td>Luxembourg</td>\n",
       "      <td>18.1900</td>\n",
       "    </tr>\n",
       "    <tr>\n",
       "      <th>429</th>\n",
       "      <td>Mexico</td>\n",
       "      <td>30.0000</td>\n",
       "    </tr>\n",
       "    <tr>\n",
       "      <th>453</th>\n",
       "      <td>Netherlands</td>\n",
       "      <td>25.0000</td>\n",
       "    </tr>\n",
       "    <tr>\n",
       "      <th>477</th>\n",
       "      <td>New Zealand</td>\n",
       "      <td>28.0000</td>\n",
       "    </tr>\n",
       "    <tr>\n",
       "      <th>501</th>\n",
       "      <td>Norway</td>\n",
       "      <td>22.0000</td>\n",
       "    </tr>\n",
       "    <tr>\n",
       "      <th>525</th>\n",
       "      <td>Poland</td>\n",
       "      <td>19.0000</td>\n",
       "    </tr>\n",
       "    <tr>\n",
       "      <th>549</th>\n",
       "      <td>Portugal</td>\n",
       "      <td>30.0000</td>\n",
       "    </tr>\n",
       "    <tr>\n",
       "      <th>573</th>\n",
       "      <td>Slovak Republic</td>\n",
       "      <td>21.0000</td>\n",
       "    </tr>\n",
       "    <tr>\n",
       "      <th>597</th>\n",
       "      <td>Spain</td>\n",
       "      <td>25.0000</td>\n",
       "    </tr>\n",
       "    <tr>\n",
       "      <th>621</th>\n",
       "      <td>Sweden</td>\n",
       "      <td>20.6000</td>\n",
       "    </tr>\n",
       "    <tr>\n",
       "      <th>645</th>\n",
       "      <td>Switzerland</td>\n",
       "      <td>8.5000</td>\n",
       "    </tr>\n",
       "    <tr>\n",
       "      <th>669</th>\n",
       "      <td>Türkiye</td>\n",
       "      <td>25.0000</td>\n",
       "    </tr>\n",
       "    <tr>\n",
       "      <th>693</th>\n",
       "      <td>United Kingdom</td>\n",
       "      <td>19.0000</td>\n",
       "    </tr>\n",
       "    <tr>\n",
       "      <th>717</th>\n",
       "      <td>United States</td>\n",
       "      <td>21.0000</td>\n",
       "    </tr>\n",
       "    <tr>\n",
       "      <th>741</th>\n",
       "      <td>Chile</td>\n",
       "      <td>27.0000</td>\n",
       "    </tr>\n",
       "    <tr>\n",
       "      <th>765</th>\n",
       "      <td>Estonia</td>\n",
       "      <td>20.0000</td>\n",
       "    </tr>\n",
       "    <tr>\n",
       "      <th>789</th>\n",
       "      <td>Israel</td>\n",
       "      <td>23.0000</td>\n",
       "    </tr>\n",
       "    <tr>\n",
       "      <th>813</th>\n",
       "      <td>Latvia</td>\n",
       "      <td>20.0000</td>\n",
       "    </tr>\n",
       "    <tr>\n",
       "      <th>837</th>\n",
       "      <td>Slovenia</td>\n",
       "      <td>19.0000</td>\n",
       "    </tr>\n",
       "    <tr>\n",
       "      <th>861</th>\n",
       "      <td>Lithuania</td>\n",
       "      <td>15.0000</td>\n",
       "    </tr>\n",
       "    <tr>\n",
       "      <th>885</th>\n",
       "      <td>Colombia</td>\n",
       "      <td>31.0000</td>\n",
       "    </tr>\n",
       "    <tr>\n",
       "      <th>909</th>\n",
       "      <td>Costa Rica</td>\n",
       "      <td>30.0000</td>\n",
       "    </tr>\n",
       "  </tbody>\n",
       "</table>\n",
       "</div>"
      ],
      "text/plain": [
       "             Country     %tax\n",
       "21         Australia  30.0000\n",
       "45           Austria  25.0000\n",
       "69           Belgium  25.0000\n",
       "93            Canada  15.0000\n",
       "117          Czechia  19.0000\n",
       "141          Denmark  22.0000\n",
       "165          Finland  20.0000\n",
       "189           France  28.4075\n",
       "213          Germany  15.8250\n",
       "237           Greece  22.0000\n",
       "261          Hungary   9.0000\n",
       "285          Iceland  20.0000\n",
       "309          Ireland  12.5000\n",
       "333            Italy  24.0000\n",
       "357            Japan  23.2000\n",
       "381            Korea  25.0000\n",
       "405       Luxembourg  18.1900\n",
       "429           Mexico  30.0000\n",
       "453      Netherlands  25.0000\n",
       "477      New Zealand  28.0000\n",
       "501           Norway  22.0000\n",
       "525           Poland  19.0000\n",
       "549         Portugal  30.0000\n",
       "573  Slovak Republic  21.0000\n",
       "597            Spain  25.0000\n",
       "621           Sweden  20.6000\n",
       "645      Switzerland   8.5000\n",
       "669          Türkiye  25.0000\n",
       "693   United Kingdom  19.0000\n",
       "717    United States  21.0000\n",
       "741            Chile  27.0000\n",
       "765          Estonia  20.0000\n",
       "789           Israel  23.0000\n",
       "813           Latvia  20.0000\n",
       "837         Slovenia  19.0000\n",
       "861        Lithuania  15.0000\n",
       "885         Colombia  31.0000\n",
       "909       Costa Rica  30.0000"
      ]
     },
     "execution_count": 270,
     "metadata": {},
     "output_type": "execute_result"
    }
   ],
   "source": [
    "Impoempresas_OCDE = Impoempresas_OCDE.drop(columns = ['COU', 'CORP_TAX', 'Corporate income tax rate', 'YEA',\n",
    "       'Year', 'Unit Code', 'Unit', 'PowerCode Code', 'PowerCode',\n",
    "       'Reference Period Code', 'Reference Period', 'Flag Codes',\n",
    "       'Flags'])\n",
    "Impoempresas_OCDE = Impoempresas_OCDE.rename(columns = {\"Value\":\"%tax\"})\n",
    "Impoempresas_OCDE\n"
   ]
  },
  {
   "cell_type": "code",
   "execution_count": null,
   "id": "f46284c1",
   "metadata": {},
   "outputs": [],
   "source": []
  },
  {
   "cell_type": "code",
   "execution_count": 271,
   "id": "99a5da91",
   "metadata": {},
   "outputs": [
    {
     "data": {
      "text/html": [
       "<div>\n",
       "<style scoped>\n",
       "    .dataframe tbody tr th:only-of-type {\n",
       "        vertical-align: middle;\n",
       "    }\n",
       "\n",
       "    .dataframe tbody tr th {\n",
       "        vertical-align: top;\n",
       "    }\n",
       "\n",
       "    .dataframe thead th {\n",
       "        text-align: right;\n",
       "    }\n",
       "</style>\n",
       "<table border=\"1\" class=\"dataframe\">\n",
       "  <thead>\n",
       "    <tr style=\"text-align: right;\">\n",
       "      <th></th>\n",
       "      <th>Country</th>\n",
       "      <th>%tax</th>\n",
       "    </tr>\n",
       "  </thead>\n",
       "  <tbody>\n",
       "    <tr>\n",
       "      <th>21</th>\n",
       "      <td>Australia</td>\n",
       "      <td>30.0</td>\n",
       "    </tr>\n",
       "    <tr>\n",
       "      <th>45</th>\n",
       "      <td>Austria</td>\n",
       "      <td>25.0</td>\n",
       "    </tr>\n",
       "    <tr>\n",
       "      <th>69</th>\n",
       "      <td>Belgium</td>\n",
       "      <td>25.0</td>\n",
       "    </tr>\n",
       "    <tr>\n",
       "      <th>93</th>\n",
       "      <td>Canada</td>\n",
       "      <td>15.0</td>\n",
       "    </tr>\n",
       "    <tr>\n",
       "      <th>117</th>\n",
       "      <td>Czechia</td>\n",
       "      <td>19.0</td>\n",
       "    </tr>\n",
       "    <tr>\n",
       "      <th>141</th>\n",
       "      <td>Denmark</td>\n",
       "      <td>22.0</td>\n",
       "    </tr>\n",
       "    <tr>\n",
       "      <th>165</th>\n",
       "      <td>Finland</td>\n",
       "      <td>20.0</td>\n",
       "    </tr>\n",
       "    <tr>\n",
       "      <th>189</th>\n",
       "      <td>France</td>\n",
       "      <td>28.4</td>\n",
       "    </tr>\n",
       "    <tr>\n",
       "      <th>213</th>\n",
       "      <td>Germany</td>\n",
       "      <td>15.8</td>\n",
       "    </tr>\n",
       "    <tr>\n",
       "      <th>237</th>\n",
       "      <td>Greece</td>\n",
       "      <td>22.0</td>\n",
       "    </tr>\n",
       "    <tr>\n",
       "      <th>261</th>\n",
       "      <td>Hungary</td>\n",
       "      <td>9.0</td>\n",
       "    </tr>\n",
       "    <tr>\n",
       "      <th>285</th>\n",
       "      <td>Iceland</td>\n",
       "      <td>20.0</td>\n",
       "    </tr>\n",
       "    <tr>\n",
       "      <th>309</th>\n",
       "      <td>Ireland</td>\n",
       "      <td>12.5</td>\n",
       "    </tr>\n",
       "    <tr>\n",
       "      <th>333</th>\n",
       "      <td>Italy</td>\n",
       "      <td>24.0</td>\n",
       "    </tr>\n",
       "    <tr>\n",
       "      <th>357</th>\n",
       "      <td>Japan</td>\n",
       "      <td>23.2</td>\n",
       "    </tr>\n",
       "    <tr>\n",
       "      <th>381</th>\n",
       "      <td>Korea</td>\n",
       "      <td>25.0</td>\n",
       "    </tr>\n",
       "    <tr>\n",
       "      <th>405</th>\n",
       "      <td>Luxembourg</td>\n",
       "      <td>18.2</td>\n",
       "    </tr>\n",
       "    <tr>\n",
       "      <th>429</th>\n",
       "      <td>Mexico</td>\n",
       "      <td>30.0</td>\n",
       "    </tr>\n",
       "    <tr>\n",
       "      <th>453</th>\n",
       "      <td>Netherlands</td>\n",
       "      <td>25.0</td>\n",
       "    </tr>\n",
       "    <tr>\n",
       "      <th>477</th>\n",
       "      <td>New Zealand</td>\n",
       "      <td>28.0</td>\n",
       "    </tr>\n",
       "    <tr>\n",
       "      <th>501</th>\n",
       "      <td>Norway</td>\n",
       "      <td>22.0</td>\n",
       "    </tr>\n",
       "    <tr>\n",
       "      <th>525</th>\n",
       "      <td>Poland</td>\n",
       "      <td>19.0</td>\n",
       "    </tr>\n",
       "    <tr>\n",
       "      <th>549</th>\n",
       "      <td>Portugal</td>\n",
       "      <td>30.0</td>\n",
       "    </tr>\n",
       "    <tr>\n",
       "      <th>573</th>\n",
       "      <td>Slovak Republic</td>\n",
       "      <td>21.0</td>\n",
       "    </tr>\n",
       "    <tr>\n",
       "      <th>597</th>\n",
       "      <td>Spain</td>\n",
       "      <td>25.0</td>\n",
       "    </tr>\n",
       "    <tr>\n",
       "      <th>621</th>\n",
       "      <td>Sweden</td>\n",
       "      <td>20.6</td>\n",
       "    </tr>\n",
       "    <tr>\n",
       "      <th>645</th>\n",
       "      <td>Switzerland</td>\n",
       "      <td>8.5</td>\n",
       "    </tr>\n",
       "    <tr>\n",
       "      <th>669</th>\n",
       "      <td>Türkiye</td>\n",
       "      <td>25.0</td>\n",
       "    </tr>\n",
       "    <tr>\n",
       "      <th>693</th>\n",
       "      <td>United Kingdom</td>\n",
       "      <td>19.0</td>\n",
       "    </tr>\n",
       "    <tr>\n",
       "      <th>717</th>\n",
       "      <td>United States</td>\n",
       "      <td>21.0</td>\n",
       "    </tr>\n",
       "    <tr>\n",
       "      <th>741</th>\n",
       "      <td>Chile</td>\n",
       "      <td>27.0</td>\n",
       "    </tr>\n",
       "    <tr>\n",
       "      <th>765</th>\n",
       "      <td>Estonia</td>\n",
       "      <td>20.0</td>\n",
       "    </tr>\n",
       "    <tr>\n",
       "      <th>789</th>\n",
       "      <td>Israel</td>\n",
       "      <td>23.0</td>\n",
       "    </tr>\n",
       "    <tr>\n",
       "      <th>813</th>\n",
       "      <td>Latvia</td>\n",
       "      <td>20.0</td>\n",
       "    </tr>\n",
       "    <tr>\n",
       "      <th>837</th>\n",
       "      <td>Slovenia</td>\n",
       "      <td>19.0</td>\n",
       "    </tr>\n",
       "    <tr>\n",
       "      <th>861</th>\n",
       "      <td>Lithuania</td>\n",
       "      <td>15.0</td>\n",
       "    </tr>\n",
       "    <tr>\n",
       "      <th>885</th>\n",
       "      <td>Colombia</td>\n",
       "      <td>31.0</td>\n",
       "    </tr>\n",
       "    <tr>\n",
       "      <th>909</th>\n",
       "      <td>Costa Rica</td>\n",
       "      <td>30.0</td>\n",
       "    </tr>\n",
       "  </tbody>\n",
       "</table>\n",
       "</div>"
      ],
      "text/plain": [
       "             Country  %tax\n",
       "21         Australia  30.0\n",
       "45           Austria  25.0\n",
       "69           Belgium  25.0\n",
       "93            Canada  15.0\n",
       "117          Czechia  19.0\n",
       "141          Denmark  22.0\n",
       "165          Finland  20.0\n",
       "189           France  28.4\n",
       "213          Germany  15.8\n",
       "237           Greece  22.0\n",
       "261          Hungary   9.0\n",
       "285          Iceland  20.0\n",
       "309          Ireland  12.5\n",
       "333            Italy  24.0\n",
       "357            Japan  23.2\n",
       "381            Korea  25.0\n",
       "405       Luxembourg  18.2\n",
       "429           Mexico  30.0\n",
       "453      Netherlands  25.0\n",
       "477      New Zealand  28.0\n",
       "501           Norway  22.0\n",
       "525           Poland  19.0\n",
       "549         Portugal  30.0\n",
       "573  Slovak Republic  21.0\n",
       "597            Spain  25.0\n",
       "621           Sweden  20.6\n",
       "645      Switzerland   8.5\n",
       "669          Türkiye  25.0\n",
       "693   United Kingdom  19.0\n",
       "717    United States  21.0\n",
       "741            Chile  27.0\n",
       "765          Estonia  20.0\n",
       "789           Israel  23.0\n",
       "813           Latvia  20.0\n",
       "837         Slovenia  19.0\n",
       "861        Lithuania  15.0\n",
       "885         Colombia  31.0\n",
       "909       Costa Rica  30.0"
      ]
     },
     "execution_count": 271,
     "metadata": {},
     "output_type": "execute_result"
    }
   ],
   "source": [
    "Impoempresas_OCDE=Impoempresas_OCDE.round(1)\n",
    "Impoempresas_OCDE"
   ]
  },
  {
   "cell_type": "code",
   "execution_count": 272,
   "id": "27704658",
   "metadata": {},
   "outputs": [],
   "source": [
    "SM = SalarioMinimo_OCDE"
   ]
  },
  {
   "cell_type": "code",
   "execution_count": 273,
   "id": "943cf67b",
   "metadata": {},
   "outputs": [],
   "source": [
    "SM = SM.drop(columns = ['COUNTRY', 'SERIES', 'Series', 'PERIOD', 'Pay period',\n",
    "       'TIME', 'Time', 'Unit Code', 'Unit', 'PowerCode Code', 'PowerCode',\n",
    "       'Reference Period Code', 'Reference Period', 'Flag Codes',\n",
    "       'Flags'])\n",
    "SM = SM.rename(columns={\"Value\":\"SM\"})\n",
    "SM=SM.round()\n"
   ]
  },
  {
   "cell_type": "code",
   "execution_count": 274,
   "id": "6796f22c",
   "metadata": {},
   "outputs": [
    {
     "data": {
      "text/html": [
       "<div>\n",
       "<style scoped>\n",
       "    .dataframe tbody tr th:only-of-type {\n",
       "        vertical-align: middle;\n",
       "    }\n",
       "\n",
       "    .dataframe tbody tr th {\n",
       "        vertical-align: top;\n",
       "    }\n",
       "\n",
       "    .dataframe thead th {\n",
       "        text-align: right;\n",
       "    }\n",
       "</style>\n",
       "<table border=\"1\" class=\"dataframe\">\n",
       "  <thead>\n",
       "    <tr style=\"text-align: right;\">\n",
       "      <th></th>\n",
       "      <th>Country</th>\n",
       "      <th>SM</th>\n",
       "    </tr>\n",
       "  </thead>\n",
       "  <tbody>\n",
       "    <tr>\n",
       "      <th>7</th>\n",
       "      <td>Mexico</td>\n",
       "      <td>3384.0</td>\n",
       "    </tr>\n",
       "    <tr>\n",
       "      <th>28</th>\n",
       "      <td>Colombia</td>\n",
       "      <td>8708.0</td>\n",
       "    </tr>\n",
       "    <tr>\n",
       "      <th>19</th>\n",
       "      <td>Chile</td>\n",
       "      <td>8847.0</td>\n",
       "    </tr>\n",
       "    <tr>\n",
       "      <th>29</th>\n",
       "      <td>Costa Rica</td>\n",
       "      <td>11692.0</td>\n",
       "    </tr>\n",
       "    <tr>\n",
       "      <th>27</th>\n",
       "      <td>Latvia</td>\n",
       "      <td>11825.0</td>\n",
       "    </tr>\n",
       "    <tr>\n",
       "      <th>11</th>\n",
       "      <td>Hungary</td>\n",
       "      <td>12258.0</td>\n",
       "    </tr>\n",
       "    <tr>\n",
       "      <th>4</th>\n",
       "      <td>Estonia</td>\n",
       "      <td>12404.0</td>\n",
       "    </tr>\n",
       "    <tr>\n",
       "      <th>21</th>\n",
       "      <td>Slovak Republic</td>\n",
       "      <td>12874.0</td>\n",
       "    </tr>\n",
       "    <tr>\n",
       "      <th>24</th>\n",
       "      <td>Czechia</td>\n",
       "      <td>13701.0</td>\n",
       "    </tr>\n",
       "    <tr>\n",
       "      <th>20</th>\n",
       "      <td>Türkiye</td>\n",
       "      <td>14901.0</td>\n",
       "    </tr>\n",
       "    <tr>\n",
       "      <th>2</th>\n",
       "      <td>Portugal</td>\n",
       "      <td>15658.0</td>\n",
       "    </tr>\n",
       "    <tr>\n",
       "      <th>16</th>\n",
       "      <td>Greece</td>\n",
       "      <td>15895.0</td>\n",
       "    </tr>\n",
       "    <tr>\n",
       "      <th>9</th>\n",
       "      <td>Israel</td>\n",
       "      <td>16149.0</td>\n",
       "    </tr>\n",
       "    <tr>\n",
       "      <th>3</th>\n",
       "      <td>United States</td>\n",
       "      <td>16287.0</td>\n",
       "    </tr>\n",
       "    <tr>\n",
       "      <th>26</th>\n",
       "      <td>Lithuania</td>\n",
       "      <td>16505.0</td>\n",
       "    </tr>\n",
       "    <tr>\n",
       "      <th>12</th>\n",
       "      <td>Japan</td>\n",
       "      <td>17559.0</td>\n",
       "    </tr>\n",
       "    <tr>\n",
       "      <th>8</th>\n",
       "      <td>Poland</td>\n",
       "      <td>18702.0</td>\n",
       "    </tr>\n",
       "    <tr>\n",
       "      <th>17</th>\n",
       "      <td>Slovenia</td>\n",
       "      <td>20715.0</td>\n",
       "    </tr>\n",
       "    <tr>\n",
       "      <th>23</th>\n",
       "      <td>Spain</td>\n",
       "      <td>20933.0</td>\n",
       "    </tr>\n",
       "    <tr>\n",
       "      <th>0</th>\n",
       "      <td>Ireland</td>\n",
       "      <td>21905.0</td>\n",
       "    </tr>\n",
       "    <tr>\n",
       "      <th>5</th>\n",
       "      <td>Canada</td>\n",
       "      <td>23680.0</td>\n",
       "    </tr>\n",
       "    <tr>\n",
       "      <th>18</th>\n",
       "      <td>Korea</td>\n",
       "      <td>23739.0</td>\n",
       "    </tr>\n",
       "    <tr>\n",
       "      <th>15</th>\n",
       "      <td>United Kingdom</td>\n",
       "      <td>25120.0</td>\n",
       "    </tr>\n",
       "    <tr>\n",
       "      <th>6</th>\n",
       "      <td>France</td>\n",
       "      <td>25137.0</td>\n",
       "    </tr>\n",
       "    <tr>\n",
       "      <th>10</th>\n",
       "      <td>Belgium</td>\n",
       "      <td>26278.0</td>\n",
       "    </tr>\n",
       "    <tr>\n",
       "      <th>25</th>\n",
       "      <td>Germany</td>\n",
       "      <td>26341.0</td>\n",
       "    </tr>\n",
       "    <tr>\n",
       "      <th>13</th>\n",
       "      <td>Australia</td>\n",
       "      <td>27605.0</td>\n",
       "    </tr>\n",
       "    <tr>\n",
       "      <th>14</th>\n",
       "      <td>New Zealand</td>\n",
       "      <td>27716.0</td>\n",
       "    </tr>\n",
       "    <tr>\n",
       "      <th>1</th>\n",
       "      <td>Luxembourg</td>\n",
       "      <td>28963.0</td>\n",
       "    </tr>\n",
       "    <tr>\n",
       "      <th>22</th>\n",
       "      <td>Netherlands</td>\n",
       "      <td>28989.0</td>\n",
       "    </tr>\n",
       "  </tbody>\n",
       "</table>\n",
       "</div>"
      ],
      "text/plain": [
       "            Country       SM\n",
       "7            Mexico   3384.0\n",
       "28         Colombia   8708.0\n",
       "19            Chile   8847.0\n",
       "29       Costa Rica  11692.0\n",
       "27           Latvia  11825.0\n",
       "11          Hungary  12258.0\n",
       "4           Estonia  12404.0\n",
       "21  Slovak Republic  12874.0\n",
       "24          Czechia  13701.0\n",
       "20          Türkiye  14901.0\n",
       "2          Portugal  15658.0\n",
       "16           Greece  15895.0\n",
       "9            Israel  16149.0\n",
       "3     United States  16287.0\n",
       "26        Lithuania  16505.0\n",
       "12            Japan  17559.0\n",
       "8            Poland  18702.0\n",
       "17         Slovenia  20715.0\n",
       "23            Spain  20933.0\n",
       "0           Ireland  21905.0\n",
       "5            Canada  23680.0\n",
       "18            Korea  23739.0\n",
       "15   United Kingdom  25120.0\n",
       "6            France  25137.0\n",
       "10          Belgium  26278.0\n",
       "25          Germany  26341.0\n",
       "13        Australia  27605.0\n",
       "14      New Zealand  27716.0\n",
       "1        Luxembourg  28963.0\n",
       "22      Netherlands  28989.0"
      ]
     },
     "execution_count": 274,
     "metadata": {},
     "output_type": "execute_result"
    }
   ],
   "source": [
    "SM=SM.sort_values(by=[\"SM\"])\n",
    "SM\n"
   ]
  },
  {
   "cell_type": "code",
   "execution_count": 275,
   "id": "d89cc9a8",
   "metadata": {},
   "outputs": [
    {
     "data": {
      "text/html": [
       "<div>\n",
       "<style scoped>\n",
       "    .dataframe tbody tr th:only-of-type {\n",
       "        vertical-align: middle;\n",
       "    }\n",
       "\n",
       "    .dataframe tbody tr th {\n",
       "        vertical-align: top;\n",
       "    }\n",
       "\n",
       "    .dataframe thead th {\n",
       "        text-align: right;\n",
       "    }\n",
       "</style>\n",
       "<table border=\"1\" class=\"dataframe\">\n",
       "  <thead>\n",
       "    <tr style=\"text-align: right;\">\n",
       "      <th></th>\n",
       "      <th>Country</th>\n",
       "      <th>%informalidad</th>\n",
       "      <th>%tax</th>\n",
       "      <th>%SM</th>\n",
       "      <th>SM</th>\n",
       "    </tr>\n",
       "  </thead>\n",
       "  <tbody>\n",
       "    <tr>\n",
       "      <th>0</th>\n",
       "      <td>Australia</td>\n",
       "      <td>9.562654</td>\n",
       "      <td>30.0</td>\n",
       "      <td>51.5</td>\n",
       "      <td>27605.0</td>\n",
       "    </tr>\n",
       "    <tr>\n",
       "      <th>1</th>\n",
       "      <td>Austria</td>\n",
       "      <td>11.910980</td>\n",
       "      <td>25.0</td>\n",
       "      <td>0.0</td>\n",
       "      <td>0.0</td>\n",
       "    </tr>\n",
       "    <tr>\n",
       "      <th>2</th>\n",
       "      <td>Belgium</td>\n",
       "      <td>14.140240</td>\n",
       "      <td>25.0</td>\n",
       "      <td>40.1</td>\n",
       "      <td>26278.0</td>\n",
       "    </tr>\n",
       "    <tr>\n",
       "      <th>3</th>\n",
       "      <td>Canada</td>\n",
       "      <td>7.633201</td>\n",
       "      <td>15.0</td>\n",
       "      <td>48.9</td>\n",
       "      <td>23680.0</td>\n",
       "    </tr>\n",
       "    <tr>\n",
       "      <th>4</th>\n",
       "      <td>Czechia</td>\n",
       "      <td>15.936410</td>\n",
       "      <td>19.0</td>\n",
       "      <td>43.2</td>\n",
       "      <td>13701.0</td>\n",
       "    </tr>\n",
       "    <tr>\n",
       "      <th>5</th>\n",
       "      <td>Denmark</td>\n",
       "      <td>8.839274</td>\n",
       "      <td>22.0</td>\n",
       "      <td>0.0</td>\n",
       "      <td>0.0</td>\n",
       "    </tr>\n",
       "    <tr>\n",
       "      <th>6</th>\n",
       "      <td>Finland</td>\n",
       "      <td>14.572440</td>\n",
       "      <td>20.0</td>\n",
       "      <td>0.0</td>\n",
       "      <td>0.0</td>\n",
       "    </tr>\n",
       "    <tr>\n",
       "      <th>7</th>\n",
       "      <td>France</td>\n",
       "      <td>12.606570</td>\n",
       "      <td>28.4</td>\n",
       "      <td>61.0</td>\n",
       "      <td>25137.0</td>\n",
       "    </tr>\n",
       "    <tr>\n",
       "      <th>8</th>\n",
       "      <td>Germany</td>\n",
       "      <td>8.931904</td>\n",
       "      <td>15.8</td>\n",
       "      <td>49.5</td>\n",
       "      <td>26341.0</td>\n",
       "    </tr>\n",
       "    <tr>\n",
       "      <th>9</th>\n",
       "      <td>Greece</td>\n",
       "      <td>31.824720</td>\n",
       "      <td>22.0</td>\n",
       "      <td>49.8</td>\n",
       "      <td>15895.0</td>\n",
       "    </tr>\n",
       "    <tr>\n",
       "      <th>10</th>\n",
       "      <td>Hungary</td>\n",
       "      <td>12.507940</td>\n",
       "      <td>9.0</td>\n",
       "      <td>45.5</td>\n",
       "      <td>12258.0</td>\n",
       "    </tr>\n",
       "    <tr>\n",
       "      <th>11</th>\n",
       "      <td>Ireland</td>\n",
       "      <td>14.063140</td>\n",
       "      <td>12.5</td>\n",
       "      <td>46.2</td>\n",
       "      <td>21905.0</td>\n",
       "    </tr>\n",
       "    <tr>\n",
       "      <th>12</th>\n",
       "      <td>Italy</td>\n",
       "      <td>21.831650</td>\n",
       "      <td>24.0</td>\n",
       "      <td>0.0</td>\n",
       "      <td>0.0</td>\n",
       "    </tr>\n",
       "    <tr>\n",
       "      <th>13</th>\n",
       "      <td>Japan</td>\n",
       "      <td>9.832524</td>\n",
       "      <td>23.2</td>\n",
       "      <td>44.9</td>\n",
       "      <td>17559.0</td>\n",
       "    </tr>\n",
       "    <tr>\n",
       "      <th>14</th>\n",
       "      <td>Korea</td>\n",
       "      <td>23.906210</td>\n",
       "      <td>25.0</td>\n",
       "      <td>61.4</td>\n",
       "      <td>23739.0</td>\n",
       "    </tr>\n",
       "    <tr>\n",
       "      <th>15</th>\n",
       "      <td>Luxembourg</td>\n",
       "      <td>10.225700</td>\n",
       "      <td>18.2</td>\n",
       "      <td>54.9</td>\n",
       "      <td>28963.0</td>\n",
       "    </tr>\n",
       "    <tr>\n",
       "      <th>16</th>\n",
       "      <td>Mexico</td>\n",
       "      <td>31.826360</td>\n",
       "      <td>30.0</td>\n",
       "      <td>56.7</td>\n",
       "      <td>3384.0</td>\n",
       "    </tr>\n",
       "    <tr>\n",
       "      <th>17</th>\n",
       "      <td>Netherlands</td>\n",
       "      <td>15.772440</td>\n",
       "      <td>25.0</td>\n",
       "      <td>46.3</td>\n",
       "      <td>28989.0</td>\n",
       "    </tr>\n",
       "    <tr>\n",
       "      <th>18</th>\n",
       "      <td>New Zealand</td>\n",
       "      <td>19.857520</td>\n",
       "      <td>28.0</td>\n",
       "      <td>67.6</td>\n",
       "      <td>27716.0</td>\n",
       "    </tr>\n",
       "    <tr>\n",
       "      <th>19</th>\n",
       "      <td>Norway</td>\n",
       "      <td>4.713736</td>\n",
       "      <td>22.0</td>\n",
       "      <td>0.0</td>\n",
       "      <td>0.0</td>\n",
       "    </tr>\n",
       "    <tr>\n",
       "      <th>20</th>\n",
       "      <td>Poland</td>\n",
       "      <td>19.726530</td>\n",
       "      <td>19.0</td>\n",
       "      <td>55.1</td>\n",
       "      <td>18702.0</td>\n",
       "    </tr>\n",
       "    <tr>\n",
       "      <th>21</th>\n",
       "      <td>Portugal</td>\n",
       "      <td>15.484280</td>\n",
       "      <td>30.0</td>\n",
       "      <td>66.3</td>\n",
       "      <td>15658.0</td>\n",
       "    </tr>\n",
       "    <tr>\n",
       "      <th>22</th>\n",
       "      <td>Spain</td>\n",
       "      <td>15.843730</td>\n",
       "      <td>25.0</td>\n",
       "      <td>48.5</td>\n",
       "      <td>20933.0</td>\n",
       "    </tr>\n",
       "    <tr>\n",
       "      <th>23</th>\n",
       "      <td>Sweden</td>\n",
       "      <td>10.595570</td>\n",
       "      <td>20.6</td>\n",
       "      <td>0.0</td>\n",
       "      <td>0.0</td>\n",
       "    </tr>\n",
       "    <tr>\n",
       "      <th>24</th>\n",
       "      <td>Switzerland</td>\n",
       "      <td>15.300250</td>\n",
       "      <td>8.5</td>\n",
       "      <td>0.0</td>\n",
       "      <td>0.0</td>\n",
       "    </tr>\n",
       "    <tr>\n",
       "      <th>25</th>\n",
       "      <td>United States</td>\n",
       "      <td>6.595855</td>\n",
       "      <td>21.0</td>\n",
       "      <td>29.1</td>\n",
       "      <td>16287.0</td>\n",
       "    </tr>\n",
       "    <tr>\n",
       "      <th>26</th>\n",
       "      <td>Chile</td>\n",
       "      <td>24.820500</td>\n",
       "      <td>27.0</td>\n",
       "      <td>72.0</td>\n",
       "      <td>8847.0</td>\n",
       "    </tr>\n",
       "    <tr>\n",
       "      <th>27</th>\n",
       "      <td>Israel</td>\n",
       "      <td>12.447800</td>\n",
       "      <td>23.0</td>\n",
       "      <td>53.0</td>\n",
       "      <td>16149.0</td>\n",
       "    </tr>\n",
       "    <tr>\n",
       "      <th>28</th>\n",
       "      <td>Slovenia</td>\n",
       "      <td>14.005970</td>\n",
       "      <td>19.0</td>\n",
       "      <td>60.4</td>\n",
       "      <td>20715.0</td>\n",
       "    </tr>\n",
       "    <tr>\n",
       "      <th>29</th>\n",
       "      <td>Colombia</td>\n",
       "      <td>53.067870</td>\n",
       "      <td>31.0</td>\n",
       "      <td>90.9</td>\n",
       "      <td>8708.0</td>\n",
       "    </tr>\n",
       "    <tr>\n",
       "      <th>30</th>\n",
       "      <td>Latvia</td>\n",
       "      <td>12.981970</td>\n",
       "      <td>20.0</td>\n",
       "      <td>42.3</td>\n",
       "      <td>11825.0</td>\n",
       "    </tr>\n",
       "    <tr>\n",
       "      <th>31</th>\n",
       "      <td>Lithuania</td>\n",
       "      <td>11.628460</td>\n",
       "      <td>15.0</td>\n",
       "      <td>46.7</td>\n",
       "      <td>16505.0</td>\n",
       "    </tr>\n",
       "    <tr>\n",
       "      <th>32</th>\n",
       "      <td>Costa Rica</td>\n",
       "      <td>27.440160</td>\n",
       "      <td>30.0</td>\n",
       "      <td>88.3</td>\n",
       "      <td>11692.0</td>\n",
       "    </tr>\n",
       "  </tbody>\n",
       "</table>\n",
       "</div>"
      ],
      "text/plain": [
       "          Country  %informalidad  %tax   %SM       SM\n",
       "0       Australia       9.562654  30.0  51.5  27605.0\n",
       "1         Austria      11.910980  25.0   0.0      0.0\n",
       "2         Belgium      14.140240  25.0  40.1  26278.0\n",
       "3          Canada       7.633201  15.0  48.9  23680.0\n",
       "4         Czechia      15.936410  19.0  43.2  13701.0\n",
       "5         Denmark       8.839274  22.0   0.0      0.0\n",
       "6         Finland      14.572440  20.0   0.0      0.0\n",
       "7          France      12.606570  28.4  61.0  25137.0\n",
       "8         Germany       8.931904  15.8  49.5  26341.0\n",
       "9          Greece      31.824720  22.0  49.8  15895.0\n",
       "10        Hungary      12.507940   9.0  45.5  12258.0\n",
       "11        Ireland      14.063140  12.5  46.2  21905.0\n",
       "12          Italy      21.831650  24.0   0.0      0.0\n",
       "13          Japan       9.832524  23.2  44.9  17559.0\n",
       "14          Korea      23.906210  25.0  61.4  23739.0\n",
       "15     Luxembourg      10.225700  18.2  54.9  28963.0\n",
       "16         Mexico      31.826360  30.0  56.7   3384.0\n",
       "17    Netherlands      15.772440  25.0  46.3  28989.0\n",
       "18    New Zealand      19.857520  28.0  67.6  27716.0\n",
       "19         Norway       4.713736  22.0   0.0      0.0\n",
       "20         Poland      19.726530  19.0  55.1  18702.0\n",
       "21       Portugal      15.484280  30.0  66.3  15658.0\n",
       "22          Spain      15.843730  25.0  48.5  20933.0\n",
       "23         Sweden      10.595570  20.6   0.0      0.0\n",
       "24    Switzerland      15.300250   8.5   0.0      0.0\n",
       "25  United States       6.595855  21.0  29.1  16287.0\n",
       "26          Chile      24.820500  27.0  72.0   8847.0\n",
       "27         Israel      12.447800  23.0  53.0  16149.0\n",
       "28       Slovenia      14.005970  19.0  60.4  20715.0\n",
       "29       Colombia      53.067870  31.0  90.9   8708.0\n",
       "30         Latvia      12.981970  20.0  42.3  11825.0\n",
       "31      Lithuania      11.628460  15.0  46.7  16505.0\n",
       "32     Costa Rica      27.440160  30.0  88.3  11692.0"
      ]
     },
     "execution_count": 275,
     "metadata": {},
     "output_type": "execute_result"
    }
   ],
   "source": [
    "OCDE= pd.merge(Informalidad_OCDE, Impoempresas_OCDE, on=[\"Country\"], how= \"left\")\n",
    "OCDE= pd.merge(OCDE, SM_OCDE, on=[\"Country\"], how= \"left\")\n",
    "OCDE= pd.merge(OCDE, SM, on=[\"Country\"], how= \"left\")\n",
    "OCDE=OCDE.fillna(0)\n",
    "OCDE.to_csv(\"BaseOCDE.csv\")\n",
    "OCDE\n",
    "#Ni islandia ni Turquia tienen tasa informalidad de 2021 registrada en OCDE"
   ]
  },
  {
   "cell_type": "code",
   "execution_count": 276,
   "id": "e973b9cb",
   "metadata": {},
   "outputs": [],
   "source": [
    "Historico_imporenta = pd.read_csv(\"Corporate_tax.csv\", sep=\",\")"
   ]
  },
  {
   "cell_type": "code",
   "execution_count": 277,
   "id": "45056ccd",
   "metadata": {},
   "outputs": [
    {
     "data": {
      "text/plain": [
       "Index(['COU', 'Country', 'CORP_TAX', 'Corporate income tax rate', 'YEA',\n",
       "       'Year', 'Unit Code', 'Unit', 'PowerCode Code', 'PowerCode',\n",
       "       'Reference Period Code', 'Reference Period', 'Value', 'Flag Codes',\n",
       "       'Flags'],\n",
       "      dtype='object')"
      ]
     },
     "execution_count": 277,
     "metadata": {},
     "output_type": "execute_result"
    }
   ],
   "source": [
    "Historico_imporenta = Historico_imporenta[Historico_imporenta[\"Country\"]== \"Colombia\"]\n",
    "Historico_imporenta.columns"
   ]
  },
  {
   "cell_type": "code",
   "execution_count": 278,
   "id": "85fc6bd4",
   "metadata": {},
   "outputs": [],
   "source": [
    "Historico_imporenta = Historico_imporenta.drop(columns=[\"Country\", 'CORP_TAX', 'Corporate income tax rate', 'YEA',\n",
    "        'Unit Code', 'Unit', 'PowerCode Code', 'PowerCode',\n",
    "       'Reference Period Code', 'Reference Period', 'Flag Codes',\n",
    "       'Flags', \"COU\"])\n",
    "\n",
    "Historico_imporenta= Historico_imporenta.rename(columns={\"Value\":\"%tax\"})\n"
   ]
  },
  {
   "cell_type": "code",
   "execution_count": 279,
   "id": "70e80216",
   "metadata": {},
   "outputs": [],
   "source": [
    "Salarios=[1000000, \n",
    "908526,\n",
    "877803,\n",
    "828116 ,\n",
    "781242 ,\n",
    "737717 ,\n",
    "689455 ,\n",
    "644350 ,\n",
    "616000 ,\n",
    "589500 ,\n",
    "566700 ,\n",
    "535600 ,\n",
    "515000 ,\n",
    "496900 ,\n",
    "461500 ,\n",
    "433700 ,\n",
    "408000 ,\n",
    "381500 ,\n",
    "358000 ,\n",
    "332000 ,\n",
    "309000 ,\n",
    "286000 ,\n",
    "260100 ]\n",
    "\n",
    "\n"
   ]
  },
  {
   "cell_type": "code",
   "execution_count": 280,
   "id": "0bfad078",
   "metadata": {},
   "outputs": [
    {
     "name": "stdout",
     "output_type": "stream",
     "text": [
      "[2022, 2021, 2020, 2019, 2018, 2017, 2016, 2015, 2014, 2013, 2012, 2011, 2010, 2009, 2008, 2007, 2006, 2005, 2004, 2003, 2002, 2001, 2000]\n"
     ]
    }
   ],
   "source": [
    "Periodos = [x for x in range(2000,2023)]\n",
    "Periodos = Periodos[::-1]\n",
    "print(Periodos)\n"
   ]
  },
  {
   "cell_type": "code",
   "execution_count": 281,
   "id": "940b0be0",
   "metadata": {},
   "outputs": [
    {
     "data": {
      "text/html": [
       "<div>\n",
       "<style scoped>\n",
       "    .dataframe tbody tr th:only-of-type {\n",
       "        vertical-align: middle;\n",
       "    }\n",
       "\n",
       "    .dataframe tbody tr th {\n",
       "        vertical-align: top;\n",
       "    }\n",
       "\n",
       "    .dataframe thead th {\n",
       "        text-align: right;\n",
       "    }\n",
       "</style>\n",
       "<table border=\"1\" class=\"dataframe\">\n",
       "  <thead>\n",
       "    <tr style=\"text-align: right;\">\n",
       "      <th></th>\n",
       "      <th>Year</th>\n",
       "      <th>SM</th>\n",
       "    </tr>\n",
       "  </thead>\n",
       "  <tbody>\n",
       "    <tr>\n",
       "      <th>0</th>\n",
       "      <td>2022</td>\n",
       "      <td>1000000</td>\n",
       "    </tr>\n",
       "    <tr>\n",
       "      <th>1</th>\n",
       "      <td>2021</td>\n",
       "      <td>908526</td>\n",
       "    </tr>\n",
       "    <tr>\n",
       "      <th>2</th>\n",
       "      <td>2020</td>\n",
       "      <td>877803</td>\n",
       "    </tr>\n",
       "    <tr>\n",
       "      <th>3</th>\n",
       "      <td>2019</td>\n",
       "      <td>828116</td>\n",
       "    </tr>\n",
       "    <tr>\n",
       "      <th>4</th>\n",
       "      <td>2018</td>\n",
       "      <td>781242</td>\n",
       "    </tr>\n",
       "    <tr>\n",
       "      <th>5</th>\n",
       "      <td>2017</td>\n",
       "      <td>737717</td>\n",
       "    </tr>\n",
       "    <tr>\n",
       "      <th>6</th>\n",
       "      <td>2016</td>\n",
       "      <td>689455</td>\n",
       "    </tr>\n",
       "    <tr>\n",
       "      <th>7</th>\n",
       "      <td>2015</td>\n",
       "      <td>644350</td>\n",
       "    </tr>\n",
       "    <tr>\n",
       "      <th>8</th>\n",
       "      <td>2014</td>\n",
       "      <td>616000</td>\n",
       "    </tr>\n",
       "    <tr>\n",
       "      <th>9</th>\n",
       "      <td>2013</td>\n",
       "      <td>589500</td>\n",
       "    </tr>\n",
       "    <tr>\n",
       "      <th>10</th>\n",
       "      <td>2012</td>\n",
       "      <td>566700</td>\n",
       "    </tr>\n",
       "    <tr>\n",
       "      <th>11</th>\n",
       "      <td>2011</td>\n",
       "      <td>535600</td>\n",
       "    </tr>\n",
       "    <tr>\n",
       "      <th>12</th>\n",
       "      <td>2010</td>\n",
       "      <td>515000</td>\n",
       "    </tr>\n",
       "    <tr>\n",
       "      <th>13</th>\n",
       "      <td>2009</td>\n",
       "      <td>496900</td>\n",
       "    </tr>\n",
       "    <tr>\n",
       "      <th>14</th>\n",
       "      <td>2008</td>\n",
       "      <td>461500</td>\n",
       "    </tr>\n",
       "    <tr>\n",
       "      <th>15</th>\n",
       "      <td>2007</td>\n",
       "      <td>433700</td>\n",
       "    </tr>\n",
       "    <tr>\n",
       "      <th>16</th>\n",
       "      <td>2006</td>\n",
       "      <td>408000</td>\n",
       "    </tr>\n",
       "    <tr>\n",
       "      <th>17</th>\n",
       "      <td>2005</td>\n",
       "      <td>381500</td>\n",
       "    </tr>\n",
       "    <tr>\n",
       "      <th>18</th>\n",
       "      <td>2004</td>\n",
       "      <td>358000</td>\n",
       "    </tr>\n",
       "    <tr>\n",
       "      <th>19</th>\n",
       "      <td>2003</td>\n",
       "      <td>332000</td>\n",
       "    </tr>\n",
       "    <tr>\n",
       "      <th>20</th>\n",
       "      <td>2002</td>\n",
       "      <td>309000</td>\n",
       "    </tr>\n",
       "    <tr>\n",
       "      <th>21</th>\n",
       "      <td>2001</td>\n",
       "      <td>286000</td>\n",
       "    </tr>\n",
       "    <tr>\n",
       "      <th>22</th>\n",
       "      <td>2000</td>\n",
       "      <td>260100</td>\n",
       "    </tr>\n",
       "  </tbody>\n",
       "</table>\n",
       "</div>"
      ],
      "text/plain": [
       "    Year       SM\n",
       "0   2022  1000000\n",
       "1   2021   908526\n",
       "2   2020   877803\n",
       "3   2019   828116\n",
       "4   2018   781242\n",
       "5   2017   737717\n",
       "6   2016   689455\n",
       "7   2015   644350\n",
       "8   2014   616000\n",
       "9   2013   589500\n",
       "10  2012   566700\n",
       "11  2011   535600\n",
       "12  2010   515000\n",
       "13  2009   496900\n",
       "14  2008   461500\n",
       "15  2007   433700\n",
       "16  2006   408000\n",
       "17  2005   381500\n",
       "18  2004   358000\n",
       "19  2003   332000\n",
       "20  2002   309000\n",
       "21  2001   286000\n",
       "22  2000   260100"
      ]
     },
     "execution_count": 281,
     "metadata": {},
     "output_type": "execute_result"
    }
   ],
   "source": [
    "Historicos_SM = pd.DataFrame({\"Year\":Periodos, \n",
    "                                   \"SM\":Salarios})\n",
    "Historicos_SM= Historicos_SM.astype(int)\n",
    "Historicos_SM"
   ]
  },
  {
   "cell_type": "code",
   "execution_count": 282,
   "id": "6b97e079",
   "metadata": {},
   "outputs": [
    {
     "data": {
      "text/html": [
       "<div>\n",
       "<style scoped>\n",
       "    .dataframe tbody tr th:only-of-type {\n",
       "        vertical-align: middle;\n",
       "    }\n",
       "\n",
       "    .dataframe tbody tr th {\n",
       "        vertical-align: top;\n",
       "    }\n",
       "\n",
       "    .dataframe thead th {\n",
       "        text-align: right;\n",
       "    }\n",
       "</style>\n",
       "<table border=\"1\" class=\"dataframe\">\n",
       "  <thead>\n",
       "    <tr style=\"text-align: right;\">\n",
       "      <th></th>\n",
       "      <th>Year</th>\n",
       "      <th>SM</th>\n",
       "      <th>%tax</th>\n",
       "    </tr>\n",
       "  </thead>\n",
       "  <tbody>\n",
       "    <tr>\n",
       "      <th>0</th>\n",
       "      <td>2022</td>\n",
       "      <td>1000000</td>\n",
       "      <td>35.00</td>\n",
       "    </tr>\n",
       "    <tr>\n",
       "      <th>1</th>\n",
       "      <td>2021</td>\n",
       "      <td>908526</td>\n",
       "      <td>31.00</td>\n",
       "    </tr>\n",
       "    <tr>\n",
       "      <th>2</th>\n",
       "      <td>2020</td>\n",
       "      <td>877803</td>\n",
       "      <td>32.00</td>\n",
       "    </tr>\n",
       "    <tr>\n",
       "      <th>3</th>\n",
       "      <td>2019</td>\n",
       "      <td>828116</td>\n",
       "      <td>33.00</td>\n",
       "    </tr>\n",
       "    <tr>\n",
       "      <th>4</th>\n",
       "      <td>2018</td>\n",
       "      <td>781242</td>\n",
       "      <td>37.00</td>\n",
       "    </tr>\n",
       "    <tr>\n",
       "      <th>5</th>\n",
       "      <td>2017</td>\n",
       "      <td>737717</td>\n",
       "      <td>40.00</td>\n",
       "    </tr>\n",
       "    <tr>\n",
       "      <th>6</th>\n",
       "      <td>2016</td>\n",
       "      <td>689455</td>\n",
       "      <td>40.00</td>\n",
       "    </tr>\n",
       "    <tr>\n",
       "      <th>7</th>\n",
       "      <td>2015</td>\n",
       "      <td>644350</td>\n",
       "      <td>39.00</td>\n",
       "    </tr>\n",
       "    <tr>\n",
       "      <th>8</th>\n",
       "      <td>2014</td>\n",
       "      <td>616000</td>\n",
       "      <td>34.00</td>\n",
       "    </tr>\n",
       "    <tr>\n",
       "      <th>9</th>\n",
       "      <td>2013</td>\n",
       "      <td>589500</td>\n",
       "      <td>34.00</td>\n",
       "    </tr>\n",
       "    <tr>\n",
       "      <th>10</th>\n",
       "      <td>2012</td>\n",
       "      <td>566700</td>\n",
       "      <td>33.00</td>\n",
       "    </tr>\n",
       "    <tr>\n",
       "      <th>11</th>\n",
       "      <td>2011</td>\n",
       "      <td>535600</td>\n",
       "      <td>33.00</td>\n",
       "    </tr>\n",
       "    <tr>\n",
       "      <th>12</th>\n",
       "      <td>2010</td>\n",
       "      <td>515000</td>\n",
       "      <td>33.00</td>\n",
       "    </tr>\n",
       "    <tr>\n",
       "      <th>13</th>\n",
       "      <td>2009</td>\n",
       "      <td>496900</td>\n",
       "      <td>33.00</td>\n",
       "    </tr>\n",
       "    <tr>\n",
       "      <th>14</th>\n",
       "      <td>2008</td>\n",
       "      <td>461500</td>\n",
       "      <td>33.00</td>\n",
       "    </tr>\n",
       "    <tr>\n",
       "      <th>15</th>\n",
       "      <td>2007</td>\n",
       "      <td>433700</td>\n",
       "      <td>34.00</td>\n",
       "    </tr>\n",
       "    <tr>\n",
       "      <th>16</th>\n",
       "      <td>2006</td>\n",
       "      <td>408000</td>\n",
       "      <td>38.50</td>\n",
       "    </tr>\n",
       "    <tr>\n",
       "      <th>17</th>\n",
       "      <td>2005</td>\n",
       "      <td>381500</td>\n",
       "      <td>38.50</td>\n",
       "    </tr>\n",
       "    <tr>\n",
       "      <th>18</th>\n",
       "      <td>2004</td>\n",
       "      <td>358000</td>\n",
       "      <td>38.50</td>\n",
       "    </tr>\n",
       "    <tr>\n",
       "      <th>19</th>\n",
       "      <td>2003</td>\n",
       "      <td>332000</td>\n",
       "      <td>36.75</td>\n",
       "    </tr>\n",
       "    <tr>\n",
       "      <th>20</th>\n",
       "      <td>2002</td>\n",
       "      <td>309000</td>\n",
       "      <td>35.00</td>\n",
       "    </tr>\n",
       "    <tr>\n",
       "      <th>21</th>\n",
       "      <td>2001</td>\n",
       "      <td>286000</td>\n",
       "      <td>35.00</td>\n",
       "    </tr>\n",
       "    <tr>\n",
       "      <th>22</th>\n",
       "      <td>2000</td>\n",
       "      <td>260100</td>\n",
       "      <td>35.00</td>\n",
       "    </tr>\n",
       "  </tbody>\n",
       "</table>\n",
       "</div>"
      ],
      "text/plain": [
       "    Year       SM   %tax\n",
       "0   2022  1000000  35.00\n",
       "1   2021   908526  31.00\n",
       "2   2020   877803  32.00\n",
       "3   2019   828116  33.00\n",
       "4   2018   781242  37.00\n",
       "5   2017   737717  40.00\n",
       "6   2016   689455  40.00\n",
       "7   2015   644350  39.00\n",
       "8   2014   616000  34.00\n",
       "9   2013   589500  34.00\n",
       "10  2012   566700  33.00\n",
       "11  2011   535600  33.00\n",
       "12  2010   515000  33.00\n",
       "13  2009   496900  33.00\n",
       "14  2008   461500  33.00\n",
       "15  2007   433700  34.00\n",
       "16  2006   408000  38.50\n",
       "17  2005   381500  38.50\n",
       "18  2004   358000  38.50\n",
       "19  2003   332000  36.75\n",
       "20  2002   309000  35.00\n",
       "21  2001   286000  35.00\n",
       "22  2000   260100  35.00"
      ]
     },
     "execution_count": 282,
     "metadata": {},
     "output_type": "execute_result"
    }
   ],
   "source": [
    "Historicos_Colombia = pd.merge(Historicos_SM,Historico_imporenta, on=[\"Year\"])\n",
    "Historicos_Colombia.to_csv(\"SM_Imporenta.csv\")\n",
    "Historicos_Colombia"
   ]
  },
  {
   "cell_type": "code",
   "execution_count": 283,
   "id": "a30d5fde",
   "metadata": {},
   "outputs": [
    {
     "data": {
      "text/html": [
       "<div>\n",
       "<style scoped>\n",
       "    .dataframe tbody tr th:only-of-type {\n",
       "        vertical-align: middle;\n",
       "    }\n",
       "\n",
       "    .dataframe tbody tr th {\n",
       "        vertical-align: top;\n",
       "    }\n",
       "\n",
       "    .dataframe thead th {\n",
       "        text-align: right;\n",
       "    }\n",
       "</style>\n",
       "<table border=\"1\" class=\"dataframe\">\n",
       "  <thead>\n",
       "    <tr style=\"text-align: right;\">\n",
       "      <th></th>\n",
       "      <th>LOCATION</th>\n",
       "      <th>INDICATOR</th>\n",
       "      <th>SUBJECT</th>\n",
       "      <th>MEASURE</th>\n",
       "      <th>FREQUENCY</th>\n",
       "      <th>TIME</th>\n",
       "      <th>Value</th>\n",
       "      <th>Flag Codes</th>\n",
       "    </tr>\n",
       "  </thead>\n",
       "  <tbody>\n",
       "    <tr>\n",
       "      <th>0</th>\n",
       "      <td>COL</td>\n",
       "      <td>SELFEMP</td>\n",
       "      <td>TOT</td>\n",
       "      <td>PC_EMP</td>\n",
       "      <td>A</td>\n",
       "      <td>2007</td>\n",
       "      <td>47.30726</td>\n",
       "      <td>NaN</td>\n",
       "    </tr>\n",
       "    <tr>\n",
       "      <th>1</th>\n",
       "      <td>COL</td>\n",
       "      <td>SELFEMP</td>\n",
       "      <td>TOT</td>\n",
       "      <td>PC_EMP</td>\n",
       "      <td>A</td>\n",
       "      <td>2008</td>\n",
       "      <td>52.05827</td>\n",
       "      <td>NaN</td>\n",
       "    </tr>\n",
       "    <tr>\n",
       "      <th>2</th>\n",
       "      <td>COL</td>\n",
       "      <td>SELFEMP</td>\n",
       "      <td>TOT</td>\n",
       "      <td>PC_EMP</td>\n",
       "      <td>A</td>\n",
       "      <td>2009</td>\n",
       "      <td>54.37944</td>\n",
       "      <td>NaN</td>\n",
       "    </tr>\n",
       "    <tr>\n",
       "      <th>3</th>\n",
       "      <td>COL</td>\n",
       "      <td>SELFEMP</td>\n",
       "      <td>TOT</td>\n",
       "      <td>PC_EMP</td>\n",
       "      <td>A</td>\n",
       "      <td>2010</td>\n",
       "      <td>55.44683</td>\n",
       "      <td>NaN</td>\n",
       "    </tr>\n",
       "    <tr>\n",
       "      <th>4</th>\n",
       "      <td>COL</td>\n",
       "      <td>SELFEMP</td>\n",
       "      <td>TOT</td>\n",
       "      <td>PC_EMP</td>\n",
       "      <td>A</td>\n",
       "      <td>2011</td>\n",
       "      <td>56.02482</td>\n",
       "      <td>NaN</td>\n",
       "    </tr>\n",
       "    <tr>\n",
       "      <th>5</th>\n",
       "      <td>COL</td>\n",
       "      <td>SELFEMP</td>\n",
       "      <td>TOT</td>\n",
       "      <td>PC_EMP</td>\n",
       "      <td>A</td>\n",
       "      <td>2012</td>\n",
       "      <td>55.27148</td>\n",
       "      <td>NaN</td>\n",
       "    </tr>\n",
       "    <tr>\n",
       "      <th>6</th>\n",
       "      <td>COL</td>\n",
       "      <td>SELFEMP</td>\n",
       "      <td>TOT</td>\n",
       "      <td>PC_EMP</td>\n",
       "      <td>A</td>\n",
       "      <td>2013</td>\n",
       "      <td>54.33998</td>\n",
       "      <td>NaN</td>\n",
       "    </tr>\n",
       "    <tr>\n",
       "      <th>7</th>\n",
       "      <td>COL</td>\n",
       "      <td>SELFEMP</td>\n",
       "      <td>TOT</td>\n",
       "      <td>PC_EMP</td>\n",
       "      <td>A</td>\n",
       "      <td>2014</td>\n",
       "      <td>53.49324</td>\n",
       "      <td>NaN</td>\n",
       "    </tr>\n",
       "    <tr>\n",
       "      <th>8</th>\n",
       "      <td>COL</td>\n",
       "      <td>SELFEMP</td>\n",
       "      <td>TOT</td>\n",
       "      <td>PC_EMP</td>\n",
       "      <td>A</td>\n",
       "      <td>2015</td>\n",
       "      <td>53.01191</td>\n",
       "      <td>NaN</td>\n",
       "    </tr>\n",
       "    <tr>\n",
       "      <th>9</th>\n",
       "      <td>COL</td>\n",
       "      <td>SELFEMP</td>\n",
       "      <td>TOT</td>\n",
       "      <td>PC_EMP</td>\n",
       "      <td>A</td>\n",
       "      <td>2016</td>\n",
       "      <td>52.88547</td>\n",
       "      <td>NaN</td>\n",
       "    </tr>\n",
       "    <tr>\n",
       "      <th>10</th>\n",
       "      <td>COL</td>\n",
       "      <td>SELFEMP</td>\n",
       "      <td>TOT</td>\n",
       "      <td>PC_EMP</td>\n",
       "      <td>A</td>\n",
       "      <td>2017</td>\n",
       "      <td>52.76831</td>\n",
       "      <td>NaN</td>\n",
       "    </tr>\n",
       "    <tr>\n",
       "      <th>11</th>\n",
       "      <td>COL</td>\n",
       "      <td>SELFEMP</td>\n",
       "      <td>TOT</td>\n",
       "      <td>PC_EMP</td>\n",
       "      <td>A</td>\n",
       "      <td>2018</td>\n",
       "      <td>52.59024</td>\n",
       "      <td>NaN</td>\n",
       "    </tr>\n",
       "    <tr>\n",
       "      <th>12</th>\n",
       "      <td>COL</td>\n",
       "      <td>SELFEMP</td>\n",
       "      <td>TOT</td>\n",
       "      <td>PC_EMP</td>\n",
       "      <td>A</td>\n",
       "      <td>2019</td>\n",
       "      <td>49.95089</td>\n",
       "      <td>NaN</td>\n",
       "    </tr>\n",
       "    <tr>\n",
       "      <th>13</th>\n",
       "      <td>COL</td>\n",
       "      <td>SELFEMP</td>\n",
       "      <td>TOT</td>\n",
       "      <td>PC_EMP</td>\n",
       "      <td>A</td>\n",
       "      <td>2020</td>\n",
       "      <td>50.63253</td>\n",
       "      <td>NaN</td>\n",
       "    </tr>\n",
       "    <tr>\n",
       "      <th>14</th>\n",
       "      <td>COL</td>\n",
       "      <td>SELFEMP</td>\n",
       "      <td>TOT</td>\n",
       "      <td>PC_EMP</td>\n",
       "      <td>A</td>\n",
       "      <td>2021</td>\n",
       "      <td>53.06787</td>\n",
       "      <td>NaN</td>\n",
       "    </tr>\n",
       "  </tbody>\n",
       "</table>\n",
       "</div>"
      ],
      "text/plain": [
       "   LOCATION INDICATOR SUBJECT MEASURE FREQUENCY  TIME     Value  Flag Codes\n",
       "0       COL   SELFEMP     TOT  PC_EMP         A  2007  47.30726         NaN\n",
       "1       COL   SELFEMP     TOT  PC_EMP         A  2008  52.05827         NaN\n",
       "2       COL   SELFEMP     TOT  PC_EMP         A  2009  54.37944         NaN\n",
       "3       COL   SELFEMP     TOT  PC_EMP         A  2010  55.44683         NaN\n",
       "4       COL   SELFEMP     TOT  PC_EMP         A  2011  56.02482         NaN\n",
       "5       COL   SELFEMP     TOT  PC_EMP         A  2012  55.27148         NaN\n",
       "6       COL   SELFEMP     TOT  PC_EMP         A  2013  54.33998         NaN\n",
       "7       COL   SELFEMP     TOT  PC_EMP         A  2014  53.49324         NaN\n",
       "8       COL   SELFEMP     TOT  PC_EMP         A  2015  53.01191         NaN\n",
       "9       COL   SELFEMP     TOT  PC_EMP         A  2016  52.88547         NaN\n",
       "10      COL   SELFEMP     TOT  PC_EMP         A  2017  52.76831         NaN\n",
       "11      COL   SELFEMP     TOT  PC_EMP         A  2018  52.59024         NaN\n",
       "12      COL   SELFEMP     TOT  PC_EMP         A  2019  49.95089         NaN\n",
       "13      COL   SELFEMP     TOT  PC_EMP         A  2020  50.63253         NaN\n",
       "14      COL   SELFEMP     TOT  PC_EMP         A  2021  53.06787         NaN"
      ]
     },
     "execution_count": 283,
     "metadata": {},
     "output_type": "execute_result"
    }
   ],
   "source": [
    "Historico_Informalidad = pd.read_csv(\"HistInformalidad.csv\",sep=\",\")\n",
    "Historico_Informalidad"
   ]
  },
  {
   "cell_type": "code",
   "execution_count": 284,
   "id": "c9dc9bf5",
   "metadata": {},
   "outputs": [
    {
     "data": {
      "text/plain": [
       "Index(['LOCATION', 'INDICATOR', 'SUBJECT', 'MEASURE', 'FREQUENCY', 'TIME',\n",
       "       'Value', 'Flag Codes'],\n",
       "      dtype='object')"
      ]
     },
     "execution_count": 284,
     "metadata": {},
     "output_type": "execute_result"
    }
   ],
   "source": [
    "Historico_Informalidad.columns"
   ]
  },
  {
   "cell_type": "code",
   "execution_count": 285,
   "id": "745cea4a",
   "metadata": {},
   "outputs": [
    {
     "data": {
      "text/html": [
       "<div>\n",
       "<style scoped>\n",
       "    .dataframe tbody tr th:only-of-type {\n",
       "        vertical-align: middle;\n",
       "    }\n",
       "\n",
       "    .dataframe tbody tr th {\n",
       "        vertical-align: top;\n",
       "    }\n",
       "\n",
       "    .dataframe thead th {\n",
       "        text-align: right;\n",
       "    }\n",
       "</style>\n",
       "<table border=\"1\" class=\"dataframe\">\n",
       "  <thead>\n",
       "    <tr style=\"text-align: right;\">\n",
       "      <th></th>\n",
       "      <th>Year</th>\n",
       "      <th>%Informalidad</th>\n",
       "    </tr>\n",
       "  </thead>\n",
       "  <tbody>\n",
       "    <tr>\n",
       "      <th>0</th>\n",
       "      <td>2007</td>\n",
       "      <td>47.30726</td>\n",
       "    </tr>\n",
       "    <tr>\n",
       "      <th>1</th>\n",
       "      <td>2008</td>\n",
       "      <td>52.05827</td>\n",
       "    </tr>\n",
       "    <tr>\n",
       "      <th>2</th>\n",
       "      <td>2009</td>\n",
       "      <td>54.37944</td>\n",
       "    </tr>\n",
       "    <tr>\n",
       "      <th>3</th>\n",
       "      <td>2010</td>\n",
       "      <td>55.44683</td>\n",
       "    </tr>\n",
       "    <tr>\n",
       "      <th>4</th>\n",
       "      <td>2011</td>\n",
       "      <td>56.02482</td>\n",
       "    </tr>\n",
       "    <tr>\n",
       "      <th>5</th>\n",
       "      <td>2012</td>\n",
       "      <td>55.27148</td>\n",
       "    </tr>\n",
       "    <tr>\n",
       "      <th>6</th>\n",
       "      <td>2013</td>\n",
       "      <td>54.33998</td>\n",
       "    </tr>\n",
       "    <tr>\n",
       "      <th>7</th>\n",
       "      <td>2014</td>\n",
       "      <td>53.49324</td>\n",
       "    </tr>\n",
       "    <tr>\n",
       "      <th>8</th>\n",
       "      <td>2015</td>\n",
       "      <td>53.01191</td>\n",
       "    </tr>\n",
       "    <tr>\n",
       "      <th>9</th>\n",
       "      <td>2016</td>\n",
       "      <td>52.88547</td>\n",
       "    </tr>\n",
       "    <tr>\n",
       "      <th>10</th>\n",
       "      <td>2017</td>\n",
       "      <td>52.76831</td>\n",
       "    </tr>\n",
       "    <tr>\n",
       "      <th>11</th>\n",
       "      <td>2018</td>\n",
       "      <td>52.59024</td>\n",
       "    </tr>\n",
       "    <tr>\n",
       "      <th>12</th>\n",
       "      <td>2019</td>\n",
       "      <td>49.95089</td>\n",
       "    </tr>\n",
       "    <tr>\n",
       "      <th>13</th>\n",
       "      <td>2020</td>\n",
       "      <td>50.63253</td>\n",
       "    </tr>\n",
       "    <tr>\n",
       "      <th>14</th>\n",
       "      <td>2021</td>\n",
       "      <td>53.06787</td>\n",
       "    </tr>\n",
       "  </tbody>\n",
       "</table>\n",
       "</div>"
      ],
      "text/plain": [
       "    Year  %Informalidad\n",
       "0   2007       47.30726\n",
       "1   2008       52.05827\n",
       "2   2009       54.37944\n",
       "3   2010       55.44683\n",
       "4   2011       56.02482\n",
       "5   2012       55.27148\n",
       "6   2013       54.33998\n",
       "7   2014       53.49324\n",
       "8   2015       53.01191\n",
       "9   2016       52.88547\n",
       "10  2017       52.76831\n",
       "11  2018       52.59024\n",
       "12  2019       49.95089\n",
       "13  2020       50.63253\n",
       "14  2021       53.06787"
      ]
     },
     "execution_count": 285,
     "metadata": {},
     "output_type": "execute_result"
    }
   ],
   "source": [
    "Historico_Informalidad.drop(columns=['LOCATION', 'INDICATOR', 'SUBJECT', 'MEASURE', 'FREQUENCY', 'Flag Codes'], inplace=True)\n",
    "Historico_Informalidad.rename(columns={\"TIME\":\"Year\", \"Value\":\"%Informalidad\"}, inplace=True)\n",
    "Historico_Informalidad"
   ]
  },
  {
   "cell_type": "code",
   "execution_count": 286,
   "id": "cca60af3",
   "metadata": {},
   "outputs": [
    {
     "data": {
      "text/html": [
       "<div>\n",
       "<style scoped>\n",
       "    .dataframe tbody tr th:only-of-type {\n",
       "        vertical-align: middle;\n",
       "    }\n",
       "\n",
       "    .dataframe tbody tr th {\n",
       "        vertical-align: top;\n",
       "    }\n",
       "\n",
       "    .dataframe thead th {\n",
       "        text-align: right;\n",
       "    }\n",
       "</style>\n",
       "<table border=\"1\" class=\"dataframe\">\n",
       "  <thead>\n",
       "    <tr style=\"text-align: right;\">\n",
       "      <th></th>\n",
       "      <th>Year</th>\n",
       "      <th>SM</th>\n",
       "      <th>%tax</th>\n",
       "      <th>%Informalidad</th>\n",
       "    </tr>\n",
       "  </thead>\n",
       "  <tbody>\n",
       "    <tr>\n",
       "      <th>0</th>\n",
       "      <td>2021</td>\n",
       "      <td>908526</td>\n",
       "      <td>31.0</td>\n",
       "      <td>53.06787</td>\n",
       "    </tr>\n",
       "    <tr>\n",
       "      <th>1</th>\n",
       "      <td>2020</td>\n",
       "      <td>877803</td>\n",
       "      <td>32.0</td>\n",
       "      <td>50.63253</td>\n",
       "    </tr>\n",
       "    <tr>\n",
       "      <th>2</th>\n",
       "      <td>2019</td>\n",
       "      <td>828116</td>\n",
       "      <td>33.0</td>\n",
       "      <td>49.95089</td>\n",
       "    </tr>\n",
       "    <tr>\n",
       "      <th>3</th>\n",
       "      <td>2018</td>\n",
       "      <td>781242</td>\n",
       "      <td>37.0</td>\n",
       "      <td>52.59024</td>\n",
       "    </tr>\n",
       "    <tr>\n",
       "      <th>4</th>\n",
       "      <td>2017</td>\n",
       "      <td>737717</td>\n",
       "      <td>40.0</td>\n",
       "      <td>52.76831</td>\n",
       "    </tr>\n",
       "    <tr>\n",
       "      <th>5</th>\n",
       "      <td>2016</td>\n",
       "      <td>689455</td>\n",
       "      <td>40.0</td>\n",
       "      <td>52.88547</td>\n",
       "    </tr>\n",
       "    <tr>\n",
       "      <th>6</th>\n",
       "      <td>2015</td>\n",
       "      <td>644350</td>\n",
       "      <td>39.0</td>\n",
       "      <td>53.01191</td>\n",
       "    </tr>\n",
       "    <tr>\n",
       "      <th>7</th>\n",
       "      <td>2014</td>\n",
       "      <td>616000</td>\n",
       "      <td>34.0</td>\n",
       "      <td>53.49324</td>\n",
       "    </tr>\n",
       "    <tr>\n",
       "      <th>8</th>\n",
       "      <td>2013</td>\n",
       "      <td>589500</td>\n",
       "      <td>34.0</td>\n",
       "      <td>54.33998</td>\n",
       "    </tr>\n",
       "    <tr>\n",
       "      <th>9</th>\n",
       "      <td>2012</td>\n",
       "      <td>566700</td>\n",
       "      <td>33.0</td>\n",
       "      <td>55.27148</td>\n",
       "    </tr>\n",
       "    <tr>\n",
       "      <th>10</th>\n",
       "      <td>2011</td>\n",
       "      <td>535600</td>\n",
       "      <td>33.0</td>\n",
       "      <td>56.02482</td>\n",
       "    </tr>\n",
       "    <tr>\n",
       "      <th>11</th>\n",
       "      <td>2010</td>\n",
       "      <td>515000</td>\n",
       "      <td>33.0</td>\n",
       "      <td>55.44683</td>\n",
       "    </tr>\n",
       "    <tr>\n",
       "      <th>12</th>\n",
       "      <td>2009</td>\n",
       "      <td>496900</td>\n",
       "      <td>33.0</td>\n",
       "      <td>54.37944</td>\n",
       "    </tr>\n",
       "    <tr>\n",
       "      <th>13</th>\n",
       "      <td>2008</td>\n",
       "      <td>461500</td>\n",
       "      <td>33.0</td>\n",
       "      <td>52.05827</td>\n",
       "    </tr>\n",
       "    <tr>\n",
       "      <th>14</th>\n",
       "      <td>2007</td>\n",
       "      <td>433700</td>\n",
       "      <td>34.0</td>\n",
       "      <td>47.30726</td>\n",
       "    </tr>\n",
       "  </tbody>\n",
       "</table>\n",
       "</div>"
      ],
      "text/plain": [
       "    Year      SM  %tax  %Informalidad\n",
       "0   2021  908526  31.0       53.06787\n",
       "1   2020  877803  32.0       50.63253\n",
       "2   2019  828116  33.0       49.95089\n",
       "3   2018  781242  37.0       52.59024\n",
       "4   2017  737717  40.0       52.76831\n",
       "5   2016  689455  40.0       52.88547\n",
       "6   2015  644350  39.0       53.01191\n",
       "7   2014  616000  34.0       53.49324\n",
       "8   2013  589500  34.0       54.33998\n",
       "9   2012  566700  33.0       55.27148\n",
       "10  2011  535600  33.0       56.02482\n",
       "11  2010  515000  33.0       55.44683\n",
       "12  2009  496900  33.0       54.37944\n",
       "13  2008  461500  33.0       52.05827\n",
       "14  2007  433700  34.0       47.30726"
      ]
     },
     "execution_count": 286,
     "metadata": {},
     "output_type": "execute_result"
    }
   ],
   "source": [
    "Historicos_Colombia = pd.merge(Historicos_Colombia,Historico_Informalidad, on=[\"Year\"])\n",
    "Historicos_Colombia"
   ]
  },
  {
   "cell_type": "code",
   "execution_count": null,
   "id": "4f437469",
   "metadata": {},
   "outputs": [],
   "source": []
  }
 ],
 "metadata": {
  "kernelspec": {
   "display_name": "Python 3 (ipykernel)",
   "language": "python",
   "name": "python3"
  },
  "language_info": {
   "codemirror_mode": {
    "name": "ipython",
    "version": 3
   },
   "file_extension": ".py",
   "mimetype": "text/x-python",
   "name": "python",
   "nbconvert_exporter": "python",
   "pygments_lexer": "ipython3",
   "version": "3.11.4"
  }
 },
 "nbformat": 4,
 "nbformat_minor": 5
}
