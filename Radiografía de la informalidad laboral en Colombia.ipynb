{
 "cells": [
  {
   "cell_type": "markdown",
   "id": "af9c1068",
   "metadata": {},
   "source": [
    "# RADIOGRAFÍA DE LA INFORMALIDAD LABORAL EN COLOMBIA -  2022"
   ]
  },
  {
   "cell_type": "markdown",
   "id": "3e86ebf2",
   "metadata": {},
   "source": [
    "La informalidad laboral en el país es un problema que no ha dado tregua durante el tiempo, y pareciera que nadie en el gobierno tuviera intención de implementar políticas que propicien el empleo formal en detrimento de la informalidad. Por el contrario, se empeñan en generar el efecto contrario como lo es con el caso de la Reforma Laboral presenta, que, de acuerdo con estimaciones del Banco de la República (2023), reduciría 2,1% la tasa de formalidad. De igual forma, no se debe dejar de lado que las discusiones sobre el mercado laboral generan tensiones en la opinión pública, lo que ha dificultado la implementación de políticas públicas. \n",
    "\n",
    "Por otro lado, esta situación del mercado laboral colombiano demuestra un rezago frente a otros países desarrollados y en desarrollo, tomando las posiciones de la última fila en lo que concierne a los indicadores económicos de los países que pertenecen a la OCDE (Organización para la Cooperación y el Desarrollo Económicos), organización de la que hace parte Colombia desde 2018. Para poner en contexto, así están las cifras:\n"
   ]
  },
  {
   "cell_type": "markdown",
   "id": "c5877f64",
   "metadata": {},
   "source": [
    "<img src=\"informalidadocde.jpg\">\n",
    "\n",
    "*no incluye Turquía ni Islandia por falta de datos actualizados o disponibles."
   ]
  },
  {
   "cell_type": "markdown",
   "id": "3eed73a9",
   "metadata": {},
   "source": [
    "Colombia no solo ocupa el peor lugar en informalidad laboral, sino que la diferencia con el siguiente lugar es de por lo menos 20 puntos porcentuales; y para no salirnos del continente, se puede observar la distancia de Colombia con  México, Costa Rica y Chile, países que cuentan con ciertas dinámicas económicas y sociales similares al país, más que con los países europeos.\n",
    "\n",
    "Otro indicador que nos pone en el extremo es el salario mínimo, el cual nominalmente es el más alto, así como su proporción frente al salario medio del país. El salario mínimo es uno de los factores que dan rigidez al mercado laboral colombiano, en el que, por ejemplo, un trabajador independiente percibe un ingreso por debajo del salario mínimo tuviera intención de insertarse al mercado formal, su contribución aumentaría inversamente a su ingreso (PNUD,2021). De ahí que, como también afirma el estudio del PNUD(2021), el sistema contributivo de seguridad social (cuyos cálculos se dan apartir del SMLV) propicia la informalidad."
   ]
  },
  {
   "cell_type": "markdown",
   "id": "b524cc09",
   "metadata": {},
   "source": [
    "<img src=\"smocde.jpg\">"
   ]
  },
  {
   "cell_type": "markdown",
   "id": "9d004ef2",
   "metadata": {},
   "source": [
    "El anterior gráfico expone la relación del salario mínimo con respecto al salario medio, siendo esta proporción desfasada en Colombia. De acuerdo con el PNUD(2021), el 50% de los ocupados en Colombia recibe el salario mínimo o menos y el 25% menos del SMLV. En este sentido, en la siguiente gráfica se puede evidenciar que en la mayoría de departamentos el salario promedio está por debajo del salario mínimo, que en 2022 estaba en 1.000.000COP, reflejándose que el SMLV no se corresponde con las dinámicas laborales particulares de cada territorio. Cabe mencionar que los países sin dato es porque no cuentan con salario mínimo estipulado por ley, por lo que su valor es 0."
   ]
  },
  {
   "cell_type": "markdown",
   "id": "5e6171be",
   "metadata": {},
   "source": [
    "<img src=\"SMdepartamento.jpg\">"
   ]
  },
  {
   "cell_type": "markdown",
   "id": "f1a2243a",
   "metadata": {},
   "source": [
    "Así mismo, se podría hacer el contraste el gráfico anterior con la informalidad por cada departamento, en los que la informalidad es alta al mismo tiempo que el salario promedio se aleja del salario mínimo."
   ]
  },
  {
   "cell_type": "markdown",
   "id": "d5beff17",
   "metadata": {},
   "source": [
    "<img src=\"Mapadptos.jpg\" alt=\"imagenmapa\">"
   ]
  },
  {
   "cell_type": "markdown",
   "id": "f69d4661",
   "metadata": {},
   "source": [
    "En este mapa se  manifiestan ligeramente algunos patrones, como la menor informalidad hacia el oriente  del país, lo que podría ser  explicado, por ejemplo, por las empresas extractivas de recursos naturales, agroindustria y ganadería. Hacia el occidente, en cambio, se alcanza a notar mayor informalidad, excepto por Antioquia y Valle del Cauca. Hacia el centro, incluyendo Bogota, es menor la informalidad. Llama la atención que hay un atisbo de diferencia centro-periferia, exceptuando al amazonas y departamentos del oriente. En amazonas, puede que la baja informalidad esté causada por  el turismo, no obstante, otros departamentos con alto turismo como Atlántico (Cartagena) cuentan con informalidad más alta. Entonces, hacia estas partes la formalidad también podría estar jalonada por el  empleo público. Adicionalmente, es importante mencionar que algunos departamentos como amazonas tienen menor representatividad y puede haber sesgos de selección. "
   ]
  },
  {
   "cell_type": "markdown",
   "id": "67a35cbc",
   "metadata": {},
   "source": [
    "Por otra parte, y sospechando que Colombia quiere ser el outlier de la OCDE, otro factor que se ha relacionado con la informalidad es el impuesto de renta a las empresas, y apesar de que no existen resultados concluyentes sobre su impacto en la formalidad, se pueden dar impactos indirectos como el desincentivo a la inversión privada. También, intuitivamente se podría afirmar que el alto costo de formalizar empresa inhibe que los empleadores informales inserten sus empresas al sector formal. De hecho, una de los criterios de informalidad del DANE es aquel en el que estos tienen negocios que no cuentan con registro mercantil, inscripción a la cámara de comercio o una contabilidad que les permita separar los gastos. De ahí que este impuesto tendería a constituir una barrera de entrada al mercado formal por parte de empleadores. Ahora sí, los datos:"
   ]
  },
  {
   "cell_type": "markdown",
   "id": "cfd1bb3d",
   "metadata": {},
   "source": [
    "<img src=\"corporatetax.jpg\">"
   ]
  },
  {
   "cell_type": "markdown",
   "id": "3e4bb7e3",
   "metadata": {},
   "source": [
    "Con respecto a que el impacto del impuesto de renta a empresas en la informalidad en Colombia no es concluyente, se puede analizar el siguiente gráfico, en el que incluso se alcanza a percibir un comportamiento inverso durante el tiempo."
   ]
  },
  {
   "cell_type": "markdown",
   "id": "23d6ef69",
   "metadata": {},
   "source": [
    "<img src=\"Historico2.jpg\">"
   ]
  },
  {
   "cell_type": "markdown",
   "id": "4a56cb29",
   "metadata": {},
   "source": [
    "Pero en contrapartida, también está el siguiente gráfico que demuestra una correlación positiva no poco  importante entre la informalidad y el impuesto de renta a empresas."
   ]
  },
  {
   "cell_type": "markdown",
   "id": "cb190065",
   "metadata": {},
   "source": [
    "<img src=\"mapacorr.jpg\">"
   ]
  },
  {
   "cell_type": "markdown",
   "id": "777779a0",
   "metadata": {},
   "source": [
    "# entrando en detalle..."
   ]
  },
  {
   "cell_type": "markdown",
   "id": "7e1188b2",
   "metadata": {},
   "source": [
    "La informalidad no es homogénea,¿en qué sentido?....que no a todos los colombianos \"les pega\" igual. Veamos."
   ]
  },
  {
   "cell_type": "markdown",
   "id": "908d353a",
   "metadata": {},
   "source": [
    "<img src=\"Sexos.jpg\">\n"
   ]
  },
  {
   "cell_type": "markdown",
   "id": "015966a3",
   "metadata": {},
   "source": [
    "La informalidad en los hombres es mayor que en la mujer. Lanzando hipótesis, esto se puede deber a que es mayor la cantidad de hombres que se encuentran activos en el mercado laboral, mientras que las mujeres podrían estar inactivas por fuera del mercado. De igual forma, en el gráfico posterior, está el porcentaje de informalidad por sexo en relación con la informalidad nacional; es  decir que del 53% de informalidad de 2022, 46% eran mujeres y 54% hombres. "
   ]
  },
  {
   "cell_type": "markdown",
   "id": "06eece74",
   "metadata": {},
   "source": [
    "<img src=\"Proporcionsexo.jpg\">"
   ]
  },
  {
   "cell_type": "markdown",
   "id": "ed1059a7",
   "metadata": {},
   "source": [
    "Adicionalmente, existe una diferencia entre los niveles educativos, donde quienes no tienen ningún nivel de estudio son más informales, mientras que la proporción de informales con educación superior es menor.\n"
   ]
  },
  {
   "cell_type": "markdown",
   "id": "cf0a950b",
   "metadata": {},
   "source": [
    "<img src=\"Educacion.jpg\">\n"
   ]
  },
  {
   "cell_type": "markdown",
   "id": "14a9f725",
   "metadata": {},
   "source": [
    "*Secundaria≤ son todos los niveles por debajo de la media secundaria\n",
    "*Bachillerato incluye bachillerato técnico\n",
    "*SuperiorT son los niveles Técnico,Normalista y Tecnológico\n",
    "*Superior es universitario\n",
    "*Superior+ incluye maestría, especialización y doctorado\n",
    "\n",
    "Se puede concluir pues, que entre mayor sea el nivel educativo alcanzado, será menor la informalidad en ete grupo poblacional."
   ]
  },
  {
   "cell_type": "markdown",
   "id": "b3fbad87",
   "metadata": {},
   "source": [
    "Colombia es país con bastantes minorías, siendo las que tienen mayor población los afrocolombianos, mulatos e indígenas. Así, es importante contrastar cómo se comporta la informalidad en estos grupos."
   ]
  },
  {
   "cell_type": "markdown",
   "id": "edd24c19",
   "metadata": {},
   "source": [
    "<img src=\"Etniasgrafico.jpg\">"
   ]
  },
  {
   "cell_type": "markdown",
   "id": "001b03b3",
   "metadata": {},
   "source": [
    "La variable \"Ninguno\" se refiere a aquellas personas que no se identifican con alguna etnia, entre las cuales están: afros, mulatos, palenqueros, indígenas, raizales, gitanos. Las  personas no identificadas con estas etnias tienen menor informalidad, y por el contrario, la etnia indígena tiene un alto porcentaje de informalidad. Por tanto, es menester que las políticas públicas sean focalizadas, con el fin de diagnosticar y resolver aquellas condiciones que puedan estar poniendo en desventaja a los Afros,Mulatos e indígenas."
   ]
  },
  {
   "cell_type": "markdown",
   "id": "1ad0c76c",
   "metadata": {},
   "source": [
    "# después de plantearme varias hipótesis..."
   ]
  },
  {
   "cell_type": "markdown",
   "id": "0f9b90c9",
   "metadata": {},
   "source": [
    "parece que tendré algunas respuestas. Apartir de un modelo logit con las variables de departamento, etnia, sexo, jefe de hogar y nivel educativo, se evaluó la probabilidad de ser informal influenciada por las variables mencionadas, con un escenario base de no identificarse con una etnia, tener nivel universitario, ser hombre y vivir en Bogotá. Estos fueron los resultados, arrojando los efectos marginales y se extrajeron las variables no significativas)"
   ]
  },
  {
   "cell_type": "markdown",
   "id": "31af523a",
   "metadata": {},
   "source": [
    "<img src=\"EM.jpg\">"
   ]
  },
  {
   "cell_type": "markdown",
   "id": "00b1ad46",
   "metadata": {},
   "source": [
    "Resultados:  \n",
    "**-Ser mujer disminuye la probabilidad de ser informal en un 4%  \n",
    "-Ser jefe de hogar disminuye la probabilidad de ser informal en un 1%  \n",
    "-Ser indígena aumenta  la probabilidad de ser informal en 1%  \n",
    "-Ser afro o mulato aumenta la probabilidad de ser informal en un 1%  \n",
    "-Con respecto a los departamentos, aquellos que disminuyen la probabilidad de ser informal en mayor medida son Antioquia, Caldas, Valle y Vaupes, y por el contrario, ser de Norte de Santander aumenta la probabilidad de serlo en un 2%.  \n",
    "-Tener doctorado, maestría y especialización disminuyen la probabilidad de ser informal en más de un 20%. En contrapartida, haber alcanzado solo hasta bachillerato aumenta la probabilidad en más de un 10%**  \n",
    "\n",
    "-Algunos departamentos con informalidad alta como putumayo pero que el modelo arroja disminuir la probabilidad de  informalidad con respecto a Bogotá, se relaciona con la representatividad, pues no todos los departamentos tienen el mismo peso en la informalidad nacional como se evidencia en el siguiente gráfico.\n",
    "\n",
    "\n",
    "\n",
    "<img src=\"proporciones.jpg\">\n",
    "\n",
    "\n",
    "\n",
    "\n"
   ]
  },
  {
   "cell_type": "markdown",
   "id": "75e39e22",
   "metadata": {},
   "source": [
    "# entonces..."
   ]
  },
  {
   "cell_type": "markdown",
   "id": "3f578bd7",
   "metadata": {},
   "source": [
    "Es importante que el gobierno, así como administraciones locales, inserten con ahinco el tema de la informalidad laboral en sus agendas políticas. Entiendo que este no es un problema que afecta por igual a toda la población, por lo que es estrictamente necesario el uso de herramientas y métodos de focalización para tener mejores impactos. \n",
    "\n",
    "La informalidad laboral trae consigo varias complicaciones como la precarización laboral y la desprotección del trabajador porque no cotiza salud ni pensión. Esto último trae repercusiones sobre otros rubros como el sistema pensional(en referencia a Colpensiones), que por el bajo crecimiento poblacional, no tendrá cómo  responder por las pensiones en unos años y ejercerá mayor presión fiscal. Así, es fundamental mejorar las condiciones de los trabajadores informales, así como de buscar más cotizaciones a pensión y salud para reducir, entre otros, el déficit fiscal. \n",
    "\n",
    "Por último, es importante que en la toma de decisiones sobre mercado laboral participen personas informales, pues se regula en función de los formales, evidenciándose la relación del salario mínimo con los salarios promedio de los departamentos."
   ]
  },
  {
   "cell_type": "code",
   "execution_count": null,
   "id": "df5e45cb",
   "metadata": {},
   "outputs": [],
   "source": []
  }
 ],
 "metadata": {
  "kernelspec": {
   "display_name": "Python 3 (ipykernel)",
   "language": "python",
   "name": "python3"
  },
  "language_info": {
   "codemirror_mode": {
    "name": "ipython",
    "version": 3
   },
   "file_extension": ".py",
   "mimetype": "text/x-python",
   "name": "python",
   "nbconvert_exporter": "python",
   "pygments_lexer": "ipython3",
   "version": "3.11.4"
  }
 },
 "nbformat": 4,
 "nbformat_minor": 5
}
